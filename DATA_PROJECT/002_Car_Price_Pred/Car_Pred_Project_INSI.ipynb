{
 "cells": [
  {
   "cell_type": "markdown",
   "id": "dd02bc0f",
   "metadata": {},
   "source": [
    "# TRANSPORTAION PROJECT INSI\n"
   ]
  },
  {
   "cell_type": "markdown",
   "id": "c67a2b46",
   "metadata": {},
   "source": [
    "Cahier de CHarge "
   ]
  },
  {
   "cell_type": "code",
   "execution_count": 1,
   "id": "b3cf67a9",
   "metadata": {},
   "outputs": [
    {
     "name": "stderr",
     "output_type": "stream",
     "text": [
      "<frozen importlib._bootstrap>:228: RuntimeWarning: scipy._lib.messagestream.MessageStream size changed, may indicate binary incompatibility. Expected 56 from C header, got 64 from PyObject\n"
     ]
    }
   ],
   "source": [
    "import pandas as pd\n",
    "import numpy as np\n",
    "import matplotlib.pyplot as plt\n",
    "import seaborn as sns"
   ]
  },
  {
   "cell_type": "code",
   "execution_count": 3,
   "id": "74e07c38",
   "metadata": {},
   "outputs": [],
   "source": [
    "#Importation du dataset\n",
    "data=pd.read_csv('Dataset/train-data.csv')"
   ]
  },
  {
   "cell_type": "markdown",
   "id": "5e642617",
   "metadata": {},
   "source": [
    "### INFORMATION SUR LE DATASET   NON-NETTOYER"
   ]
  },
  {
   "cell_type": "code",
   "execution_count": 4,
   "id": "9683aa3f",
   "metadata": {},
   "outputs": [
    {
     "name": "stdout",
     "output_type": "stream",
     "text": [
      "<class 'pandas.core.frame.DataFrame'>\n",
      "RangeIndex: 6019 entries, 0 to 6018\n",
      "Data columns (total 14 columns):\n",
      " #   Column             Non-Null Count  Dtype  \n",
      "---  ------             --------------  -----  \n",
      " 0   Unnamed: 0         6019 non-null   int64  \n",
      " 1   Name               6019 non-null   object \n",
      " 2   Location           6019 non-null   object \n",
      " 3   Year               6019 non-null   int64  \n",
      " 4   Kilometers_Driven  6019 non-null   int64  \n",
      " 5   Fuel_Type          6019 non-null   object \n",
      " 6   Transmission       6019 non-null   object \n",
      " 7   Owner_Type         6019 non-null   object \n",
      " 8   Mileage            6017 non-null   object \n",
      " 9   Engine             5983 non-null   object \n",
      " 10  Power              5983 non-null   object \n",
      " 11  Seats              5977 non-null   float64\n",
      " 12  New_Price          824 non-null    object \n",
      " 13  Price              6019 non-null   float64\n",
      "dtypes: float64(2), int64(3), object(9)\n",
      "memory usage: 658.5+ KB\n"
     ]
    }
   ],
   "source": [
    "#Information sur le dataset\n",
    "data.info()"
   ]
  },
  {
   "cell_type": "code",
   "execution_count": 5,
   "id": "083fdf16",
   "metadata": {},
   "outputs": [
    {
     "data": {
      "text/html": [
       "<div>\n",
       "<style scoped>\n",
       "    .dataframe tbody tr th:only-of-type {\n",
       "        vertical-align: middle;\n",
       "    }\n",
       "\n",
       "    .dataframe tbody tr th {\n",
       "        vertical-align: top;\n",
       "    }\n",
       "\n",
       "    .dataframe thead th {\n",
       "        text-align: right;\n",
       "    }\n",
       "</style>\n",
       "<table border=\"1\" class=\"dataframe\">\n",
       "  <thead>\n",
       "    <tr style=\"text-align: right;\">\n",
       "      <th></th>\n",
       "      <th>Unnamed: 0</th>\n",
       "      <th>Year</th>\n",
       "      <th>Kilometers_Driven</th>\n",
       "      <th>Seats</th>\n",
       "      <th>Price</th>\n",
       "    </tr>\n",
       "  </thead>\n",
       "  <tbody>\n",
       "    <tr>\n",
       "      <th>count</th>\n",
       "      <td>6019.000000</td>\n",
       "      <td>6019.000000</td>\n",
       "      <td>6.019000e+03</td>\n",
       "      <td>5977.000000</td>\n",
       "      <td>6019.000000</td>\n",
       "    </tr>\n",
       "    <tr>\n",
       "      <th>mean</th>\n",
       "      <td>3009.000000</td>\n",
       "      <td>2013.358199</td>\n",
       "      <td>5.873838e+04</td>\n",
       "      <td>5.278735</td>\n",
       "      <td>9.479468</td>\n",
       "    </tr>\n",
       "    <tr>\n",
       "      <th>std</th>\n",
       "      <td>1737.679967</td>\n",
       "      <td>3.269742</td>\n",
       "      <td>9.126884e+04</td>\n",
       "      <td>0.808840</td>\n",
       "      <td>11.187917</td>\n",
       "    </tr>\n",
       "    <tr>\n",
       "      <th>min</th>\n",
       "      <td>0.000000</td>\n",
       "      <td>1998.000000</td>\n",
       "      <td>1.710000e+02</td>\n",
       "      <td>0.000000</td>\n",
       "      <td>0.440000</td>\n",
       "    </tr>\n",
       "    <tr>\n",
       "      <th>25%</th>\n",
       "      <td>1504.500000</td>\n",
       "      <td>2011.000000</td>\n",
       "      <td>3.400000e+04</td>\n",
       "      <td>5.000000</td>\n",
       "      <td>3.500000</td>\n",
       "    </tr>\n",
       "    <tr>\n",
       "      <th>50%</th>\n",
       "      <td>3009.000000</td>\n",
       "      <td>2014.000000</td>\n",
       "      <td>5.300000e+04</td>\n",
       "      <td>5.000000</td>\n",
       "      <td>5.640000</td>\n",
       "    </tr>\n",
       "    <tr>\n",
       "      <th>75%</th>\n",
       "      <td>4513.500000</td>\n",
       "      <td>2016.000000</td>\n",
       "      <td>7.300000e+04</td>\n",
       "      <td>5.000000</td>\n",
       "      <td>9.950000</td>\n",
       "    </tr>\n",
       "    <tr>\n",
       "      <th>max</th>\n",
       "      <td>6018.000000</td>\n",
       "      <td>2019.000000</td>\n",
       "      <td>6.500000e+06</td>\n",
       "      <td>10.000000</td>\n",
       "      <td>160.000000</td>\n",
       "    </tr>\n",
       "  </tbody>\n",
       "</table>\n",
       "</div>"
      ],
      "text/plain": [
       "        Unnamed: 0         Year  Kilometers_Driven        Seats        Price\n",
       "count  6019.000000  6019.000000       6.019000e+03  5977.000000  6019.000000\n",
       "mean   3009.000000  2013.358199       5.873838e+04     5.278735     9.479468\n",
       "std    1737.679967     3.269742       9.126884e+04     0.808840    11.187917\n",
       "min       0.000000  1998.000000       1.710000e+02     0.000000     0.440000\n",
       "25%    1504.500000  2011.000000       3.400000e+04     5.000000     3.500000\n",
       "50%    3009.000000  2014.000000       5.300000e+04     5.000000     5.640000\n",
       "75%    4513.500000  2016.000000       7.300000e+04     5.000000     9.950000\n",
       "max    6018.000000  2019.000000       6.500000e+06    10.000000   160.000000"
      ]
     },
     "execution_count": 5,
     "metadata": {},
     "output_type": "execute_result"
    }
   ],
   "source": [
    "#Description sur l'ensemble de données\n",
    "data.describe()"
   ]
  },
  {
   "cell_type": "code",
   "execution_count": 6,
   "id": "4e634609",
   "metadata": {},
   "outputs": [
    {
     "data": {
      "text/plain": [
       "Unnamed: 0              0\n",
       "Name                    0\n",
       "Location                0\n",
       "Year                    0\n",
       "Kilometers_Driven       0\n",
       "Fuel_Type               0\n",
       "Transmission            0\n",
       "Owner_Type              0\n",
       "Mileage                 2\n",
       "Engine                 36\n",
       "Power                  36\n",
       "Seats                  42\n",
       "New_Price            5195\n",
       "Price                   0\n",
       "dtype: int64"
      ]
     },
     "execution_count": 6,
     "metadata": {},
     "output_type": "execute_result"
    }
   ],
   "source": [
    "# Comptage s'il y a des valeurs manquante dans l'ensemble de données\n",
    "data.isnull().sum()"
   ]
  },
  {
   "cell_type": "markdown",
   "id": "74a5bdaf",
   "metadata": {},
   "source": [
    "Le DATASET contient ddes valeurs manquantes; Cependant, on va passér à la nettoyage de données"
   ]
  },
  {
   "cell_type": "markdown",
   "id": "f6f120be",
   "metadata": {},
   "source": [
    "## Nettoyage du Dataset"
   ]
  },
  {
   "cell_type": "code",
   "execution_count": 7,
   "id": "f907f378",
   "metadata": {},
   "outputs": [
    {
     "data": {
      "text/html": [
       "<div>\n",
       "<style scoped>\n",
       "    .dataframe tbody tr th:only-of-type {\n",
       "        vertical-align: middle;\n",
       "    }\n",
       "\n",
       "    .dataframe tbody tr th {\n",
       "        vertical-align: top;\n",
       "    }\n",
       "\n",
       "    .dataframe thead th {\n",
       "        text-align: right;\n",
       "    }\n",
       "</style>\n",
       "<table border=\"1\" class=\"dataframe\">\n",
       "  <thead>\n",
       "    <tr style=\"text-align: right;\">\n",
       "      <th></th>\n",
       "      <th>Unnamed: 0</th>\n",
       "      <th>Name</th>\n",
       "      <th>Location</th>\n",
       "      <th>Year</th>\n",
       "      <th>Kilometers_Driven</th>\n",
       "      <th>Fuel_Type</th>\n",
       "      <th>Transmission</th>\n",
       "      <th>Owner_Type</th>\n",
       "      <th>Mileage</th>\n",
       "      <th>Engine</th>\n",
       "      <th>Power</th>\n",
       "      <th>Seats</th>\n",
       "      <th>Price</th>\n",
       "    </tr>\n",
       "  </thead>\n",
       "  <tbody>\n",
       "    <tr>\n",
       "      <th>0</th>\n",
       "      <td>0</td>\n",
       "      <td>Maruti Wagon R LXI CNG</td>\n",
       "      <td>Mumbai</td>\n",
       "      <td>2010</td>\n",
       "      <td>72000</td>\n",
       "      <td>CNG</td>\n",
       "      <td>Manual</td>\n",
       "      <td>First</td>\n",
       "      <td>26.6 km/kg</td>\n",
       "      <td>998 CC</td>\n",
       "      <td>58.16 bhp</td>\n",
       "      <td>5.0</td>\n",
       "      <td>1.75</td>\n",
       "    </tr>\n",
       "    <tr>\n",
       "      <th>1</th>\n",
       "      <td>1</td>\n",
       "      <td>Hyundai Creta 1.6 CRDi SX Option</td>\n",
       "      <td>Pune</td>\n",
       "      <td>2015</td>\n",
       "      <td>41000</td>\n",
       "      <td>Diesel</td>\n",
       "      <td>Manual</td>\n",
       "      <td>First</td>\n",
       "      <td>19.67 kmpl</td>\n",
       "      <td>1582 CC</td>\n",
       "      <td>126.2 bhp</td>\n",
       "      <td>5.0</td>\n",
       "      <td>12.50</td>\n",
       "    </tr>\n",
       "    <tr>\n",
       "      <th>2</th>\n",
       "      <td>2</td>\n",
       "      <td>Honda Jazz V</td>\n",
       "      <td>Chennai</td>\n",
       "      <td>2011</td>\n",
       "      <td>46000</td>\n",
       "      <td>Petrol</td>\n",
       "      <td>Manual</td>\n",
       "      <td>First</td>\n",
       "      <td>18.2 kmpl</td>\n",
       "      <td>1199 CC</td>\n",
       "      <td>88.7 bhp</td>\n",
       "      <td>5.0</td>\n",
       "      <td>4.50</td>\n",
       "    </tr>\n",
       "    <tr>\n",
       "      <th>3</th>\n",
       "      <td>3</td>\n",
       "      <td>Maruti Ertiga VDI</td>\n",
       "      <td>Chennai</td>\n",
       "      <td>2012</td>\n",
       "      <td>87000</td>\n",
       "      <td>Diesel</td>\n",
       "      <td>Manual</td>\n",
       "      <td>First</td>\n",
       "      <td>20.77 kmpl</td>\n",
       "      <td>1248 CC</td>\n",
       "      <td>88.76 bhp</td>\n",
       "      <td>7.0</td>\n",
       "      <td>6.00</td>\n",
       "    </tr>\n",
       "    <tr>\n",
       "      <th>4</th>\n",
       "      <td>4</td>\n",
       "      <td>Audi A4 New 2.0 TDI Multitronic</td>\n",
       "      <td>Coimbatore</td>\n",
       "      <td>2013</td>\n",
       "      <td>40670</td>\n",
       "      <td>Diesel</td>\n",
       "      <td>Automatic</td>\n",
       "      <td>Second</td>\n",
       "      <td>15.2 kmpl</td>\n",
       "      <td>1968 CC</td>\n",
       "      <td>140.8 bhp</td>\n",
       "      <td>5.0</td>\n",
       "      <td>17.74</td>\n",
       "    </tr>\n",
       "    <tr>\n",
       "      <th>...</th>\n",
       "      <td>...</td>\n",
       "      <td>...</td>\n",
       "      <td>...</td>\n",
       "      <td>...</td>\n",
       "      <td>...</td>\n",
       "      <td>...</td>\n",
       "      <td>...</td>\n",
       "      <td>...</td>\n",
       "      <td>...</td>\n",
       "      <td>...</td>\n",
       "      <td>...</td>\n",
       "      <td>...</td>\n",
       "      <td>...</td>\n",
       "    </tr>\n",
       "    <tr>\n",
       "      <th>6014</th>\n",
       "      <td>6014</td>\n",
       "      <td>Maruti Swift VDI</td>\n",
       "      <td>Delhi</td>\n",
       "      <td>2014</td>\n",
       "      <td>27365</td>\n",
       "      <td>Diesel</td>\n",
       "      <td>Manual</td>\n",
       "      <td>First</td>\n",
       "      <td>28.4 kmpl</td>\n",
       "      <td>1248 CC</td>\n",
       "      <td>74 bhp</td>\n",
       "      <td>5.0</td>\n",
       "      <td>4.75</td>\n",
       "    </tr>\n",
       "    <tr>\n",
       "      <th>6015</th>\n",
       "      <td>6015</td>\n",
       "      <td>Hyundai Xcent 1.1 CRDi S</td>\n",
       "      <td>Jaipur</td>\n",
       "      <td>2015</td>\n",
       "      <td>100000</td>\n",
       "      <td>Diesel</td>\n",
       "      <td>Manual</td>\n",
       "      <td>First</td>\n",
       "      <td>24.4 kmpl</td>\n",
       "      <td>1120 CC</td>\n",
       "      <td>71 bhp</td>\n",
       "      <td>5.0</td>\n",
       "      <td>4.00</td>\n",
       "    </tr>\n",
       "    <tr>\n",
       "      <th>6016</th>\n",
       "      <td>6016</td>\n",
       "      <td>Mahindra Xylo D4 BSIV</td>\n",
       "      <td>Jaipur</td>\n",
       "      <td>2012</td>\n",
       "      <td>55000</td>\n",
       "      <td>Diesel</td>\n",
       "      <td>Manual</td>\n",
       "      <td>Second</td>\n",
       "      <td>14.0 kmpl</td>\n",
       "      <td>2498 CC</td>\n",
       "      <td>112 bhp</td>\n",
       "      <td>8.0</td>\n",
       "      <td>2.90</td>\n",
       "    </tr>\n",
       "    <tr>\n",
       "      <th>6017</th>\n",
       "      <td>6017</td>\n",
       "      <td>Maruti Wagon R VXI</td>\n",
       "      <td>Kolkata</td>\n",
       "      <td>2013</td>\n",
       "      <td>46000</td>\n",
       "      <td>Petrol</td>\n",
       "      <td>Manual</td>\n",
       "      <td>First</td>\n",
       "      <td>18.9 kmpl</td>\n",
       "      <td>998 CC</td>\n",
       "      <td>67.1 bhp</td>\n",
       "      <td>5.0</td>\n",
       "      <td>2.65</td>\n",
       "    </tr>\n",
       "    <tr>\n",
       "      <th>6018</th>\n",
       "      <td>6018</td>\n",
       "      <td>Chevrolet Beat Diesel</td>\n",
       "      <td>Hyderabad</td>\n",
       "      <td>2011</td>\n",
       "      <td>47000</td>\n",
       "      <td>Diesel</td>\n",
       "      <td>Manual</td>\n",
       "      <td>First</td>\n",
       "      <td>25.44 kmpl</td>\n",
       "      <td>936 CC</td>\n",
       "      <td>57.6 bhp</td>\n",
       "      <td>5.0</td>\n",
       "      <td>2.50</td>\n",
       "    </tr>\n",
       "  </tbody>\n",
       "</table>\n",
       "<p>6019 rows × 13 columns</p>\n",
       "</div>"
      ],
      "text/plain": [
       "      Unnamed: 0                              Name    Location  Year  \\\n",
       "0              0            Maruti Wagon R LXI CNG      Mumbai  2010   \n",
       "1              1  Hyundai Creta 1.6 CRDi SX Option        Pune  2015   \n",
       "2              2                      Honda Jazz V     Chennai  2011   \n",
       "3              3                 Maruti Ertiga VDI     Chennai  2012   \n",
       "4              4   Audi A4 New 2.0 TDI Multitronic  Coimbatore  2013   \n",
       "...          ...                               ...         ...   ...   \n",
       "6014        6014                  Maruti Swift VDI       Delhi  2014   \n",
       "6015        6015          Hyundai Xcent 1.1 CRDi S      Jaipur  2015   \n",
       "6016        6016             Mahindra Xylo D4 BSIV      Jaipur  2012   \n",
       "6017        6017                Maruti Wagon R VXI     Kolkata  2013   \n",
       "6018        6018             Chevrolet Beat Diesel   Hyderabad  2011   \n",
       "\n",
       "      Kilometers_Driven Fuel_Type Transmission Owner_Type     Mileage  \\\n",
       "0                 72000       CNG       Manual      First  26.6 km/kg   \n",
       "1                 41000    Diesel       Manual      First  19.67 kmpl   \n",
       "2                 46000    Petrol       Manual      First   18.2 kmpl   \n",
       "3                 87000    Diesel       Manual      First  20.77 kmpl   \n",
       "4                 40670    Diesel    Automatic     Second   15.2 kmpl   \n",
       "...                 ...       ...          ...        ...         ...   \n",
       "6014              27365    Diesel       Manual      First   28.4 kmpl   \n",
       "6015             100000    Diesel       Manual      First   24.4 kmpl   \n",
       "6016              55000    Diesel       Manual     Second   14.0 kmpl   \n",
       "6017              46000    Petrol       Manual      First   18.9 kmpl   \n",
       "6018              47000    Diesel       Manual      First  25.44 kmpl   \n",
       "\n",
       "       Engine      Power  Seats  Price  \n",
       "0      998 CC  58.16 bhp    5.0   1.75  \n",
       "1     1582 CC  126.2 bhp    5.0  12.50  \n",
       "2     1199 CC   88.7 bhp    5.0   4.50  \n",
       "3     1248 CC  88.76 bhp    7.0   6.00  \n",
       "4     1968 CC  140.8 bhp    5.0  17.74  \n",
       "...       ...        ...    ...    ...  \n",
       "6014  1248 CC     74 bhp    5.0   4.75  \n",
       "6015  1120 CC     71 bhp    5.0   4.00  \n",
       "6016  2498 CC    112 bhp    8.0   2.90  \n",
       "6017   998 CC   67.1 bhp    5.0   2.65  \n",
       "6018   936 CC   57.6 bhp    5.0   2.50  \n",
       "\n",
       "[6019 rows x 13 columns]"
      ]
     },
     "execution_count": 7,
     "metadata": {},
     "output_type": "execute_result"
    }
   ],
   "source": [
    "data=data.drop('New_Price',axis=1)\n",
    "data"
   ]
  },
  {
   "cell_type": "code",
   "execution_count": 8,
   "id": "16dc7d00",
   "metadata": {},
   "outputs": [],
   "source": [
    "#Effacement des valeurs incomplete\n",
    "data_clean= data.dropna()"
   ]
  },
  {
   "cell_type": "code",
   "execution_count": 9,
   "id": "cfbec100",
   "metadata": {},
   "outputs": [
    {
     "data": {
      "text/html": [
       "<div>\n",
       "<style scoped>\n",
       "    .dataframe tbody tr th:only-of-type {\n",
       "        vertical-align: middle;\n",
       "    }\n",
       "\n",
       "    .dataframe tbody tr th {\n",
       "        vertical-align: top;\n",
       "    }\n",
       "\n",
       "    .dataframe thead th {\n",
       "        text-align: right;\n",
       "    }\n",
       "</style>\n",
       "<table border=\"1\" class=\"dataframe\">\n",
       "  <thead>\n",
       "    <tr style=\"text-align: right;\">\n",
       "      <th></th>\n",
       "      <th>Unnamed: 0</th>\n",
       "      <th>Name</th>\n",
       "      <th>Location</th>\n",
       "      <th>Year</th>\n",
       "      <th>Kilometers_Driven</th>\n",
       "      <th>Fuel_Type</th>\n",
       "      <th>Transmission</th>\n",
       "      <th>Owner_Type</th>\n",
       "      <th>Mileage</th>\n",
       "      <th>Engine</th>\n",
       "      <th>Power</th>\n",
       "      <th>Seats</th>\n",
       "      <th>Price</th>\n",
       "    </tr>\n",
       "  </thead>\n",
       "  <tbody>\n",
       "    <tr>\n",
       "      <th>0</th>\n",
       "      <td>0</td>\n",
       "      <td>Maruti Wagon R LXI CNG</td>\n",
       "      <td>Mumbai</td>\n",
       "      <td>2010</td>\n",
       "      <td>72000</td>\n",
       "      <td>CNG</td>\n",
       "      <td>Manual</td>\n",
       "      <td>First</td>\n",
       "      <td>26.6 km/kg</td>\n",
       "      <td>998 CC</td>\n",
       "      <td>58.16 bhp</td>\n",
       "      <td>5.0</td>\n",
       "      <td>1.75</td>\n",
       "    </tr>\n",
       "    <tr>\n",
       "      <th>1</th>\n",
       "      <td>1</td>\n",
       "      <td>Hyundai Creta 1.6 CRDi SX Option</td>\n",
       "      <td>Pune</td>\n",
       "      <td>2015</td>\n",
       "      <td>41000</td>\n",
       "      <td>Diesel</td>\n",
       "      <td>Manual</td>\n",
       "      <td>First</td>\n",
       "      <td>19.67 kmpl</td>\n",
       "      <td>1582 CC</td>\n",
       "      <td>126.2 bhp</td>\n",
       "      <td>5.0</td>\n",
       "      <td>12.50</td>\n",
       "    </tr>\n",
       "    <tr>\n",
       "      <th>2</th>\n",
       "      <td>2</td>\n",
       "      <td>Honda Jazz V</td>\n",
       "      <td>Chennai</td>\n",
       "      <td>2011</td>\n",
       "      <td>46000</td>\n",
       "      <td>Petrol</td>\n",
       "      <td>Manual</td>\n",
       "      <td>First</td>\n",
       "      <td>18.2 kmpl</td>\n",
       "      <td>1199 CC</td>\n",
       "      <td>88.7 bhp</td>\n",
       "      <td>5.0</td>\n",
       "      <td>4.50</td>\n",
       "    </tr>\n",
       "    <tr>\n",
       "      <th>3</th>\n",
       "      <td>3</td>\n",
       "      <td>Maruti Ertiga VDI</td>\n",
       "      <td>Chennai</td>\n",
       "      <td>2012</td>\n",
       "      <td>87000</td>\n",
       "      <td>Diesel</td>\n",
       "      <td>Manual</td>\n",
       "      <td>First</td>\n",
       "      <td>20.77 kmpl</td>\n",
       "      <td>1248 CC</td>\n",
       "      <td>88.76 bhp</td>\n",
       "      <td>7.0</td>\n",
       "      <td>6.00</td>\n",
       "    </tr>\n",
       "    <tr>\n",
       "      <th>4</th>\n",
       "      <td>4</td>\n",
       "      <td>Audi A4 New 2.0 TDI Multitronic</td>\n",
       "      <td>Coimbatore</td>\n",
       "      <td>2013</td>\n",
       "      <td>40670</td>\n",
       "      <td>Diesel</td>\n",
       "      <td>Automatic</td>\n",
       "      <td>Second</td>\n",
       "      <td>15.2 kmpl</td>\n",
       "      <td>1968 CC</td>\n",
       "      <td>140.8 bhp</td>\n",
       "      <td>5.0</td>\n",
       "      <td>17.74</td>\n",
       "    </tr>\n",
       "    <tr>\n",
       "      <th>...</th>\n",
       "      <td>...</td>\n",
       "      <td>...</td>\n",
       "      <td>...</td>\n",
       "      <td>...</td>\n",
       "      <td>...</td>\n",
       "      <td>...</td>\n",
       "      <td>...</td>\n",
       "      <td>...</td>\n",
       "      <td>...</td>\n",
       "      <td>...</td>\n",
       "      <td>...</td>\n",
       "      <td>...</td>\n",
       "      <td>...</td>\n",
       "    </tr>\n",
       "    <tr>\n",
       "      <th>6014</th>\n",
       "      <td>6014</td>\n",
       "      <td>Maruti Swift VDI</td>\n",
       "      <td>Delhi</td>\n",
       "      <td>2014</td>\n",
       "      <td>27365</td>\n",
       "      <td>Diesel</td>\n",
       "      <td>Manual</td>\n",
       "      <td>First</td>\n",
       "      <td>28.4 kmpl</td>\n",
       "      <td>1248 CC</td>\n",
       "      <td>74 bhp</td>\n",
       "      <td>5.0</td>\n",
       "      <td>4.75</td>\n",
       "    </tr>\n",
       "    <tr>\n",
       "      <th>6015</th>\n",
       "      <td>6015</td>\n",
       "      <td>Hyundai Xcent 1.1 CRDi S</td>\n",
       "      <td>Jaipur</td>\n",
       "      <td>2015</td>\n",
       "      <td>100000</td>\n",
       "      <td>Diesel</td>\n",
       "      <td>Manual</td>\n",
       "      <td>First</td>\n",
       "      <td>24.4 kmpl</td>\n",
       "      <td>1120 CC</td>\n",
       "      <td>71 bhp</td>\n",
       "      <td>5.0</td>\n",
       "      <td>4.00</td>\n",
       "    </tr>\n",
       "    <tr>\n",
       "      <th>6016</th>\n",
       "      <td>6016</td>\n",
       "      <td>Mahindra Xylo D4 BSIV</td>\n",
       "      <td>Jaipur</td>\n",
       "      <td>2012</td>\n",
       "      <td>55000</td>\n",
       "      <td>Diesel</td>\n",
       "      <td>Manual</td>\n",
       "      <td>Second</td>\n",
       "      <td>14.0 kmpl</td>\n",
       "      <td>2498 CC</td>\n",
       "      <td>112 bhp</td>\n",
       "      <td>8.0</td>\n",
       "      <td>2.90</td>\n",
       "    </tr>\n",
       "    <tr>\n",
       "      <th>6017</th>\n",
       "      <td>6017</td>\n",
       "      <td>Maruti Wagon R VXI</td>\n",
       "      <td>Kolkata</td>\n",
       "      <td>2013</td>\n",
       "      <td>46000</td>\n",
       "      <td>Petrol</td>\n",
       "      <td>Manual</td>\n",
       "      <td>First</td>\n",
       "      <td>18.9 kmpl</td>\n",
       "      <td>998 CC</td>\n",
       "      <td>67.1 bhp</td>\n",
       "      <td>5.0</td>\n",
       "      <td>2.65</td>\n",
       "    </tr>\n",
       "    <tr>\n",
       "      <th>6018</th>\n",
       "      <td>6018</td>\n",
       "      <td>Chevrolet Beat Diesel</td>\n",
       "      <td>Hyderabad</td>\n",
       "      <td>2011</td>\n",
       "      <td>47000</td>\n",
       "      <td>Diesel</td>\n",
       "      <td>Manual</td>\n",
       "      <td>First</td>\n",
       "      <td>25.44 kmpl</td>\n",
       "      <td>936 CC</td>\n",
       "      <td>57.6 bhp</td>\n",
       "      <td>5.0</td>\n",
       "      <td>2.50</td>\n",
       "    </tr>\n",
       "  </tbody>\n",
       "</table>\n",
       "<p>5975 rows × 13 columns</p>\n",
       "</div>"
      ],
      "text/plain": [
       "      Unnamed: 0                              Name    Location  Year  \\\n",
       "0              0            Maruti Wagon R LXI CNG      Mumbai  2010   \n",
       "1              1  Hyundai Creta 1.6 CRDi SX Option        Pune  2015   \n",
       "2              2                      Honda Jazz V     Chennai  2011   \n",
       "3              3                 Maruti Ertiga VDI     Chennai  2012   \n",
       "4              4   Audi A4 New 2.0 TDI Multitronic  Coimbatore  2013   \n",
       "...          ...                               ...         ...   ...   \n",
       "6014        6014                  Maruti Swift VDI       Delhi  2014   \n",
       "6015        6015          Hyundai Xcent 1.1 CRDi S      Jaipur  2015   \n",
       "6016        6016             Mahindra Xylo D4 BSIV      Jaipur  2012   \n",
       "6017        6017                Maruti Wagon R VXI     Kolkata  2013   \n",
       "6018        6018             Chevrolet Beat Diesel   Hyderabad  2011   \n",
       "\n",
       "      Kilometers_Driven Fuel_Type Transmission Owner_Type     Mileage  \\\n",
       "0                 72000       CNG       Manual      First  26.6 km/kg   \n",
       "1                 41000    Diesel       Manual      First  19.67 kmpl   \n",
       "2                 46000    Petrol       Manual      First   18.2 kmpl   \n",
       "3                 87000    Diesel       Manual      First  20.77 kmpl   \n",
       "4                 40670    Diesel    Automatic     Second   15.2 kmpl   \n",
       "...                 ...       ...          ...        ...         ...   \n",
       "6014              27365    Diesel       Manual      First   28.4 kmpl   \n",
       "6015             100000    Diesel       Manual      First   24.4 kmpl   \n",
       "6016              55000    Diesel       Manual     Second   14.0 kmpl   \n",
       "6017              46000    Petrol       Manual      First   18.9 kmpl   \n",
       "6018              47000    Diesel       Manual      First  25.44 kmpl   \n",
       "\n",
       "       Engine      Power  Seats  Price  \n",
       "0      998 CC  58.16 bhp    5.0   1.75  \n",
       "1     1582 CC  126.2 bhp    5.0  12.50  \n",
       "2     1199 CC   88.7 bhp    5.0   4.50  \n",
       "3     1248 CC  88.76 bhp    7.0   6.00  \n",
       "4     1968 CC  140.8 bhp    5.0  17.74  \n",
       "...       ...        ...    ...    ...  \n",
       "6014  1248 CC     74 bhp    5.0   4.75  \n",
       "6015  1120 CC     71 bhp    5.0   4.00  \n",
       "6016  2498 CC    112 bhp    8.0   2.90  \n",
       "6017   998 CC   67.1 bhp    5.0   2.65  \n",
       "6018   936 CC   57.6 bhp    5.0   2.50  \n",
       "\n",
       "[5975 rows x 13 columns]"
      ]
     },
     "execution_count": 9,
     "metadata": {},
     "output_type": "execute_result"
    }
   ],
   "source": [
    "data_clean"
   ]
  },
  {
   "cell_type": "code",
   "execution_count": 10,
   "id": "5716f65b",
   "metadata": {},
   "outputs": [
    {
     "data": {
      "text/html": [
       "<div>\n",
       "<style scoped>\n",
       "    .dataframe tbody tr th:only-of-type {\n",
       "        vertical-align: middle;\n",
       "    }\n",
       "\n",
       "    .dataframe tbody tr th {\n",
       "        vertical-align: top;\n",
       "    }\n",
       "\n",
       "    .dataframe thead th {\n",
       "        text-align: right;\n",
       "    }\n",
       "</style>\n",
       "<table border=\"1\" class=\"dataframe\">\n",
       "  <thead>\n",
       "    <tr style=\"text-align: right;\">\n",
       "      <th></th>\n",
       "      <th>Name</th>\n",
       "      <th>Location</th>\n",
       "      <th>Year</th>\n",
       "      <th>Kilometers_Driven</th>\n",
       "      <th>Fuel_Type</th>\n",
       "      <th>Transmission</th>\n",
       "      <th>Owner_Type</th>\n",
       "      <th>Mileage</th>\n",
       "      <th>Engine</th>\n",
       "      <th>Power</th>\n",
       "      <th>Seats</th>\n",
       "      <th>Price</th>\n",
       "    </tr>\n",
       "  </thead>\n",
       "  <tbody>\n",
       "    <tr>\n",
       "      <th>0</th>\n",
       "      <td>Maruti Wagon R LXI CNG</td>\n",
       "      <td>Mumbai</td>\n",
       "      <td>2010</td>\n",
       "      <td>72000</td>\n",
       "      <td>CNG</td>\n",
       "      <td>Manual</td>\n",
       "      <td>First</td>\n",
       "      <td>26.6 km/kg</td>\n",
       "      <td>998 CC</td>\n",
       "      <td>58.16 bhp</td>\n",
       "      <td>5.0</td>\n",
       "      <td>1.75</td>\n",
       "    </tr>\n",
       "    <tr>\n",
       "      <th>1</th>\n",
       "      <td>Hyundai Creta 1.6 CRDi SX Option</td>\n",
       "      <td>Pune</td>\n",
       "      <td>2015</td>\n",
       "      <td>41000</td>\n",
       "      <td>Diesel</td>\n",
       "      <td>Manual</td>\n",
       "      <td>First</td>\n",
       "      <td>19.67 kmpl</td>\n",
       "      <td>1582 CC</td>\n",
       "      <td>126.2 bhp</td>\n",
       "      <td>5.0</td>\n",
       "      <td>12.50</td>\n",
       "    </tr>\n",
       "    <tr>\n",
       "      <th>2</th>\n",
       "      <td>Honda Jazz V</td>\n",
       "      <td>Chennai</td>\n",
       "      <td>2011</td>\n",
       "      <td>46000</td>\n",
       "      <td>Petrol</td>\n",
       "      <td>Manual</td>\n",
       "      <td>First</td>\n",
       "      <td>18.2 kmpl</td>\n",
       "      <td>1199 CC</td>\n",
       "      <td>88.7 bhp</td>\n",
       "      <td>5.0</td>\n",
       "      <td>4.50</td>\n",
       "    </tr>\n",
       "    <tr>\n",
       "      <th>3</th>\n",
       "      <td>Maruti Ertiga VDI</td>\n",
       "      <td>Chennai</td>\n",
       "      <td>2012</td>\n",
       "      <td>87000</td>\n",
       "      <td>Diesel</td>\n",
       "      <td>Manual</td>\n",
       "      <td>First</td>\n",
       "      <td>20.77 kmpl</td>\n",
       "      <td>1248 CC</td>\n",
       "      <td>88.76 bhp</td>\n",
       "      <td>7.0</td>\n",
       "      <td>6.00</td>\n",
       "    </tr>\n",
       "    <tr>\n",
       "      <th>4</th>\n",
       "      <td>Audi A4 New 2.0 TDI Multitronic</td>\n",
       "      <td>Coimbatore</td>\n",
       "      <td>2013</td>\n",
       "      <td>40670</td>\n",
       "      <td>Diesel</td>\n",
       "      <td>Automatic</td>\n",
       "      <td>Second</td>\n",
       "      <td>15.2 kmpl</td>\n",
       "      <td>1968 CC</td>\n",
       "      <td>140.8 bhp</td>\n",
       "      <td>5.0</td>\n",
       "      <td>17.74</td>\n",
       "    </tr>\n",
       "    <tr>\n",
       "      <th>...</th>\n",
       "      <td>...</td>\n",
       "      <td>...</td>\n",
       "      <td>...</td>\n",
       "      <td>...</td>\n",
       "      <td>...</td>\n",
       "      <td>...</td>\n",
       "      <td>...</td>\n",
       "      <td>...</td>\n",
       "      <td>...</td>\n",
       "      <td>...</td>\n",
       "      <td>...</td>\n",
       "      <td>...</td>\n",
       "    </tr>\n",
       "    <tr>\n",
       "      <th>6014</th>\n",
       "      <td>Maruti Swift VDI</td>\n",
       "      <td>Delhi</td>\n",
       "      <td>2014</td>\n",
       "      <td>27365</td>\n",
       "      <td>Diesel</td>\n",
       "      <td>Manual</td>\n",
       "      <td>First</td>\n",
       "      <td>28.4 kmpl</td>\n",
       "      <td>1248 CC</td>\n",
       "      <td>74 bhp</td>\n",
       "      <td>5.0</td>\n",
       "      <td>4.75</td>\n",
       "    </tr>\n",
       "    <tr>\n",
       "      <th>6015</th>\n",
       "      <td>Hyundai Xcent 1.1 CRDi S</td>\n",
       "      <td>Jaipur</td>\n",
       "      <td>2015</td>\n",
       "      <td>100000</td>\n",
       "      <td>Diesel</td>\n",
       "      <td>Manual</td>\n",
       "      <td>First</td>\n",
       "      <td>24.4 kmpl</td>\n",
       "      <td>1120 CC</td>\n",
       "      <td>71 bhp</td>\n",
       "      <td>5.0</td>\n",
       "      <td>4.00</td>\n",
       "    </tr>\n",
       "    <tr>\n",
       "      <th>6016</th>\n",
       "      <td>Mahindra Xylo D4 BSIV</td>\n",
       "      <td>Jaipur</td>\n",
       "      <td>2012</td>\n",
       "      <td>55000</td>\n",
       "      <td>Diesel</td>\n",
       "      <td>Manual</td>\n",
       "      <td>Second</td>\n",
       "      <td>14.0 kmpl</td>\n",
       "      <td>2498 CC</td>\n",
       "      <td>112 bhp</td>\n",
       "      <td>8.0</td>\n",
       "      <td>2.90</td>\n",
       "    </tr>\n",
       "    <tr>\n",
       "      <th>6017</th>\n",
       "      <td>Maruti Wagon R VXI</td>\n",
       "      <td>Kolkata</td>\n",
       "      <td>2013</td>\n",
       "      <td>46000</td>\n",
       "      <td>Petrol</td>\n",
       "      <td>Manual</td>\n",
       "      <td>First</td>\n",
       "      <td>18.9 kmpl</td>\n",
       "      <td>998 CC</td>\n",
       "      <td>67.1 bhp</td>\n",
       "      <td>5.0</td>\n",
       "      <td>2.65</td>\n",
       "    </tr>\n",
       "    <tr>\n",
       "      <th>6018</th>\n",
       "      <td>Chevrolet Beat Diesel</td>\n",
       "      <td>Hyderabad</td>\n",
       "      <td>2011</td>\n",
       "      <td>47000</td>\n",
       "      <td>Diesel</td>\n",
       "      <td>Manual</td>\n",
       "      <td>First</td>\n",
       "      <td>25.44 kmpl</td>\n",
       "      <td>936 CC</td>\n",
       "      <td>57.6 bhp</td>\n",
       "      <td>5.0</td>\n",
       "      <td>2.50</td>\n",
       "    </tr>\n",
       "  </tbody>\n",
       "</table>\n",
       "<p>5975 rows × 12 columns</p>\n",
       "</div>"
      ],
      "text/plain": [
       "                                  Name    Location  Year  Kilometers_Driven  \\\n",
       "0               Maruti Wagon R LXI CNG      Mumbai  2010              72000   \n",
       "1     Hyundai Creta 1.6 CRDi SX Option        Pune  2015              41000   \n",
       "2                         Honda Jazz V     Chennai  2011              46000   \n",
       "3                    Maruti Ertiga VDI     Chennai  2012              87000   \n",
       "4      Audi A4 New 2.0 TDI Multitronic  Coimbatore  2013              40670   \n",
       "...                                ...         ...   ...                ...   \n",
       "6014                  Maruti Swift VDI       Delhi  2014              27365   \n",
       "6015          Hyundai Xcent 1.1 CRDi S      Jaipur  2015             100000   \n",
       "6016             Mahindra Xylo D4 BSIV      Jaipur  2012              55000   \n",
       "6017                Maruti Wagon R VXI     Kolkata  2013              46000   \n",
       "6018             Chevrolet Beat Diesel   Hyderabad  2011              47000   \n",
       "\n",
       "     Fuel_Type Transmission Owner_Type     Mileage   Engine      Power  Seats  \\\n",
       "0          CNG       Manual      First  26.6 km/kg   998 CC  58.16 bhp    5.0   \n",
       "1       Diesel       Manual      First  19.67 kmpl  1582 CC  126.2 bhp    5.0   \n",
       "2       Petrol       Manual      First   18.2 kmpl  1199 CC   88.7 bhp    5.0   \n",
       "3       Diesel       Manual      First  20.77 kmpl  1248 CC  88.76 bhp    7.0   \n",
       "4       Diesel    Automatic     Second   15.2 kmpl  1968 CC  140.8 bhp    5.0   \n",
       "...        ...          ...        ...         ...      ...        ...    ...   \n",
       "6014    Diesel       Manual      First   28.4 kmpl  1248 CC     74 bhp    5.0   \n",
       "6015    Diesel       Manual      First   24.4 kmpl  1120 CC     71 bhp    5.0   \n",
       "6016    Diesel       Manual     Second   14.0 kmpl  2498 CC    112 bhp    8.0   \n",
       "6017    Petrol       Manual      First   18.9 kmpl   998 CC   67.1 bhp    5.0   \n",
       "6018    Diesel       Manual      First  25.44 kmpl   936 CC   57.6 bhp    5.0   \n",
       "\n",
       "      Price  \n",
       "0      1.75  \n",
       "1     12.50  \n",
       "2      4.50  \n",
       "3      6.00  \n",
       "4     17.74  \n",
       "...     ...  \n",
       "6014   4.75  \n",
       "6015   4.00  \n",
       "6016   2.90  \n",
       "6017   2.65  \n",
       "6018   2.50  \n",
       "\n",
       "[5975 rows x 12 columns]"
      ]
     },
     "execution_count": 10,
     "metadata": {},
     "output_type": "execute_result"
    }
   ],
   "source": [
    "# Suppression du colonne inutile (Unnamed: 0)\n",
    "data_clean=data_clean.drop('Unnamed: 0',axis=1)\n",
    "data_clean"
   ]
  },
  {
   "cell_type": "markdown",
   "id": "34636a93",
   "metadata": {},
   "source": [
    "###  Sur l'ensemble des données, il existe 3 types de carburant : Petrol, Diesel, et le Compressed Natural Gas (CNG).\n",
    "\n",
    "### Problème : \n",
    " Pour les voitures qui ont comme carburant PETROL ou DIESEL, le kilométrage déjà parcouru est mesuré en KILOMÈTRES PAR LITRE (kmpl) (sur la colonne qui s'appelle \"Mileage\"). Le kilométrage des voitures de type de carburant CNG est mesuré en KILOMÈTRES PAR KILOGRAMME (km/kg).\n",
    "\n",
    "J'ai décidé de supprimer les voitures en CNG pour le moment car : \n",
    "\n",
    "    -  Il y a seulement 9 voitures de ce type CNG.\n",
    "    -  Les valeurs dans les tableaux sont en string, donc il faut supprimer les unités avant de les convertir en variables de type FLOAT. Si je supprime toutes les unités, cela signifie que toutes les valeurs sont dans la même unité, ce qui n'est pas le cas ici.\n",
    "    -  il faut une conversion de kmpl en Km/Kg, et ca dépend de la densité du gaz à utiliser. Mais on peut faire une changement de variable au niveau du type de carburant \n",
    "\n"
   ]
  },
  {
   "cell_type": "code",
   "execution_count": 10,
   "id": "98b88574",
   "metadata": {},
   "outputs": [
    {
     "data": {
      "text/plain": [
       "56"
      ]
     },
     "execution_count": 10,
     "metadata": {},
     "output_type": "execute_result"
    }
   ],
   "source": [
    "len(data_clean[data_clean['Fuel_Type']=='CNG'])"
   ]
  },
  {
   "cell_type": "code",
   "execution_count": 11,
   "id": "b979a7e6",
   "metadata": {},
   "outputs": [
    {
     "data": {
      "text/html": [
       "<div>\n",
       "<style scoped>\n",
       "    .dataframe tbody tr th:only-of-type {\n",
       "        vertical-align: middle;\n",
       "    }\n",
       "\n",
       "    .dataframe tbody tr th {\n",
       "        vertical-align: top;\n",
       "    }\n",
       "\n",
       "    .dataframe thead th {\n",
       "        text-align: right;\n",
       "    }\n",
       "</style>\n",
       "<table border=\"1\" class=\"dataframe\">\n",
       "  <thead>\n",
       "    <tr style=\"text-align: right;\">\n",
       "      <th></th>\n",
       "      <th>Name</th>\n",
       "      <th>Location</th>\n",
       "      <th>Year</th>\n",
       "      <th>Kilometers_Driven</th>\n",
       "      <th>Fuel_Type</th>\n",
       "      <th>Transmission</th>\n",
       "      <th>Owner_Type</th>\n",
       "      <th>Mileage</th>\n",
       "      <th>Engine</th>\n",
       "      <th>Power</th>\n",
       "      <th>Seats</th>\n",
       "      <th>Price</th>\n",
       "    </tr>\n",
       "  </thead>\n",
       "  <tbody>\n",
       "    <tr>\n",
       "      <th>0</th>\n",
       "      <td>Maruti Wagon R LXI CNG</td>\n",
       "      <td>Mumbai</td>\n",
       "      <td>2010</td>\n",
       "      <td>72000</td>\n",
       "      <td>CNG</td>\n",
       "      <td>Manual</td>\n",
       "      <td>First</td>\n",
       "      <td>26.6 km/kg</td>\n",
       "      <td>998 CC</td>\n",
       "      <td>58.16 bhp</td>\n",
       "      <td>5.0</td>\n",
       "      <td>1.75</td>\n",
       "    </tr>\n",
       "    <tr>\n",
       "      <th>1</th>\n",
       "      <td>Hyundai Creta 1.6 CRDi SX Option</td>\n",
       "      <td>Pune</td>\n",
       "      <td>2015</td>\n",
       "      <td>41000</td>\n",
       "      <td>Diesel</td>\n",
       "      <td>Manual</td>\n",
       "      <td>First</td>\n",
       "      <td>19.67 kmpl</td>\n",
       "      <td>1582 CC</td>\n",
       "      <td>126.2 bhp</td>\n",
       "      <td>5.0</td>\n",
       "      <td>12.50</td>\n",
       "    </tr>\n",
       "    <tr>\n",
       "      <th>2</th>\n",
       "      <td>Honda Jazz V</td>\n",
       "      <td>Chennai</td>\n",
       "      <td>2011</td>\n",
       "      <td>46000</td>\n",
       "      <td>Petrol</td>\n",
       "      <td>Manual</td>\n",
       "      <td>First</td>\n",
       "      <td>18.2 kmpl</td>\n",
       "      <td>1199 CC</td>\n",
       "      <td>88.7 bhp</td>\n",
       "      <td>5.0</td>\n",
       "      <td>4.50</td>\n",
       "    </tr>\n",
       "    <tr>\n",
       "      <th>3</th>\n",
       "      <td>Maruti Ertiga VDI</td>\n",
       "      <td>Chennai</td>\n",
       "      <td>2012</td>\n",
       "      <td>87000</td>\n",
       "      <td>Diesel</td>\n",
       "      <td>Manual</td>\n",
       "      <td>First</td>\n",
       "      <td>20.77 kmpl</td>\n",
       "      <td>1248 CC</td>\n",
       "      <td>88.76 bhp</td>\n",
       "      <td>7.0</td>\n",
       "      <td>6.00</td>\n",
       "    </tr>\n",
       "    <tr>\n",
       "      <th>4</th>\n",
       "      <td>Audi A4 New 2.0 TDI Multitronic</td>\n",
       "      <td>Coimbatore</td>\n",
       "      <td>2013</td>\n",
       "      <td>40670</td>\n",
       "      <td>Diesel</td>\n",
       "      <td>Automatic</td>\n",
       "      <td>Second</td>\n",
       "      <td>15.2 kmpl</td>\n",
       "      <td>1968 CC</td>\n",
       "      <td>140.8 bhp</td>\n",
       "      <td>5.0</td>\n",
       "      <td>17.74</td>\n",
       "    </tr>\n",
       "    <tr>\n",
       "      <th>...</th>\n",
       "      <td>...</td>\n",
       "      <td>...</td>\n",
       "      <td>...</td>\n",
       "      <td>...</td>\n",
       "      <td>...</td>\n",
       "      <td>...</td>\n",
       "      <td>...</td>\n",
       "      <td>...</td>\n",
       "      <td>...</td>\n",
       "      <td>...</td>\n",
       "      <td>...</td>\n",
       "      <td>...</td>\n",
       "    </tr>\n",
       "    <tr>\n",
       "      <th>6014</th>\n",
       "      <td>Maruti Swift VDI</td>\n",
       "      <td>Delhi</td>\n",
       "      <td>2014</td>\n",
       "      <td>27365</td>\n",
       "      <td>Diesel</td>\n",
       "      <td>Manual</td>\n",
       "      <td>First</td>\n",
       "      <td>28.4 kmpl</td>\n",
       "      <td>1248 CC</td>\n",
       "      <td>74 bhp</td>\n",
       "      <td>5.0</td>\n",
       "      <td>4.75</td>\n",
       "    </tr>\n",
       "    <tr>\n",
       "      <th>6015</th>\n",
       "      <td>Hyundai Xcent 1.1 CRDi S</td>\n",
       "      <td>Jaipur</td>\n",
       "      <td>2015</td>\n",
       "      <td>100000</td>\n",
       "      <td>Diesel</td>\n",
       "      <td>Manual</td>\n",
       "      <td>First</td>\n",
       "      <td>24.4 kmpl</td>\n",
       "      <td>1120 CC</td>\n",
       "      <td>71 bhp</td>\n",
       "      <td>5.0</td>\n",
       "      <td>4.00</td>\n",
       "    </tr>\n",
       "    <tr>\n",
       "      <th>6016</th>\n",
       "      <td>Mahindra Xylo D4 BSIV</td>\n",
       "      <td>Jaipur</td>\n",
       "      <td>2012</td>\n",
       "      <td>55000</td>\n",
       "      <td>Diesel</td>\n",
       "      <td>Manual</td>\n",
       "      <td>Second</td>\n",
       "      <td>14.0 kmpl</td>\n",
       "      <td>2498 CC</td>\n",
       "      <td>112 bhp</td>\n",
       "      <td>8.0</td>\n",
       "      <td>2.90</td>\n",
       "    </tr>\n",
       "    <tr>\n",
       "      <th>6017</th>\n",
       "      <td>Maruti Wagon R VXI</td>\n",
       "      <td>Kolkata</td>\n",
       "      <td>2013</td>\n",
       "      <td>46000</td>\n",
       "      <td>Petrol</td>\n",
       "      <td>Manual</td>\n",
       "      <td>First</td>\n",
       "      <td>18.9 kmpl</td>\n",
       "      <td>998 CC</td>\n",
       "      <td>67.1 bhp</td>\n",
       "      <td>5.0</td>\n",
       "      <td>2.65</td>\n",
       "    </tr>\n",
       "    <tr>\n",
       "      <th>6018</th>\n",
       "      <td>Chevrolet Beat Diesel</td>\n",
       "      <td>Hyderabad</td>\n",
       "      <td>2011</td>\n",
       "      <td>47000</td>\n",
       "      <td>Diesel</td>\n",
       "      <td>Manual</td>\n",
       "      <td>First</td>\n",
       "      <td>25.44 kmpl</td>\n",
       "      <td>936 CC</td>\n",
       "      <td>57.6 bhp</td>\n",
       "      <td>5.0</td>\n",
       "      <td>2.50</td>\n",
       "    </tr>\n",
       "  </tbody>\n",
       "</table>\n",
       "<p>5872 rows × 12 columns</p>\n",
       "</div>"
      ],
      "text/plain": [
       "                                  Name    Location  Year  Kilometers_Driven  \\\n",
       "0               Maruti Wagon R LXI CNG      Mumbai  2010              72000   \n",
       "1     Hyundai Creta 1.6 CRDi SX Option        Pune  2015              41000   \n",
       "2                         Honda Jazz V     Chennai  2011              46000   \n",
       "3                    Maruti Ertiga VDI     Chennai  2012              87000   \n",
       "4      Audi A4 New 2.0 TDI Multitronic  Coimbatore  2013              40670   \n",
       "...                                ...         ...   ...                ...   \n",
       "6014                  Maruti Swift VDI       Delhi  2014              27365   \n",
       "6015          Hyundai Xcent 1.1 CRDi S      Jaipur  2015             100000   \n",
       "6016             Mahindra Xylo D4 BSIV      Jaipur  2012              55000   \n",
       "6017                Maruti Wagon R VXI     Kolkata  2013              46000   \n",
       "6018             Chevrolet Beat Diesel   Hyderabad  2011              47000   \n",
       "\n",
       "     Fuel_Type Transmission Owner_Type     Mileage   Engine      Power  Seats  \\\n",
       "0          CNG       Manual      First  26.6 km/kg   998 CC  58.16 bhp    5.0   \n",
       "1       Diesel       Manual      First  19.67 kmpl  1582 CC  126.2 bhp    5.0   \n",
       "2       Petrol       Manual      First   18.2 kmpl  1199 CC   88.7 bhp    5.0   \n",
       "3       Diesel       Manual      First  20.77 kmpl  1248 CC  88.76 bhp    7.0   \n",
       "4       Diesel    Automatic     Second   15.2 kmpl  1968 CC  140.8 bhp    5.0   \n",
       "...        ...          ...        ...         ...      ...        ...    ...   \n",
       "6014    Diesel       Manual      First   28.4 kmpl  1248 CC     74 bhp    5.0   \n",
       "6015    Diesel       Manual      First   24.4 kmpl  1120 CC     71 bhp    5.0   \n",
       "6016    Diesel       Manual     Second   14.0 kmpl  2498 CC    112 bhp    8.0   \n",
       "6017    Petrol       Manual      First   18.9 kmpl   998 CC   67.1 bhp    5.0   \n",
       "6018    Diesel       Manual      First  25.44 kmpl   936 CC   57.6 bhp    5.0   \n",
       "\n",
       "      Price  \n",
       "0      1.75  \n",
       "1     12.50  \n",
       "2      4.50  \n",
       "3      6.00  \n",
       "4     17.74  \n",
       "...     ...  \n",
       "6014   4.75  \n",
       "6015   4.00  \n",
       "6016   2.90  \n",
       "6017   2.65  \n",
       "6018   2.50  \n",
       "\n",
       "[5872 rows x 12 columns]"
      ]
     },
     "execution_count": 11,
     "metadata": {},
     "output_type": "execute_result"
    }
   ],
   "source": [
    "data_clean=data_clean[~(data_clean['Power'].str.split(' ').str[0]=='null')]\n",
    "data_clean"
   ]
  },
  {
   "cell_type": "code",
   "execution_count": 12,
   "id": "0f02edb7",
   "metadata": {},
   "outputs": [
    {
     "data": {
      "text/html": [
       "<div>\n",
       "<style scoped>\n",
       "    .dataframe tbody tr th:only-of-type {\n",
       "        vertical-align: middle;\n",
       "    }\n",
       "\n",
       "    .dataframe tbody tr th {\n",
       "        vertical-align: top;\n",
       "    }\n",
       "\n",
       "    .dataframe thead th {\n",
       "        text-align: right;\n",
       "    }\n",
       "</style>\n",
       "<table border=\"1\" class=\"dataframe\">\n",
       "  <thead>\n",
       "    <tr style=\"text-align: right;\">\n",
       "      <th></th>\n",
       "      <th>Name</th>\n",
       "      <th>Location</th>\n",
       "      <th>Year</th>\n",
       "      <th>Kilometers_Driven</th>\n",
       "      <th>Fuel_Type</th>\n",
       "      <th>Transmission</th>\n",
       "      <th>Owner_Type</th>\n",
       "      <th>Mileage</th>\n",
       "      <th>Engine</th>\n",
       "      <th>Power</th>\n",
       "      <th>Seats</th>\n",
       "      <th>Price</th>\n",
       "    </tr>\n",
       "  </thead>\n",
       "  <tbody>\n",
       "    <tr>\n",
       "      <th>1</th>\n",
       "      <td>Hyundai Creta 1.6 CRDi SX Option</td>\n",
       "      <td>Pune</td>\n",
       "      <td>2015</td>\n",
       "      <td>41000</td>\n",
       "      <td>Diesel</td>\n",
       "      <td>Manual</td>\n",
       "      <td>First</td>\n",
       "      <td>19.67 kmpl</td>\n",
       "      <td>1582 CC</td>\n",
       "      <td>126.2 bhp</td>\n",
       "      <td>5.0</td>\n",
       "      <td>12.50</td>\n",
       "    </tr>\n",
       "    <tr>\n",
       "      <th>3</th>\n",
       "      <td>Maruti Ertiga VDI</td>\n",
       "      <td>Chennai</td>\n",
       "      <td>2012</td>\n",
       "      <td>87000</td>\n",
       "      <td>Diesel</td>\n",
       "      <td>Manual</td>\n",
       "      <td>First</td>\n",
       "      <td>20.77 kmpl</td>\n",
       "      <td>1248 CC</td>\n",
       "      <td>88.76 bhp</td>\n",
       "      <td>7.0</td>\n",
       "      <td>6.00</td>\n",
       "    </tr>\n",
       "    <tr>\n",
       "      <th>4</th>\n",
       "      <td>Audi A4 New 2.0 TDI Multitronic</td>\n",
       "      <td>Coimbatore</td>\n",
       "      <td>2013</td>\n",
       "      <td>40670</td>\n",
       "      <td>Diesel</td>\n",
       "      <td>Automatic</td>\n",
       "      <td>Second</td>\n",
       "      <td>15.2 kmpl</td>\n",
       "      <td>1968 CC</td>\n",
       "      <td>140.8 bhp</td>\n",
       "      <td>5.0</td>\n",
       "      <td>17.74</td>\n",
       "    </tr>\n",
       "    <tr>\n",
       "      <th>6</th>\n",
       "      <td>Nissan Micra Diesel XV</td>\n",
       "      <td>Jaipur</td>\n",
       "      <td>2013</td>\n",
       "      <td>86999</td>\n",
       "      <td>Diesel</td>\n",
       "      <td>Manual</td>\n",
       "      <td>First</td>\n",
       "      <td>23.08 kmpl</td>\n",
       "      <td>1461 CC</td>\n",
       "      <td>63.1 bhp</td>\n",
       "      <td>5.0</td>\n",
       "      <td>3.50</td>\n",
       "    </tr>\n",
       "    <tr>\n",
       "      <th>7</th>\n",
       "      <td>Toyota Innova Crysta 2.8 GX AT 8S</td>\n",
       "      <td>Mumbai</td>\n",
       "      <td>2016</td>\n",
       "      <td>36000</td>\n",
       "      <td>Diesel</td>\n",
       "      <td>Automatic</td>\n",
       "      <td>First</td>\n",
       "      <td>11.36 kmpl</td>\n",
       "      <td>2755 CC</td>\n",
       "      <td>171.5 bhp</td>\n",
       "      <td>8.0</td>\n",
       "      <td>17.50</td>\n",
       "    </tr>\n",
       "    <tr>\n",
       "      <th>...</th>\n",
       "      <td>...</td>\n",
       "      <td>...</td>\n",
       "      <td>...</td>\n",
       "      <td>...</td>\n",
       "      <td>...</td>\n",
       "      <td>...</td>\n",
       "      <td>...</td>\n",
       "      <td>...</td>\n",
       "      <td>...</td>\n",
       "      <td>...</td>\n",
       "      <td>...</td>\n",
       "      <td>...</td>\n",
       "    </tr>\n",
       "    <tr>\n",
       "      <th>6013</th>\n",
       "      <td>Honda Amaze VX i-DTEC</td>\n",
       "      <td>Coimbatore</td>\n",
       "      <td>2015</td>\n",
       "      <td>70602</td>\n",
       "      <td>Diesel</td>\n",
       "      <td>Manual</td>\n",
       "      <td>First</td>\n",
       "      <td>25.8 kmpl</td>\n",
       "      <td>1498 CC</td>\n",
       "      <td>98.6 bhp</td>\n",
       "      <td>5.0</td>\n",
       "      <td>4.83</td>\n",
       "    </tr>\n",
       "    <tr>\n",
       "      <th>6014</th>\n",
       "      <td>Maruti Swift VDI</td>\n",
       "      <td>Delhi</td>\n",
       "      <td>2014</td>\n",
       "      <td>27365</td>\n",
       "      <td>Diesel</td>\n",
       "      <td>Manual</td>\n",
       "      <td>First</td>\n",
       "      <td>28.4 kmpl</td>\n",
       "      <td>1248 CC</td>\n",
       "      <td>74 bhp</td>\n",
       "      <td>5.0</td>\n",
       "      <td>4.75</td>\n",
       "    </tr>\n",
       "    <tr>\n",
       "      <th>6015</th>\n",
       "      <td>Hyundai Xcent 1.1 CRDi S</td>\n",
       "      <td>Jaipur</td>\n",
       "      <td>2015</td>\n",
       "      <td>100000</td>\n",
       "      <td>Diesel</td>\n",
       "      <td>Manual</td>\n",
       "      <td>First</td>\n",
       "      <td>24.4 kmpl</td>\n",
       "      <td>1120 CC</td>\n",
       "      <td>71 bhp</td>\n",
       "      <td>5.0</td>\n",
       "      <td>4.00</td>\n",
       "    </tr>\n",
       "    <tr>\n",
       "      <th>6016</th>\n",
       "      <td>Mahindra Xylo D4 BSIV</td>\n",
       "      <td>Jaipur</td>\n",
       "      <td>2012</td>\n",
       "      <td>55000</td>\n",
       "      <td>Diesel</td>\n",
       "      <td>Manual</td>\n",
       "      <td>Second</td>\n",
       "      <td>14.0 kmpl</td>\n",
       "      <td>2498 CC</td>\n",
       "      <td>112 bhp</td>\n",
       "      <td>8.0</td>\n",
       "      <td>2.90</td>\n",
       "    </tr>\n",
       "    <tr>\n",
       "      <th>6018</th>\n",
       "      <td>Chevrolet Beat Diesel</td>\n",
       "      <td>Hyderabad</td>\n",
       "      <td>2011</td>\n",
       "      <td>47000</td>\n",
       "      <td>Diesel</td>\n",
       "      <td>Manual</td>\n",
       "      <td>First</td>\n",
       "      <td>25.44 kmpl</td>\n",
       "      <td>936 CC</td>\n",
       "      <td>57.6 bhp</td>\n",
       "      <td>5.0</td>\n",
       "      <td>2.50</td>\n",
       "    </tr>\n",
       "  </tbody>\n",
       "</table>\n",
       "<p>3152 rows × 12 columns</p>\n",
       "</div>"
      ],
      "text/plain": [
       "                                   Name    Location  Year  Kilometers_Driven  \\\n",
       "1      Hyundai Creta 1.6 CRDi SX Option        Pune  2015              41000   \n",
       "3                     Maruti Ertiga VDI     Chennai  2012              87000   \n",
       "4       Audi A4 New 2.0 TDI Multitronic  Coimbatore  2013              40670   \n",
       "6                Nissan Micra Diesel XV      Jaipur  2013              86999   \n",
       "7     Toyota Innova Crysta 2.8 GX AT 8S      Mumbai  2016              36000   \n",
       "...                                 ...         ...   ...                ...   \n",
       "6013              Honda Amaze VX i-DTEC  Coimbatore  2015              70602   \n",
       "6014                   Maruti Swift VDI       Delhi  2014              27365   \n",
       "6015           Hyundai Xcent 1.1 CRDi S      Jaipur  2015             100000   \n",
       "6016              Mahindra Xylo D4 BSIV      Jaipur  2012              55000   \n",
       "6018              Chevrolet Beat Diesel   Hyderabad  2011              47000   \n",
       "\n",
       "     Fuel_Type Transmission Owner_Type     Mileage   Engine      Power  Seats  \\\n",
       "1       Diesel       Manual      First  19.67 kmpl  1582 CC  126.2 bhp    5.0   \n",
       "3       Diesel       Manual      First  20.77 kmpl  1248 CC  88.76 bhp    7.0   \n",
       "4       Diesel    Automatic     Second   15.2 kmpl  1968 CC  140.8 bhp    5.0   \n",
       "6       Diesel       Manual      First  23.08 kmpl  1461 CC   63.1 bhp    5.0   \n",
       "7       Diesel    Automatic      First  11.36 kmpl  2755 CC  171.5 bhp    8.0   \n",
       "...        ...          ...        ...         ...      ...        ...    ...   \n",
       "6013    Diesel       Manual      First   25.8 kmpl  1498 CC   98.6 bhp    5.0   \n",
       "6014    Diesel       Manual      First   28.4 kmpl  1248 CC     74 bhp    5.0   \n",
       "6015    Diesel       Manual      First   24.4 kmpl  1120 CC     71 bhp    5.0   \n",
       "6016    Diesel       Manual     Second   14.0 kmpl  2498 CC    112 bhp    8.0   \n",
       "6018    Diesel       Manual      First  25.44 kmpl   936 CC   57.6 bhp    5.0   \n",
       "\n",
       "      Price  \n",
       "1     12.50  \n",
       "3      6.00  \n",
       "4     17.74  \n",
       "6      3.50  \n",
       "7     17.50  \n",
       "...     ...  \n",
       "6013   4.83  \n",
       "6014   4.75  \n",
       "6015   4.00  \n",
       "6016   2.90  \n",
       "6018   2.50  \n",
       "\n",
       "[3152 rows x 12 columns]"
      ]
     },
     "execution_count": 12,
     "metadata": {},
     "output_type": "execute_result"
    }
   ],
   "source": [
    "data_clean[data_clean['Fuel_Type'].str.contains('Diesel')]"
   ]
  },
  {
   "cell_type": "code",
   "execution_count": 11,
   "id": "ab388253",
   "metadata": {},
   "outputs": [
    {
     "data": {
      "text/html": [
       "<div>\n",
       "<style scoped>\n",
       "    .dataframe tbody tr th:only-of-type {\n",
       "        vertical-align: middle;\n",
       "    }\n",
       "\n",
       "    .dataframe tbody tr th {\n",
       "        vertical-align: top;\n",
       "    }\n",
       "\n",
       "    .dataframe thead th {\n",
       "        text-align: right;\n",
       "    }\n",
       "</style>\n",
       "<table border=\"1\" class=\"dataframe\">\n",
       "  <thead>\n",
       "    <tr style=\"text-align: right;\">\n",
       "      <th></th>\n",
       "      <th>Name</th>\n",
       "      <th>Location</th>\n",
       "      <th>Year</th>\n",
       "      <th>Kilometers_Driven</th>\n",
       "      <th>Fuel_Type</th>\n",
       "      <th>Transmission</th>\n",
       "      <th>Owner_Type</th>\n",
       "      <th>Mileage</th>\n",
       "      <th>Engine</th>\n",
       "      <th>Power</th>\n",
       "      <th>Seats</th>\n",
       "      <th>Price</th>\n",
       "    </tr>\n",
       "  </thead>\n",
       "  <tbody>\n",
       "    <tr>\n",
       "      <th>1</th>\n",
       "      <td>Hyundai Creta 1.6 CRDi SX Option</td>\n",
       "      <td>Pune</td>\n",
       "      <td>2015</td>\n",
       "      <td>41000</td>\n",
       "      <td>Diesel</td>\n",
       "      <td>Manual</td>\n",
       "      <td>First</td>\n",
       "      <td>19.67 kmpl</td>\n",
       "      <td>1582 CC</td>\n",
       "      <td>126.2 bhp</td>\n",
       "      <td>5.0</td>\n",
       "      <td>12.50</td>\n",
       "    </tr>\n",
       "    <tr>\n",
       "      <th>2</th>\n",
       "      <td>Honda Jazz V</td>\n",
       "      <td>Chennai</td>\n",
       "      <td>2011</td>\n",
       "      <td>46000</td>\n",
       "      <td>Petrol</td>\n",
       "      <td>Manual</td>\n",
       "      <td>First</td>\n",
       "      <td>18.2 kmpl</td>\n",
       "      <td>1199 CC</td>\n",
       "      <td>88.7 bhp</td>\n",
       "      <td>5.0</td>\n",
       "      <td>4.50</td>\n",
       "    </tr>\n",
       "    <tr>\n",
       "      <th>3</th>\n",
       "      <td>Maruti Ertiga VDI</td>\n",
       "      <td>Chennai</td>\n",
       "      <td>2012</td>\n",
       "      <td>87000</td>\n",
       "      <td>Diesel</td>\n",
       "      <td>Manual</td>\n",
       "      <td>First</td>\n",
       "      <td>20.77 kmpl</td>\n",
       "      <td>1248 CC</td>\n",
       "      <td>88.76 bhp</td>\n",
       "      <td>7.0</td>\n",
       "      <td>6.00</td>\n",
       "    </tr>\n",
       "    <tr>\n",
       "      <th>4</th>\n",
       "      <td>Audi A4 New 2.0 TDI Multitronic</td>\n",
       "      <td>Coimbatore</td>\n",
       "      <td>2013</td>\n",
       "      <td>40670</td>\n",
       "      <td>Diesel</td>\n",
       "      <td>Automatic</td>\n",
       "      <td>Second</td>\n",
       "      <td>15.2 kmpl</td>\n",
       "      <td>1968 CC</td>\n",
       "      <td>140.8 bhp</td>\n",
       "      <td>5.0</td>\n",
       "      <td>17.74</td>\n",
       "    </tr>\n",
       "    <tr>\n",
       "      <th>6</th>\n",
       "      <td>Nissan Micra Diesel XV</td>\n",
       "      <td>Jaipur</td>\n",
       "      <td>2013</td>\n",
       "      <td>86999</td>\n",
       "      <td>Diesel</td>\n",
       "      <td>Manual</td>\n",
       "      <td>First</td>\n",
       "      <td>23.08 kmpl</td>\n",
       "      <td>1461 CC</td>\n",
       "      <td>63.1 bhp</td>\n",
       "      <td>5.0</td>\n",
       "      <td>3.50</td>\n",
       "    </tr>\n",
       "    <tr>\n",
       "      <th>...</th>\n",
       "      <td>...</td>\n",
       "      <td>...</td>\n",
       "      <td>...</td>\n",
       "      <td>...</td>\n",
       "      <td>...</td>\n",
       "      <td>...</td>\n",
       "      <td>...</td>\n",
       "      <td>...</td>\n",
       "      <td>...</td>\n",
       "      <td>...</td>\n",
       "      <td>...</td>\n",
       "      <td>...</td>\n",
       "    </tr>\n",
       "    <tr>\n",
       "      <th>6014</th>\n",
       "      <td>Maruti Swift VDI</td>\n",
       "      <td>Delhi</td>\n",
       "      <td>2014</td>\n",
       "      <td>27365</td>\n",
       "      <td>Diesel</td>\n",
       "      <td>Manual</td>\n",
       "      <td>First</td>\n",
       "      <td>28.4 kmpl</td>\n",
       "      <td>1248 CC</td>\n",
       "      <td>74 bhp</td>\n",
       "      <td>5.0</td>\n",
       "      <td>4.75</td>\n",
       "    </tr>\n",
       "    <tr>\n",
       "      <th>6015</th>\n",
       "      <td>Hyundai Xcent 1.1 CRDi S</td>\n",
       "      <td>Jaipur</td>\n",
       "      <td>2015</td>\n",
       "      <td>100000</td>\n",
       "      <td>Diesel</td>\n",
       "      <td>Manual</td>\n",
       "      <td>First</td>\n",
       "      <td>24.4 kmpl</td>\n",
       "      <td>1120 CC</td>\n",
       "      <td>71 bhp</td>\n",
       "      <td>5.0</td>\n",
       "      <td>4.00</td>\n",
       "    </tr>\n",
       "    <tr>\n",
       "      <th>6016</th>\n",
       "      <td>Mahindra Xylo D4 BSIV</td>\n",
       "      <td>Jaipur</td>\n",
       "      <td>2012</td>\n",
       "      <td>55000</td>\n",
       "      <td>Diesel</td>\n",
       "      <td>Manual</td>\n",
       "      <td>Second</td>\n",
       "      <td>14.0 kmpl</td>\n",
       "      <td>2498 CC</td>\n",
       "      <td>112 bhp</td>\n",
       "      <td>8.0</td>\n",
       "      <td>2.90</td>\n",
       "    </tr>\n",
       "    <tr>\n",
       "      <th>6017</th>\n",
       "      <td>Maruti Wagon R VXI</td>\n",
       "      <td>Kolkata</td>\n",
       "      <td>2013</td>\n",
       "      <td>46000</td>\n",
       "      <td>Petrol</td>\n",
       "      <td>Manual</td>\n",
       "      <td>First</td>\n",
       "      <td>18.9 kmpl</td>\n",
       "      <td>998 CC</td>\n",
       "      <td>67.1 bhp</td>\n",
       "      <td>5.0</td>\n",
       "      <td>2.65</td>\n",
       "    </tr>\n",
       "    <tr>\n",
       "      <th>6018</th>\n",
       "      <td>Chevrolet Beat Diesel</td>\n",
       "      <td>Hyderabad</td>\n",
       "      <td>2011</td>\n",
       "      <td>47000</td>\n",
       "      <td>Diesel</td>\n",
       "      <td>Manual</td>\n",
       "      <td>First</td>\n",
       "      <td>25.44 kmpl</td>\n",
       "      <td>936 CC</td>\n",
       "      <td>57.6 bhp</td>\n",
       "      <td>5.0</td>\n",
       "      <td>2.50</td>\n",
       "    </tr>\n",
       "  </tbody>\n",
       "</table>\n",
       "<p>5909 rows × 12 columns</p>\n",
       "</div>"
      ],
      "text/plain": [
       "                                  Name    Location  Year  Kilometers_Driven  \\\n",
       "1     Hyundai Creta 1.6 CRDi SX Option        Pune  2015              41000   \n",
       "2                         Honda Jazz V     Chennai  2011              46000   \n",
       "3                    Maruti Ertiga VDI     Chennai  2012              87000   \n",
       "4      Audi A4 New 2.0 TDI Multitronic  Coimbatore  2013              40670   \n",
       "6               Nissan Micra Diesel XV      Jaipur  2013              86999   \n",
       "...                                ...         ...   ...                ...   \n",
       "6014                  Maruti Swift VDI       Delhi  2014              27365   \n",
       "6015          Hyundai Xcent 1.1 CRDi S      Jaipur  2015             100000   \n",
       "6016             Mahindra Xylo D4 BSIV      Jaipur  2012              55000   \n",
       "6017                Maruti Wagon R VXI     Kolkata  2013              46000   \n",
       "6018             Chevrolet Beat Diesel   Hyderabad  2011              47000   \n",
       "\n",
       "     Fuel_Type Transmission Owner_Type     Mileage   Engine      Power  Seats  \\\n",
       "1       Diesel       Manual      First  19.67 kmpl  1582 CC  126.2 bhp    5.0   \n",
       "2       Petrol       Manual      First   18.2 kmpl  1199 CC   88.7 bhp    5.0   \n",
       "3       Diesel       Manual      First  20.77 kmpl  1248 CC  88.76 bhp    7.0   \n",
       "4       Diesel    Automatic     Second   15.2 kmpl  1968 CC  140.8 bhp    5.0   \n",
       "6       Diesel       Manual      First  23.08 kmpl  1461 CC   63.1 bhp    5.0   \n",
       "...        ...          ...        ...         ...      ...        ...    ...   \n",
       "6014    Diesel       Manual      First   28.4 kmpl  1248 CC     74 bhp    5.0   \n",
       "6015    Diesel       Manual      First   24.4 kmpl  1120 CC     71 bhp    5.0   \n",
       "6016    Diesel       Manual     Second   14.0 kmpl  2498 CC    112 bhp    8.0   \n",
       "6017    Petrol       Manual      First   18.9 kmpl   998 CC   67.1 bhp    5.0   \n",
       "6018    Diesel       Manual      First  25.44 kmpl   936 CC   57.6 bhp    5.0   \n",
       "\n",
       "      Price  \n",
       "1     12.50  \n",
       "2      4.50  \n",
       "3      6.00  \n",
       "4     17.74  \n",
       "6      3.50  \n",
       "...     ...  \n",
       "6014   4.75  \n",
       "6015   4.00  \n",
       "6016   2.90  \n",
       "6017   2.65  \n",
       "6018   2.50  \n",
       "\n",
       "[5909 rows x 12 columns]"
      ]
     },
     "execution_count": 11,
     "metadata": {},
     "output_type": "execute_result"
    }
   ],
   "source": [
    "#Extractions des voitures qui n'ont pas de type de carburant CNG et LPG\n",
    "data_clean=data_clean[~data_clean['Fuel_Type'].str.contains('CNG')]\n",
    "data_clean=data_clean[~data_clean['Fuel_Type'].str.contains('LPG')]\n",
    "data_clean"
   ]
  },
  {
   "cell_type": "code",
   "execution_count": 14,
   "id": "a76b2ac2",
   "metadata": {},
   "outputs": [
    {
     "data": {
      "text/plain": [
       "array(['Diesel', 'Petrol'], dtype=object)"
      ]
     },
     "execution_count": 14,
     "metadata": {},
     "output_type": "execute_result"
    }
   ],
   "source": [
    "data_clean['Fuel_Type'].unique()"
   ]
  },
  {
   "cell_type": "code",
   "execution_count": 15,
   "id": "8ee18129",
   "metadata": {},
   "outputs": [
    {
     "data": {
      "text/plain": [
       "Name                 0\n",
       "Location             0\n",
       "Year                 0\n",
       "Kilometers_Driven    0\n",
       "Fuel_Type            0\n",
       "Transmission         0\n",
       "Owner_Type           0\n",
       "Mileage              0\n",
       "Engine               0\n",
       "Power                0\n",
       "Seats                0\n",
       "Price                0\n",
       "dtype: int64"
      ]
     },
     "execution_count": 15,
     "metadata": {},
     "output_type": "execute_result"
    }
   ],
   "source": [
    "data_clean.isnull().sum()"
   ]
  },
  {
   "cell_type": "markdown",
   "id": "352fc04c",
   "metadata": {},
   "source": [
    "## Effacement des unités et conversion des valeurs STRING en FLOAT ou INT"
   ]
  },
  {
   "cell_type": "code",
   "execution_count": 16,
   "id": "b147b84d",
   "metadata": {},
   "outputs": [],
   "source": [
    "# Puissance en bhp ou \"brake horsepower\" \"Cheval-vapeur\"(CV)\n",
    "data_clean['Power(bhp)']=data_clean['Power'].str.split(' ').str[0].astype(float);\n",
    "data_clean=data_clean.drop('Power',axis=1);"
   ]
  },
  {
   "cell_type": "code",
   "execution_count": 17,
   "id": "de771693",
   "metadata": {},
   "outputs": [],
   "source": [
    "# Moteur en CC ou \"Cubic Centimeters\" / \"Centimetre Cube\"\n",
    "data_clean['Engine(CC)']=data_clean['Engine'].str.replace('CC','').astype(int)\n",
    "data_clean=data_clean.drop('Engine',axis=1)"
   ]
  },
  {
   "cell_type": "code",
   "execution_count": 18,
   "id": "52b05ccd",
   "metadata": {},
   "outputs": [],
   "source": [
    "# kilometrage en kmpl ou \"Kilometers par litres\" \n",
    "data_clean['km_driven(kmpl)']=data_clean['Mileage'].str.replace('kmpl','').astype(float)\n",
    "data_clean=data_clean.drop('Mileage',axis=1) "
   ]
  },
  {
   "cell_type": "markdown",
   "id": "409f6960",
   "metadata": {},
   "source": [
    "## Extraction des marques du voitures"
   ]
  },
  {
   "cell_type": "code",
   "execution_count": 20,
   "id": "1bbde34c",
   "metadata": {},
   "outputs": [
    {
     "data": {
      "text/html": [
       "<div>\n",
       "<style scoped>\n",
       "    .dataframe tbody tr th:only-of-type {\n",
       "        vertical-align: middle;\n",
       "    }\n",
       "\n",
       "    .dataframe tbody tr th {\n",
       "        vertical-align: top;\n",
       "    }\n",
       "\n",
       "    .dataframe thead th {\n",
       "        text-align: right;\n",
       "    }\n",
       "</style>\n",
       "<table border=\"1\" class=\"dataframe\">\n",
       "  <thead>\n",
       "    <tr style=\"text-align: right;\">\n",
       "      <th></th>\n",
       "      <th>Name</th>\n",
       "      <th>Location</th>\n",
       "      <th>Year</th>\n",
       "      <th>Kilometers_Driven</th>\n",
       "      <th>Fuel_Type</th>\n",
       "      <th>Transmission</th>\n",
       "      <th>Owner_Type</th>\n",
       "      <th>Seats</th>\n",
       "      <th>Price</th>\n",
       "      <th>Power(bhp)</th>\n",
       "      <th>Engine(CC)</th>\n",
       "      <th>km_driven(kmpl)</th>\n",
       "      <th>Marque</th>\n",
       "    </tr>\n",
       "  </thead>\n",
       "  <tbody>\n",
       "    <tr>\n",
       "      <th>1</th>\n",
       "      <td>Hyundai Creta 1.6 CRDi SX Option</td>\n",
       "      <td>Pune</td>\n",
       "      <td>2015</td>\n",
       "      <td>41000</td>\n",
       "      <td>Diesel</td>\n",
       "      <td>Manual</td>\n",
       "      <td>First</td>\n",
       "      <td>5.0</td>\n",
       "      <td>12.50</td>\n",
       "      <td>126.20</td>\n",
       "      <td>1582</td>\n",
       "      <td>19.67</td>\n",
       "      <td>Hyundai</td>\n",
       "    </tr>\n",
       "    <tr>\n",
       "      <th>2</th>\n",
       "      <td>Honda Jazz V</td>\n",
       "      <td>Chennai</td>\n",
       "      <td>2011</td>\n",
       "      <td>46000</td>\n",
       "      <td>Petrol</td>\n",
       "      <td>Manual</td>\n",
       "      <td>First</td>\n",
       "      <td>5.0</td>\n",
       "      <td>4.50</td>\n",
       "      <td>88.70</td>\n",
       "      <td>1199</td>\n",
       "      <td>18.20</td>\n",
       "      <td>Honda</td>\n",
       "    </tr>\n",
       "    <tr>\n",
       "      <th>3</th>\n",
       "      <td>Maruti Ertiga VDI</td>\n",
       "      <td>Chennai</td>\n",
       "      <td>2012</td>\n",
       "      <td>87000</td>\n",
       "      <td>Diesel</td>\n",
       "      <td>Manual</td>\n",
       "      <td>First</td>\n",
       "      <td>7.0</td>\n",
       "      <td>6.00</td>\n",
       "      <td>88.76</td>\n",
       "      <td>1248</td>\n",
       "      <td>20.77</td>\n",
       "      <td>Maruti</td>\n",
       "    </tr>\n",
       "    <tr>\n",
       "      <th>4</th>\n",
       "      <td>Audi A4 New 2.0 TDI Multitronic</td>\n",
       "      <td>Coimbatore</td>\n",
       "      <td>2013</td>\n",
       "      <td>40670</td>\n",
       "      <td>Diesel</td>\n",
       "      <td>Automatic</td>\n",
       "      <td>Second</td>\n",
       "      <td>5.0</td>\n",
       "      <td>17.74</td>\n",
       "      <td>140.80</td>\n",
       "      <td>1968</td>\n",
       "      <td>15.20</td>\n",
       "      <td>Audi</td>\n",
       "    </tr>\n",
       "    <tr>\n",
       "      <th>6</th>\n",
       "      <td>Nissan Micra Diesel XV</td>\n",
       "      <td>Jaipur</td>\n",
       "      <td>2013</td>\n",
       "      <td>86999</td>\n",
       "      <td>Diesel</td>\n",
       "      <td>Manual</td>\n",
       "      <td>First</td>\n",
       "      <td>5.0</td>\n",
       "      <td>3.50</td>\n",
       "      <td>63.10</td>\n",
       "      <td>1461</td>\n",
       "      <td>23.08</td>\n",
       "      <td>Nissan</td>\n",
       "    </tr>\n",
       "    <tr>\n",
       "      <th>...</th>\n",
       "      <td>...</td>\n",
       "      <td>...</td>\n",
       "      <td>...</td>\n",
       "      <td>...</td>\n",
       "      <td>...</td>\n",
       "      <td>...</td>\n",
       "      <td>...</td>\n",
       "      <td>...</td>\n",
       "      <td>...</td>\n",
       "      <td>...</td>\n",
       "      <td>...</td>\n",
       "      <td>...</td>\n",
       "      <td>...</td>\n",
       "    </tr>\n",
       "    <tr>\n",
       "      <th>6014</th>\n",
       "      <td>Maruti Swift VDI</td>\n",
       "      <td>Delhi</td>\n",
       "      <td>2014</td>\n",
       "      <td>27365</td>\n",
       "      <td>Diesel</td>\n",
       "      <td>Manual</td>\n",
       "      <td>First</td>\n",
       "      <td>5.0</td>\n",
       "      <td>4.75</td>\n",
       "      <td>74.00</td>\n",
       "      <td>1248</td>\n",
       "      <td>28.40</td>\n",
       "      <td>Maruti</td>\n",
       "    </tr>\n",
       "    <tr>\n",
       "      <th>6015</th>\n",
       "      <td>Hyundai Xcent 1.1 CRDi S</td>\n",
       "      <td>Jaipur</td>\n",
       "      <td>2015</td>\n",
       "      <td>100000</td>\n",
       "      <td>Diesel</td>\n",
       "      <td>Manual</td>\n",
       "      <td>First</td>\n",
       "      <td>5.0</td>\n",
       "      <td>4.00</td>\n",
       "      <td>71.00</td>\n",
       "      <td>1120</td>\n",
       "      <td>24.40</td>\n",
       "      <td>Hyundai</td>\n",
       "    </tr>\n",
       "    <tr>\n",
       "      <th>6016</th>\n",
       "      <td>Mahindra Xylo D4 BSIV</td>\n",
       "      <td>Jaipur</td>\n",
       "      <td>2012</td>\n",
       "      <td>55000</td>\n",
       "      <td>Diesel</td>\n",
       "      <td>Manual</td>\n",
       "      <td>Second</td>\n",
       "      <td>8.0</td>\n",
       "      <td>2.90</td>\n",
       "      <td>112.00</td>\n",
       "      <td>2498</td>\n",
       "      <td>14.00</td>\n",
       "      <td>Mahindra</td>\n",
       "    </tr>\n",
       "    <tr>\n",
       "      <th>6017</th>\n",
       "      <td>Maruti Wagon R VXI</td>\n",
       "      <td>Kolkata</td>\n",
       "      <td>2013</td>\n",
       "      <td>46000</td>\n",
       "      <td>Petrol</td>\n",
       "      <td>Manual</td>\n",
       "      <td>First</td>\n",
       "      <td>5.0</td>\n",
       "      <td>2.65</td>\n",
       "      <td>67.10</td>\n",
       "      <td>998</td>\n",
       "      <td>18.90</td>\n",
       "      <td>Maruti</td>\n",
       "    </tr>\n",
       "    <tr>\n",
       "      <th>6018</th>\n",
       "      <td>Chevrolet Beat Diesel</td>\n",
       "      <td>Hyderabad</td>\n",
       "      <td>2011</td>\n",
       "      <td>47000</td>\n",
       "      <td>Diesel</td>\n",
       "      <td>Manual</td>\n",
       "      <td>First</td>\n",
       "      <td>5.0</td>\n",
       "      <td>2.50</td>\n",
       "      <td>57.60</td>\n",
       "      <td>936</td>\n",
       "      <td>25.44</td>\n",
       "      <td>Chevrolet</td>\n",
       "    </tr>\n",
       "  </tbody>\n",
       "</table>\n",
       "<p>5807 rows × 13 columns</p>\n",
       "</div>"
      ],
      "text/plain": [
       "                                  Name    Location  Year  Kilometers_Driven  \\\n",
       "1     Hyundai Creta 1.6 CRDi SX Option        Pune  2015              41000   \n",
       "2                         Honda Jazz V     Chennai  2011              46000   \n",
       "3                    Maruti Ertiga VDI     Chennai  2012              87000   \n",
       "4      Audi A4 New 2.0 TDI Multitronic  Coimbatore  2013              40670   \n",
       "6               Nissan Micra Diesel XV      Jaipur  2013              86999   \n",
       "...                                ...         ...   ...                ...   \n",
       "6014                  Maruti Swift VDI       Delhi  2014              27365   \n",
       "6015          Hyundai Xcent 1.1 CRDi S      Jaipur  2015             100000   \n",
       "6016             Mahindra Xylo D4 BSIV      Jaipur  2012              55000   \n",
       "6017                Maruti Wagon R VXI     Kolkata  2013              46000   \n",
       "6018             Chevrolet Beat Diesel   Hyderabad  2011              47000   \n",
       "\n",
       "     Fuel_Type Transmission Owner_Type  Seats  Price  Power(bhp)  Engine(CC)  \\\n",
       "1       Diesel       Manual      First    5.0  12.50      126.20        1582   \n",
       "2       Petrol       Manual      First    5.0   4.50       88.70        1199   \n",
       "3       Diesel       Manual      First    7.0   6.00       88.76        1248   \n",
       "4       Diesel    Automatic     Second    5.0  17.74      140.80        1968   \n",
       "6       Diesel       Manual      First    5.0   3.50       63.10        1461   \n",
       "...        ...          ...        ...    ...    ...         ...         ...   \n",
       "6014    Diesel       Manual      First    5.0   4.75       74.00        1248   \n",
       "6015    Diesel       Manual      First    5.0   4.00       71.00        1120   \n",
       "6016    Diesel       Manual     Second    8.0   2.90      112.00        2498   \n",
       "6017    Petrol       Manual      First    5.0   2.65       67.10         998   \n",
       "6018    Diesel       Manual      First    5.0   2.50       57.60         936   \n",
       "\n",
       "      km_driven(kmpl)     Marque  \n",
       "1               19.67    Hyundai  \n",
       "2               18.20      Honda  \n",
       "3               20.77     Maruti  \n",
       "4               15.20       Audi  \n",
       "6               23.08     Nissan  \n",
       "...               ...        ...  \n",
       "6014            28.40     Maruti  \n",
       "6015            24.40    Hyundai  \n",
       "6016            14.00   Mahindra  \n",
       "6017            18.90     Maruti  \n",
       "6018            25.44  Chevrolet  \n",
       "\n",
       "[5807 rows x 13 columns]"
      ]
     },
     "execution_count": 20,
     "metadata": {},
     "output_type": "execute_result"
    }
   ],
   "source": [
    "# Extraire le premier mot du colonne name pour obtenir les marque du voiture\n",
    "data_clean['Marque']=data_clean['Name'].str.split(' ').str[0]\n",
    "data_clean"
   ]
  },
  {
   "cell_type": "code",
   "execution_count": 21,
   "id": "a82344ec",
   "metadata": {},
   "outputs": [],
   "source": [
    "#Liste des marques \n",
    "data_clean['Marque']=data_clean['Marque'].str.lower()"
   ]
  },
  {
   "cell_type": "code",
   "execution_count": 22,
   "id": "d0654ac1",
   "metadata": {},
   "outputs": [
    {
     "data": {
      "text/plain": [
       "<AxesSubplot:xlabel='count', ylabel='Marque'>"
      ]
     },
     "execution_count": 22,
     "metadata": {},
     "output_type": "execute_result"
    },
    {
     "data": {
      "image/png": "[encoded data removed]",
      "text/plain": [
       "<Figure size 720x720 with 1 Axes>"
      ]
     },
     "metadata": {
      "needs_background": "light"
     },
     "output_type": "display_data"
    }
   ],
   "source": [
    "# Visualisation des marque les plus fréquents\n",
    "plt.figure(figsize=(10,10))\n",
    "sns.countplot(y='Marque',data=data_clean) "
   ]
  },
  {
   "cell_type": "markdown",
   "id": "64c13faf",
   "metadata": {},
   "source": [
    "## INFORMATION SUR LE DATASET   NETTOYEE"
   ]
  },
  {
   "cell_type": "code",
   "execution_count": 23,
   "id": "174998cd",
   "metadata": {},
   "outputs": [
    {
     "data": {
      "text/plain": [
       "Name                 0\n",
       "Location             0\n",
       "Year                 0\n",
       "Kilometers_Driven    0\n",
       "Fuel_Type            0\n",
       "Transmission         0\n",
       "Owner_Type           0\n",
       "Seats                0\n",
       "Price                0\n",
       "Power(bhp)           0\n",
       "Engine(CC)           0\n",
       "km_driven(kmpl)      0\n",
       "Marque               0\n",
       "dtype: int64"
      ]
     },
     "execution_count": 23,
     "metadata": {},
     "output_type": "execute_result"
    }
   ],
   "source": [
    "# Comptage des valeurs manquante \n",
    "data_clean.isnull().sum()"
   ]
  },
  {
   "cell_type": "markdown",
   "id": "1b53f36b",
   "metadata": {},
   "source": [
    "#### Il n'y a plus de valeurs manquantes dans le données"
   ]
  },
  {
   "cell_type": "code",
   "execution_count": 24,
   "id": "b75cfa94",
   "metadata": {},
   "outputs": [
    {
     "name": "stdout",
     "output_type": "stream",
     "text": [
      "<class 'pandas.core.frame.DataFrame'>\n",
      "Int64Index: 5807 entries, 1 to 6018\n",
      "Data columns (total 13 columns):\n",
      " #   Column             Non-Null Count  Dtype  \n",
      "---  ------             --------------  -----  \n",
      " 0   Name               5807 non-null   object \n",
      " 1   Location           5807 non-null   object \n",
      " 2   Year               5807 non-null   int64  \n",
      " 3   Kilometers_Driven  5807 non-null   int64  \n",
      " 4   Fuel_Type          5807 non-null   object \n",
      " 5   Transmission       5807 non-null   object \n",
      " 6   Owner_Type         5807 non-null   object \n",
      " 7   Seats              5807 non-null   float64\n",
      " 8   Price              5807 non-null   float64\n",
      " 9   Power(bhp)         5807 non-null   float64\n",
      " 10  Engine(CC)         5807 non-null   int32  \n",
      " 11  km_driven(kmpl)    5807 non-null   float64\n",
      " 12  Marque             5807 non-null   object \n",
      "dtypes: float64(4), int32(1), int64(2), object(6)\n",
      "memory usage: 612.5+ KB\n"
     ]
    }
   ],
   "source": [
    "#Informations du dataset deja nettoyée\n",
    "data_clean.info()"
   ]
  },
  {
   "cell_type": "code",
   "execution_count": 25,
   "id": "40ec455b",
   "metadata": {},
   "outputs": [
    {
     "data": {
      "text/html": [
       "<div>\n",
       "<style scoped>\n",
       "    .dataframe tbody tr th:only-of-type {\n",
       "        vertical-align: middle;\n",
       "    }\n",
       "\n",
       "    .dataframe tbody tr th {\n",
       "        vertical-align: top;\n",
       "    }\n",
       "\n",
       "    .dataframe thead th {\n",
       "        text-align: right;\n",
       "    }\n",
       "</style>\n",
       "<table border=\"1\" class=\"dataframe\">\n",
       "  <thead>\n",
       "    <tr style=\"text-align: right;\">\n",
       "      <th></th>\n",
       "      <th>Year</th>\n",
       "      <th>Kilometers_Driven</th>\n",
       "      <th>Seats</th>\n",
       "      <th>Price</th>\n",
       "      <th>Power(bhp)</th>\n",
       "      <th>Engine(CC)</th>\n",
       "      <th>km_driven(kmpl)</th>\n",
       "    </tr>\n",
       "  </thead>\n",
       "  <tbody>\n",
       "    <tr>\n",
       "      <th>count</th>\n",
       "      <td>5807.000000</td>\n",
       "      <td>5.807000e+03</td>\n",
       "      <td>5807.000000</td>\n",
       "      <td>5807.000000</td>\n",
       "      <td>5807.000000</td>\n",
       "      <td>5807.000000</td>\n",
       "      <td>5807.000000</td>\n",
       "    </tr>\n",
       "    <tr>\n",
       "      <th>mean</th>\n",
       "      <td>2013.475805</td>\n",
       "      <td>5.834902e+04</td>\n",
       "      <td>5.286551</td>\n",
       "      <td>9.673429</td>\n",
       "      <td>113.827634</td>\n",
       "      <td>1631.839332</td>\n",
       "      <td>18.206856</td>\n",
       "    </tr>\n",
       "    <tr>\n",
       "      <th>std</th>\n",
       "      <td>3.170718</td>\n",
       "      <td>9.265556e+04</td>\n",
       "      <td>0.806790</td>\n",
       "      <td>11.292012</td>\n",
       "      <td>53.903495</td>\n",
       "      <td>601.822651</td>\n",
       "      <td>4.288795</td>\n",
       "    </tr>\n",
       "    <tr>\n",
       "      <th>min</th>\n",
       "      <td>1998.000000</td>\n",
       "      <td>1.710000e+02</td>\n",
       "      <td>2.000000</td>\n",
       "      <td>0.440000</td>\n",
       "      <td>34.200000</td>\n",
       "      <td>624.000000</td>\n",
       "      <td>0.000000</td>\n",
       "    </tr>\n",
       "    <tr>\n",
       "      <th>25%</th>\n",
       "      <td>2012.000000</td>\n",
       "      <td>3.328800e+04</td>\n",
       "      <td>5.000000</td>\n",
       "      <td>3.590000</td>\n",
       "      <td>78.000000</td>\n",
       "      <td>1198.000000</td>\n",
       "      <td>15.260000</td>\n",
       "    </tr>\n",
       "    <tr>\n",
       "      <th>50%</th>\n",
       "      <td>2014.000000</td>\n",
       "      <td>5.240000e+04</td>\n",
       "      <td>5.000000</td>\n",
       "      <td>5.750000</td>\n",
       "      <td>98.600000</td>\n",
       "      <td>1497.000000</td>\n",
       "      <td>18.200000</td>\n",
       "    </tr>\n",
       "    <tr>\n",
       "      <th>75%</th>\n",
       "      <td>2016.000000</td>\n",
       "      <td>7.245750e+04</td>\n",
       "      <td>5.000000</td>\n",
       "      <td>10.250000</td>\n",
       "      <td>139.040000</td>\n",
       "      <td>1991.000000</td>\n",
       "      <td>21.100000</td>\n",
       "    </tr>\n",
       "    <tr>\n",
       "      <th>max</th>\n",
       "      <td>2019.000000</td>\n",
       "      <td>6.500000e+06</td>\n",
       "      <td>10.000000</td>\n",
       "      <td>160.000000</td>\n",
       "      <td>560.000000</td>\n",
       "      <td>5998.000000</td>\n",
       "      <td>28.400000</td>\n",
       "    </tr>\n",
       "  </tbody>\n",
       "</table>\n",
       "</div>"
      ],
      "text/plain": [
       "              Year  Kilometers_Driven        Seats        Price   Power(bhp)  \\\n",
       "count  5807.000000       5.807000e+03  5807.000000  5807.000000  5807.000000   \n",
       "mean   2013.475805       5.834902e+04     5.286551     9.673429   113.827634   \n",
       "std       3.170718       9.265556e+04     0.806790    11.292012    53.903495   \n",
       "min    1998.000000       1.710000e+02     2.000000     0.440000    34.200000   \n",
       "25%    2012.000000       3.328800e+04     5.000000     3.590000    78.000000   \n",
       "50%    2014.000000       5.240000e+04     5.000000     5.750000    98.600000   \n",
       "75%    2016.000000       7.245750e+04     5.000000    10.250000   139.040000   \n",
       "max    2019.000000       6.500000e+06    10.000000   160.000000   560.000000   \n",
       "\n",
       "        Engine(CC)  km_driven(kmpl)  \n",
       "count  5807.000000      5807.000000  \n",
       "mean   1631.839332        18.206856  \n",
       "std     601.822651         4.288795  \n",
       "min     624.000000         0.000000  \n",
       "25%    1198.000000        15.260000  \n",
       "50%    1497.000000        18.200000  \n",
       "75%    1991.000000        21.100000  \n",
       "max    5998.000000        28.400000  "
      ]
     },
     "execution_count": 25,
     "metadata": {},
     "output_type": "execute_result"
    }
   ],
   "source": [
    "data_clean.describe()"
   ]
  },
  {
   "cell_type": "code",
   "execution_count": 26,
   "id": "2cf736f1",
   "metadata": {},
   "outputs": [
    {
     "data": {
      "text/html": [
       "<div>\n",
       "<style scoped>\n",
       "    .dataframe tbody tr th:only-of-type {\n",
       "        vertical-align: middle;\n",
       "    }\n",
       "\n",
       "    .dataframe tbody tr th {\n",
       "        vertical-align: top;\n",
       "    }\n",
       "\n",
       "    .dataframe thead th {\n",
       "        text-align: right;\n",
       "    }\n",
       "</style>\n",
       "<table border=\"1\" class=\"dataframe\">\n",
       "  <thead>\n",
       "    <tr style=\"text-align: right;\">\n",
       "      <th></th>\n",
       "      <th>Year</th>\n",
       "      <th>Kilometers_Driven</th>\n",
       "      <th>Seats</th>\n",
       "      <th>Price</th>\n",
       "      <th>Power(bhp)</th>\n",
       "      <th>Engine(CC)</th>\n",
       "      <th>km_driven(kmpl)</th>\n",
       "    </tr>\n",
       "  </thead>\n",
       "  <tbody>\n",
       "    <tr>\n",
       "      <th>Year</th>\n",
       "      <td>1.000000</td>\n",
       "      <td>-0.169006</td>\n",
       "      <td>0.007828</td>\n",
       "      <td>0.300675</td>\n",
       "      <td>0.015246</td>\n",
       "      <td>-0.068260</td>\n",
       "      <td>0.291055</td>\n",
       "    </tr>\n",
       "    <tr>\n",
       "      <th>Kilometers_Driven</th>\n",
       "      <td>-0.169006</td>\n",
       "      <td>1.000000</td>\n",
       "      <td>0.083300</td>\n",
       "      <td>-0.008330</td>\n",
       "      <td>0.033328</td>\n",
       "      <td>0.093220</td>\n",
       "      <td>-0.061805</td>\n",
       "    </tr>\n",
       "    <tr>\n",
       "      <th>Seats</th>\n",
       "      <td>0.007828</td>\n",
       "      <td>0.083300</td>\n",
       "      <td>1.000000</td>\n",
       "      <td>0.053251</td>\n",
       "      <td>0.098152</td>\n",
       "      <td>0.400124</td>\n",
       "      <td>-0.330502</td>\n",
       "    </tr>\n",
       "    <tr>\n",
       "      <th>Price</th>\n",
       "      <td>0.300675</td>\n",
       "      <td>-0.008330</td>\n",
       "      <td>0.053251</td>\n",
       "      <td>1.000000</td>\n",
       "      <td>0.772422</td>\n",
       "      <td>0.656887</td>\n",
       "      <td>-0.340748</td>\n",
       "    </tr>\n",
       "    <tr>\n",
       "      <th>Power(bhp)</th>\n",
       "      <td>0.015246</td>\n",
       "      <td>0.033328</td>\n",
       "      <td>0.098152</td>\n",
       "      <td>0.772422</td>\n",
       "      <td>1.000000</td>\n",
       "      <td>0.865013</td>\n",
       "      <td>-0.536726</td>\n",
       "    </tr>\n",
       "    <tr>\n",
       "      <th>Engine(CC)</th>\n",
       "      <td>-0.068260</td>\n",
       "      <td>0.093220</td>\n",
       "      <td>0.400124</td>\n",
       "      <td>0.656887</td>\n",
       "      <td>0.865013</td>\n",
       "      <td>1.000000</td>\n",
       "      <td>-0.637239</td>\n",
       "    </tr>\n",
       "    <tr>\n",
       "      <th>km_driven(kmpl)</th>\n",
       "      <td>0.291055</td>\n",
       "      <td>-0.061805</td>\n",
       "      <td>-0.330502</td>\n",
       "      <td>-0.340748</td>\n",
       "      <td>-0.536726</td>\n",
       "      <td>-0.637239</td>\n",
       "      <td>1.000000</td>\n",
       "    </tr>\n",
       "  </tbody>\n",
       "</table>\n",
       "</div>"
      ],
      "text/plain": [
       "                       Year  Kilometers_Driven     Seats     Price  \\\n",
       "Year               1.000000          -0.169006  0.007828  0.300675   \n",
       "Kilometers_Driven -0.169006           1.000000  0.083300 -0.008330   \n",
       "Seats              0.007828           0.083300  1.000000  0.053251   \n",
       "Price              0.300675          -0.008330  0.053251  1.000000   \n",
       "Power(bhp)         0.015246           0.033328  0.098152  0.772422   \n",
       "Engine(CC)        -0.068260           0.093220  0.400124  0.656887   \n",
       "km_driven(kmpl)    0.291055          -0.061805 -0.330502 -0.340748   \n",
       "\n",
       "                   Power(bhp)  Engine(CC)  km_driven(kmpl)  \n",
       "Year                 0.015246   -0.068260         0.291055  \n",
       "Kilometers_Driven    0.033328    0.093220        -0.061805  \n",
       "Seats                0.098152    0.400124        -0.330502  \n",
       "Price                0.772422    0.656887        -0.340748  \n",
       "Power(bhp)           1.000000    0.865013        -0.536726  \n",
       "Engine(CC)           0.865013    1.000000        -0.637239  \n",
       "km_driven(kmpl)     -0.536726   -0.637239         1.000000  "
      ]
     },
     "execution_count": 26,
     "metadata": {},
     "output_type": "execute_result"
    }
   ],
   "source": [
    "# Calcule de la corrélation entre les données\n",
    "data_clean.corr()"
   ]
  },
  {
   "cell_type": "code",
   "execution_count": 27,
   "id": "ec9ab870",
   "metadata": {},
   "outputs": [
    {
     "data": {
      "text/html": [
       "<div>\n",
       "<style scoped>\n",
       "    .dataframe tbody tr th:only-of-type {\n",
       "        vertical-align: middle;\n",
       "    }\n",
       "\n",
       "    .dataframe tbody tr th {\n",
       "        vertical-align: top;\n",
       "    }\n",
       "\n",
       "    .dataframe thead th {\n",
       "        text-align: right;\n",
       "    }\n",
       "</style>\n",
       "<table border=\"1\" class=\"dataframe\">\n",
       "  <thead>\n",
       "    <tr style=\"text-align: right;\">\n",
       "      <th></th>\n",
       "      <th>Name</th>\n",
       "      <th>Location</th>\n",
       "      <th>Year</th>\n",
       "      <th>Kilometers_Driven</th>\n",
       "      <th>Fuel_Type</th>\n",
       "      <th>Transmission</th>\n",
       "      <th>Owner_Type</th>\n",
       "      <th>Seats</th>\n",
       "      <th>Power(bhp)</th>\n",
       "      <th>Engine(CC)</th>\n",
       "      <th>km_driven(kmpl)</th>\n",
       "      <th>Marque</th>\n",
       "      <th>Price</th>\n",
       "    </tr>\n",
       "  </thead>\n",
       "  <tbody>\n",
       "    <tr>\n",
       "      <th>1</th>\n",
       "      <td>Hyundai Creta 1.6 CRDi SX Option</td>\n",
       "      <td>Pune</td>\n",
       "      <td>2015</td>\n",
       "      <td>41000</td>\n",
       "      <td>Diesel</td>\n",
       "      <td>Manual</td>\n",
       "      <td>First</td>\n",
       "      <td>5.0</td>\n",
       "      <td>126.20</td>\n",
       "      <td>1582</td>\n",
       "      <td>19.67</td>\n",
       "      <td>hyundai</td>\n",
       "      <td>12.50</td>\n",
       "    </tr>\n",
       "    <tr>\n",
       "      <th>2</th>\n",
       "      <td>Honda Jazz V</td>\n",
       "      <td>Chennai</td>\n",
       "      <td>2011</td>\n",
       "      <td>46000</td>\n",
       "      <td>Petrol</td>\n",
       "      <td>Manual</td>\n",
       "      <td>First</td>\n",
       "      <td>5.0</td>\n",
       "      <td>88.70</td>\n",
       "      <td>1199</td>\n",
       "      <td>18.20</td>\n",
       "      <td>honda</td>\n",
       "      <td>4.50</td>\n",
       "    </tr>\n",
       "    <tr>\n",
       "      <th>3</th>\n",
       "      <td>Maruti Ertiga VDI</td>\n",
       "      <td>Chennai</td>\n",
       "      <td>2012</td>\n",
       "      <td>87000</td>\n",
       "      <td>Diesel</td>\n",
       "      <td>Manual</td>\n",
       "      <td>First</td>\n",
       "      <td>7.0</td>\n",
       "      <td>88.76</td>\n",
       "      <td>1248</td>\n",
       "      <td>20.77</td>\n",
       "      <td>maruti</td>\n",
       "      <td>6.00</td>\n",
       "    </tr>\n",
       "    <tr>\n",
       "      <th>4</th>\n",
       "      <td>Audi A4 New 2.0 TDI Multitronic</td>\n",
       "      <td>Coimbatore</td>\n",
       "      <td>2013</td>\n",
       "      <td>40670</td>\n",
       "      <td>Diesel</td>\n",
       "      <td>Automatic</td>\n",
       "      <td>Second</td>\n",
       "      <td>5.0</td>\n",
       "      <td>140.80</td>\n",
       "      <td>1968</td>\n",
       "      <td>15.20</td>\n",
       "      <td>audi</td>\n",
       "      <td>17.74</td>\n",
       "    </tr>\n",
       "    <tr>\n",
       "      <th>6</th>\n",
       "      <td>Nissan Micra Diesel XV</td>\n",
       "      <td>Jaipur</td>\n",
       "      <td>2013</td>\n",
       "      <td>86999</td>\n",
       "      <td>Diesel</td>\n",
       "      <td>Manual</td>\n",
       "      <td>First</td>\n",
       "      <td>5.0</td>\n",
       "      <td>63.10</td>\n",
       "      <td>1461</td>\n",
       "      <td>23.08</td>\n",
       "      <td>nissan</td>\n",
       "      <td>3.50</td>\n",
       "    </tr>\n",
       "    <tr>\n",
       "      <th>...</th>\n",
       "      <td>...</td>\n",
       "      <td>...</td>\n",
       "      <td>...</td>\n",
       "      <td>...</td>\n",
       "      <td>...</td>\n",
       "      <td>...</td>\n",
       "      <td>...</td>\n",
       "      <td>...</td>\n",
       "      <td>...</td>\n",
       "      <td>...</td>\n",
       "      <td>...</td>\n",
       "      <td>...</td>\n",
       "      <td>...</td>\n",
       "    </tr>\n",
       "    <tr>\n",
       "      <th>6014</th>\n",
       "      <td>Maruti Swift VDI</td>\n",
       "      <td>Delhi</td>\n",
       "      <td>2014</td>\n",
       "      <td>27365</td>\n",
       "      <td>Diesel</td>\n",
       "      <td>Manual</td>\n",
       "      <td>First</td>\n",
       "      <td>5.0</td>\n",
       "      <td>74.00</td>\n",
       "      <td>1248</td>\n",
       "      <td>28.40</td>\n",
       "      <td>maruti</td>\n",
       "      <td>4.75</td>\n",
       "    </tr>\n",
       "    <tr>\n",
       "      <th>6015</th>\n",
       "      <td>Hyundai Xcent 1.1 CRDi S</td>\n",
       "      <td>Jaipur</td>\n",
       "      <td>2015</td>\n",
       "      <td>100000</td>\n",
       "      <td>Diesel</td>\n",
       "      <td>Manual</td>\n",
       "      <td>First</td>\n",
       "      <td>5.0</td>\n",
       "      <td>71.00</td>\n",
       "      <td>1120</td>\n",
       "      <td>24.40</td>\n",
       "      <td>hyundai</td>\n",
       "      <td>4.00</td>\n",
       "    </tr>\n",
       "    <tr>\n",
       "      <th>6016</th>\n",
       "      <td>Mahindra Xylo D4 BSIV</td>\n",
       "      <td>Jaipur</td>\n",
       "      <td>2012</td>\n",
       "      <td>55000</td>\n",
       "      <td>Diesel</td>\n",
       "      <td>Manual</td>\n",
       "      <td>Second</td>\n",
       "      <td>8.0</td>\n",
       "      <td>112.00</td>\n",
       "      <td>2498</td>\n",
       "      <td>14.00</td>\n",
       "      <td>mahindra</td>\n",
       "      <td>2.90</td>\n",
       "    </tr>\n",
       "    <tr>\n",
       "      <th>6017</th>\n",
       "      <td>Maruti Wagon R VXI</td>\n",
       "      <td>Kolkata</td>\n",
       "      <td>2013</td>\n",
       "      <td>46000</td>\n",
       "      <td>Petrol</td>\n",
       "      <td>Manual</td>\n",
       "      <td>First</td>\n",
       "      <td>5.0</td>\n",
       "      <td>67.10</td>\n",
       "      <td>998</td>\n",
       "      <td>18.90</td>\n",
       "      <td>maruti</td>\n",
       "      <td>2.65</td>\n",
       "    </tr>\n",
       "    <tr>\n",
       "      <th>6018</th>\n",
       "      <td>Chevrolet Beat Diesel</td>\n",
       "      <td>Hyderabad</td>\n",
       "      <td>2011</td>\n",
       "      <td>47000</td>\n",
       "      <td>Diesel</td>\n",
       "      <td>Manual</td>\n",
       "      <td>First</td>\n",
       "      <td>5.0</td>\n",
       "      <td>57.60</td>\n",
       "      <td>936</td>\n",
       "      <td>25.44</td>\n",
       "      <td>chevrolet</td>\n",
       "      <td>2.50</td>\n",
       "    </tr>\n",
       "  </tbody>\n",
       "</table>\n",
       "<p>5807 rows × 13 columns</p>\n",
       "</div>"
      ],
      "text/plain": [
       "                                  Name    Location  Year  Kilometers_Driven  \\\n",
       "1     Hyundai Creta 1.6 CRDi SX Option        Pune  2015              41000   \n",
       "2                         Honda Jazz V     Chennai  2011              46000   \n",
       "3                    Maruti Ertiga VDI     Chennai  2012              87000   \n",
       "4      Audi A4 New 2.0 TDI Multitronic  Coimbatore  2013              40670   \n",
       "6               Nissan Micra Diesel XV      Jaipur  2013              86999   \n",
       "...                                ...         ...   ...                ...   \n",
       "6014                  Maruti Swift VDI       Delhi  2014              27365   \n",
       "6015          Hyundai Xcent 1.1 CRDi S      Jaipur  2015             100000   \n",
       "6016             Mahindra Xylo D4 BSIV      Jaipur  2012              55000   \n",
       "6017                Maruti Wagon R VXI     Kolkata  2013              46000   \n",
       "6018             Chevrolet Beat Diesel   Hyderabad  2011              47000   \n",
       "\n",
       "     Fuel_Type Transmission Owner_Type  Seats  Power(bhp)  Engine(CC)  \\\n",
       "1       Diesel       Manual      First    5.0      126.20        1582   \n",
       "2       Petrol       Manual      First    5.0       88.70        1199   \n",
       "3       Diesel       Manual      First    7.0       88.76        1248   \n",
       "4       Diesel    Automatic     Second    5.0      140.80        1968   \n",
       "6       Diesel       Manual      First    5.0       63.10        1461   \n",
       "...        ...          ...        ...    ...         ...         ...   \n",
       "6014    Diesel       Manual      First    5.0       74.00        1248   \n",
       "6015    Diesel       Manual      First    5.0       71.00        1120   \n",
       "6016    Diesel       Manual     Second    8.0      112.00        2498   \n",
       "6017    Petrol       Manual      First    5.0       67.10         998   \n",
       "6018    Diesel       Manual      First    5.0       57.60         936   \n",
       "\n",
       "      km_driven(kmpl)     Marque  Price  \n",
       "1               19.67    hyundai  12.50  \n",
       "2               18.20      honda   4.50  \n",
       "3               20.77     maruti   6.00  \n",
       "4               15.20       audi  17.74  \n",
       "6               23.08     nissan   3.50  \n",
       "...               ...        ...    ...  \n",
       "6014            28.40     maruti   4.75  \n",
       "6015            24.40    hyundai   4.00  \n",
       "6016            14.00   mahindra   2.90  \n",
       "6017            18.90     maruti   2.65  \n",
       "6018            25.44  chevrolet   2.50  \n",
       "\n",
       "[5807 rows x 13 columns]"
      ]
     },
     "execution_count": 27,
     "metadata": {},
     "output_type": "execute_result"
    }
   ],
   "source": [
    "#Juste pour la deplacement du colonne target à la fin\n",
    "prix = data_clean.pop('Price')\n",
    "data_clean['Price']=prix\n",
    "data_clean"
   ]
  },
  {
   "cell_type": "markdown",
   "id": "c028a6c4",
   "metadata": {},
   "source": [
    "## Visualisation et Exploration du dataset"
   ]
  },
  {
   "cell_type": "code",
   "execution_count": 28,
   "id": "b082752c",
   "metadata": {},
   "outputs": [
    {
     "data": {
      "text/plain": [
       "160.0"
      ]
     },
     "execution_count": 28,
     "metadata": {},
     "output_type": "execute_result"
    }
   ],
   "source": [
    "# Le prix maximale du voiture *10^3\n",
    "max(data_clean['Price'])"
   ]
  },
  {
   "cell_type": "code",
   "execution_count": 29,
   "id": "b14460a3",
   "metadata": {},
   "outputs": [
    {
     "data": {
      "text/plain": [
       "<AxesSubplot:xlabel='Price', ylabel='Fuel_Type'>"
      ]
     },
     "execution_count": 29,
     "metadata": {},
     "output_type": "execute_result"
    },
    {
     "data": {
      "image/png": "[encoded data removed]",
      "text/plain": [
       "<Figure size 864x576 with 1 Axes>"
      ]
     },
     "metadata": {
      "needs_background": "light"
     },
     "output_type": "display_data"
    }
   ],
   "source": [
    "# Visualisation du prix par rapport au type de carburant \n",
    "plt.figure(figsize=(12,8))\n",
    "sns.scatterplot(x='Price',y='Fuel_Type',data=data_clean)"
   ]
  },
  {
   "cell_type": "code",
   "execution_count": 30,
   "id": "1b2a82a4",
   "metadata": {},
   "outputs": [
    {
     "data": {
      "text/plain": [
       "<AxesSubplot:xlabel='Fuel_Type', ylabel='count'>"
      ]
     },
     "execution_count": 30,
     "metadata": {},
     "output_type": "execute_result"
    },
    {
     "data": {
      "image/png": "[encoded data removed]",
      "text/plain": [
       "<Figure size 1440x720 with 1 Axes>"
      ]
     },
     "metadata": {
      "needs_background": "light"
     },
     "output_type": "display_data"
    }
   ],
   "source": [
    "# Comptage du type de carburant sur chaque catégorie de transmission soit Manuel ou Automatic\n",
    "plt.figure(figsize=(20,10))\n",
    "sns.countplot(x='Fuel_Type',data=data_clean,hue='Transmission') "
   ]
  },
  {
   "cell_type": "code",
   "execution_count": 31,
   "id": "1a86d5e5",
   "metadata": {},
   "outputs": [
    {
     "data": {
      "text/plain": [
       "<AxesSubplot:xlabel='Kilometers_Driven', ylabel='Price'>"
      ]
     },
     "execution_count": 31,
     "metadata": {},
     "output_type": "execute_result"
    },
    {
     "data": {
      "image/png": "[encoded data removed]",
      "text/plain": [
       "<Figure size 1440x720 with 1 Axes>"
      ]
     },
     "metadata": {
      "needs_background": "light"
     },
     "output_type": "display_data"
    }
   ],
   "source": [
    "plt.figure(figsize=(20,10))\n",
    "sns.scatterplot(x=data_clean['Kilometers_Driven'],y=data_clean['Price'])"
   ]
  },
  {
   "cell_type": "code",
   "execution_count": 32,
   "id": "5dbdaae4",
   "metadata": {},
   "outputs": [
    {
     "data": {
      "text/plain": [
       "<AxesSubplot:xlabel='Price', ylabel='Fuel_Type'>"
      ]
     },
     "execution_count": 32,
     "metadata": {},
     "output_type": "execute_result"
    },
    {
     "data": {
      "image/png": "[encoded data removed]",
      "text/plain": [
       "<Figure size 864x576 with 1 Axes>"
      ]
     },
     "metadata": {
      "needs_background": "light"
     },
     "output_type": "display_data"
    }
   ],
   "source": [
    "plt.figure(figsize=(12,8))\n",
    "sns.boxplot(x='Price',y='Fuel_Type',data=data_clean)"
   ]
  },
  {
   "cell_type": "code",
   "execution_count": 33,
   "id": "6e1a73d8",
   "metadata": {},
   "outputs": [
    {
     "data": {
      "text/plain": [
       "<seaborn.axisgrid.FacetGrid at 0x16252eb0250>"
      ]
     },
     "execution_count": 33,
     "metadata": {},
     "output_type": "execute_result"
    },
    {
     "data": {
      "text/plain": [
       "<Figure size 1440x1440 with 0 Axes>"
      ]
     },
     "metadata": {},
     "output_type": "display_data"
    },
    {
     "data": {
      "image/png": "[encoded data removed]",
      "text/plain": [
       "<Figure size 360x360 with 1 Axes>"
      ]
     },
     "metadata": {
      "needs_background": "light"
     },
     "output_type": "display_data"
    }
   ],
   "source": [
    "plt.figure(figsize=(20,20))\n",
    "sns.displot(x='Price',data=data_clean,kde=True)"
   ]
  },
  {
   "cell_type": "code",
   "execution_count": 34,
   "id": "8c506784",
   "metadata": {},
   "outputs": [
    {
     "data": {
      "text/plain": [
       "<AxesSubplot:xlabel='Marque', ylabel='count'>"
      ]
     },
     "execution_count": 34,
     "metadata": {},
     "output_type": "execute_result"
    },
    {
     "data": {
      "image/png": "[encoded data removed]",
      "text/plain": [
       "<Figure size 1584x576 with 1 Axes>"
      ]
     },
     "metadata": {
      "needs_background": "light"
     },
     "output_type": "display_data"
    }
   ],
   "source": [
    "plt.figure(figsize=(22,8))\n",
    "sns.countplot(x=data_clean['Marque'],palette='magma')"
   ]
  },
  {
   "cell_type": "code",
   "execution_count": 35,
   "id": "7e4e94ff",
   "metadata": {},
   "outputs": [
    {
     "data": {
      "text/plain": [
       "<AxesSubplot:xlabel='Seats', ylabel='count'>"
      ]
     },
     "execution_count": 35,
     "metadata": {},
     "output_type": "execute_result"
    },
    {
     "data": {
      "image/png": "[encoded data removed]",
      "text/plain": [
       "<Figure size 1584x576 with 1 Axes>"
      ]
     },
     "metadata": {
      "needs_background": "light"
     },
     "output_type": "display_data"
    }
   ],
   "source": [
    "plt.figure(figsize=(22,8))\n",
    "sns.countplot(x=data_clean['Seats'],palette='magma')"
   ]
  },
  {
   "cell_type": "code",
   "execution_count": 36,
   "id": "c2eb490a",
   "metadata": {},
   "outputs": [
    {
     "name": "stdout",
     "output_type": "stream",
     "text": [
      "Help on function pie in module matplotlib.pyplot:\n",
      "\n",
      "pie(x, explode=None, labels=None, colors=None, autopct=None, pctdistance=0.6, shadow=False, labeldistance=1.1, startangle=0, radius=1, counterclock=True, wedgeprops=None, textprops=None, center=(0, 0), frame=False, rotatelabels=False, *, normalize=True, data=None)\n",
      "    Plot a pie chart.\n",
      "    \n",
      "    Make a pie chart of array *x*.  The fractional area of each wedge is\n",
      "    given by ``x/sum(x)``.  If ``sum(x) < 1``, then the values of *x* give\n",
      "    the fractional area directly and the array will not be normalized. The\n",
      "    resulting pie will have an empty wedge of size ``1 - sum(x)``.\n",
      "    \n",
      "    The wedges are plotted counterclockwise, by default starting from the\n",
      "    x-axis.\n",
      "    \n",
      "    Parameters\n",
      "    ----------\n",
      "    x : 1D array-like\n",
      "        The wedge sizes.\n",
      "    \n",
      "    explode : array-like, default: None\n",
      "        If not *None*, is a ``len(x)`` array which specifies the fraction\n",
      "        of the radius with which to offset each wedge.\n",
      "    \n",
      "    labels : list, default: None\n",
      "        A sequence of strings providing the labels for each wedge\n",
      "    \n",
      "    colors : array-like, default: None\n",
      "        A sequence of colors through which the pie chart will cycle.  If\n",
      "        *None*, will use the colors in the currently active cycle.\n",
      "    \n",
      "    autopct : None or str or callable, default: None\n",
      "        If not *None*, is a string or function used to label the wedges\n",
      "        with their numeric value.  The label will be placed inside the\n",
      "        wedge.  If it is a format string, the label will be ``fmt % pct``.\n",
      "        If it is a function, it will be called.\n",
      "    \n",
      "    pctdistance : float, default: 0.6\n",
      "        The ratio between the center of each pie slice and the start of\n",
      "        the text generated by *autopct*.  Ignored if *autopct* is *None*.\n",
      "    \n",
      "    shadow : bool, default: False\n",
      "        Draw a shadow beneath the pie.\n",
      "    \n",
      "    normalize : bool, default: True\n",
      "        When *True*, always make a full pie by normalizing x so that\n",
      "        ``sum(x) == 1``. *False* makes a partial pie if ``sum(x) <= 1``\n",
      "        and raises a `ValueError` for ``sum(x) > 1``.\n",
      "    \n",
      "    labeldistance : float or None, default: 1.1\n",
      "        The radial distance at which the pie labels are drawn.\n",
      "        If set to ``None``, label are not drawn, but are stored for use in\n",
      "        ``legend()``\n",
      "    \n",
      "    startangle : float, default: 0 degrees\n",
      "        The angle by which the start of the pie is rotated,\n",
      "        counterclockwise from the x-axis.\n",
      "    \n",
      "    radius : float, default: 1\n",
      "        The radius of the pie.\n",
      "    \n",
      "    counterclock : bool, default: True\n",
      "        Specify fractions direction, clockwise or counterclockwise.\n",
      "    \n",
      "    wedgeprops : dict, default: None\n",
      "        Dict of arguments passed to the wedge objects making the pie.\n",
      "        For example, you can pass in ``wedgeprops = {'linewidth': 3}``\n",
      "        to set the width of the wedge border lines equal to 3.\n",
      "        For more details, look at the doc/arguments of the wedge object.\n",
      "        By default ``clip_on=False``.\n",
      "    \n",
      "    textprops : dict, default: None\n",
      "        Dict of arguments to pass to the text objects.\n",
      "    \n",
      "    center : (float, float), default: (0, 0)\n",
      "        The coordinates of the center of the chart.\n",
      "    \n",
      "    frame : bool, default: False\n",
      "        Plot Axes frame with the chart if true.\n",
      "    \n",
      "    rotatelabels : bool, default: False\n",
      "        Rotate each label to the angle of the corresponding slice if true.\n",
      "    \n",
      "    data : indexable object, optional\n",
      "        If given, the following parameters also accept a string ``s``, which is\n",
      "        interpreted as ``data[s]`` (unless this raises an exception):\n",
      "    \n",
      "        *x*, *explode*, *labels*, *colors*\n",
      "    \n",
      "    Returns\n",
      "    -------\n",
      "    patches : list\n",
      "        A sequence of `matplotlib.patches.Wedge` instances\n",
      "    \n",
      "    texts : list\n",
      "        A list of the label `.Text` instances.\n",
      "    \n",
      "    autotexts : list\n",
      "        A list of `.Text` instances for the numeric labels. This will only\n",
      "        be returned if the parameter *autopct* is not *None*.\n",
      "    \n",
      "    Notes\n",
      "    -----\n",
      "    The pie chart will probably look best if the figure and Axes are\n",
      "    square, or the Axes aspect is equal.\n",
      "    This method sets the aspect ratio of the axis to \"equal\".\n",
      "    The Axes aspect ratio can be controlled with `.Axes.set_aspect`.\n",
      "\n"
     ]
    }
   ],
   "source": [
    "help(plt.pie)"
   ]
  },
  {
   "cell_type": "code",
   "execution_count": 37,
   "id": "87b7b219",
   "metadata": {},
   "outputs": [
    {
     "data": {
      "text/plain": [
       "maruti           1121\n",
       "hyundai          1050\n",
       "honda             600\n",
       "toyota            393\n",
       "mercedes-benz     316\n",
       "volkswagen        314\n",
       "ford              294\n",
       "mahindra          268\n",
       "bmw               262\n",
       "audi              235\n",
       "tata              181\n",
       "skoda             172\n",
       "renault           145\n",
       "chevrolet         120\n",
       "nissan             89\n",
       "land               57\n",
       "jaguar             40\n",
       "mitsubishi         27\n",
       "mini               26\n",
       "fiat               23\n",
       "volvo              21\n",
       "porsche            16\n",
       "jeep               15\n",
       "datsun             13\n",
       "isuzu               3\n",
       "force               3\n",
       "ambassador          1\n",
       "bentley             1\n",
       "lamborghini         1\n",
       "Name: Marque, dtype: int64"
      ]
     },
     "execution_count": 37,
     "metadata": {},
     "output_type": "execute_result"
    }
   ],
   "source": [
    "data_clean['Marque'].value_counts()"
   ]
  },
  {
   "cell_type": "code",
   "execution_count": 38,
   "id": "664d9bbc",
   "metadata": {},
   "outputs": [
    {
     "data": {
      "image/png": "[encoded data removed]",
      "text/plain": [
       "<Figure size 720x7200 with 1 Axes>"
      ]
     },
     "metadata": {},
     "output_type": "display_data"
    }
   ],
   "source": [
    "pourcentage= data_clean['Marque'].value_counts(normalize=True)*100\n",
    "plt.figure(figsize=(10,100))\n",
    "plt.pie(pourcentage,labels=pourcentage.index,center=(0, 0),autopct='%1.1f%%',startangle=90);"
   ]
  },
  {
   "cell_type": "code",
   "execution_count": 39,
   "id": "ed5b9814",
   "metadata": {},
   "outputs": [
    {
     "data": {
      "text/plain": [
       "<AxesSubplot:xlabel='Marque', ylabel='Count'>"
      ]
     },
     "execution_count": 39,
     "metadata": {},
     "output_type": "execute_result"
    },
    {
     "data": {
      "image/png": "[encoded data removed]",
      "text/plain": [
       "<Figure size 1800x576 with 1 Axes>"
      ]
     },
     "metadata": {
      "needs_background": "light"
     },
     "output_type": "display_data"
    }
   ],
   "source": [
    "plt.figure(figsize=(25,8))\n",
    "sns.histplot(x=data_clean['Marque'],palette='magma')"
   ]
  },
  {
   "cell_type": "code",
   "execution_count": 40,
   "id": "bd49cb12",
   "metadata": {},
   "outputs": [
    {
     "data": {
      "text/plain": [
       "<AxesSubplot:>"
      ]
     },
     "execution_count": 40,
     "metadata": {},
     "output_type": "execute_result"
    },
    {
     "data": {
      "image/png": "[encoded data removed]",
      "text/plain": [
       "<Figure size 864x576 with 2 Axes>"
      ]
     },
     "metadata": {
      "needs_background": "light"
     },
     "output_type": "display_data"
    }
   ],
   "source": [
    "plt.figure(figsize=(12,8))\n",
    "sns.heatmap(data_clean.corr(),annot=True)"
   ]
  },
  {
   "cell_type": "markdown",
   "id": "186400be",
   "metadata": {},
   "source": [
    "# OUTLIERS"
   ]
  },
  {
   "cell_type": "code",
   "execution_count": 42,
   "id": "28675b79",
   "metadata": {},
   "outputs": [
    {
     "data": {
      "text/plain": [
       "<AxesSubplot:xlabel='Price'>"
      ]
     },
     "execution_count": 42,
     "metadata": {},
     "output_type": "execute_result"
    },
    {
     "data": {
      "image/png": "[encoded data removed]",
      "text/plain": [
       "<Figure size 720x360 with 1 Axes>"
      ]
     },
     "metadata": {
      "needs_background": "light"
     },
     "output_type": "display_data"
    }
   ],
   "source": [
    "plt.figure(figsize=(10,5))\n",
    "sns.boxplot(x='Price',data=data_clean)"
   ]
  },
  {
   "cell_type": "code",
   "execution_count": 48,
   "id": "dc2e4952",
   "metadata": {},
   "outputs": [],
   "source": [
    "def all_val_ab(x):\n",
    "    Q1= np.quantile(x, 0.25)\n",
    "    Q3= np.quantile(x,0.75)\n",
    "    Ecart_Inter_Quartile= Q3 - Q1\n",
    "    limite_inf= Q1 - (1.5*Ecart_Inter_Quartile)\n",
    "    limite_sup= Q3 + (1.5*Ecart_Inter_Quartile)\n",
    "    i = list(x.index[(x<limite_inf)|(x>limite_sup)])\n",
    "    val= list(x[i])\n",
    "    return i, val"
   ]
  },
  {
   "cell_type": "code",
   "execution_count": 49,
   "id": "f2d19845",
   "metadata": {},
   "outputs": [
    {
     "data": {
      "text/plain": [
       "([13,\n",
       "  19,\n",
       "  22,\n",
       "  38,\n",
       "  50,\n",
       "  62,\n",
       "  67,\n",
       "  75,\n",
       "  92,\n",
       "  107,\n",
       "  113,\n",
       "  134,\n",
       "  148,\n",
       "  149,\n",
       "  150,\n",
       "  152,\n",
       "  168,\n",
       "  169,\n",
       "  172,\n",
       "  176,\n",
       "  178,\n",
       "  182,\n",
       "  186,\n",
       "  191,\n",
       "  216,\n",
       "  219,\n",
       "  224,\n",
       "  228,\n",
       "  255,\n",
       "  264,\n",
       "  271,\n",
       "  282,\n",
       "  291,\n",
       "  298,\n",
       "  299,\n",
       "  305,\n",
       "  306,\n",
       "  310,\n",
       "  311,\n",
       "  325,\n",
       "  326,\n",
       "  327,\n",
       "  348,\n",
       "  355,\n",
       "  357,\n",
       "  365,\n",
       "  378,\n",
       "  382,\n",
       "  384,\n",
       "  389,\n",
       "  391,\n",
       "  392,\n",
       "  399,\n",
       "  400,\n",
       "  401,\n",
       "  404,\n",
       "  406,\n",
       "  407,\n",
       "  409,\n",
       "  410,\n",
       "  413,\n",
       "  418,\n",
       "  423,\n",
       "  427,\n",
       "  435,\n",
       "  437,\n",
       "  451,\n",
       "  457,\n",
       "  458,\n",
       "  459,\n",
       "  473,\n",
       "  474,\n",
       "  480,\n",
       "  483,\n",
       "  489,\n",
       "  503,\n",
       "  516,\n",
       "  521,\n",
       "  524,\n",
       "  544,\n",
       "  549,\n",
       "  557,\n",
       "  563,\n",
       "  566,\n",
       "  583,\n",
       "  586,\n",
       "  593,\n",
       "  596,\n",
       "  598,\n",
       "  599,\n",
       "  603,\n",
       "  608,\n",
       "  628,\n",
       "  632,\n",
       "  633,\n",
       "  640,\n",
       "  644,\n",
       "  651,\n",
       "  653,\n",
       "  655,\n",
       "  659,\n",
       "  693,\n",
       "  694,\n",
       "  703,\n",
       "  704,\n",
       "  706,\n",
       "  707,\n",
       "  712,\n",
       "  719,\n",
       "  723,\n",
       "  746,\n",
       "  751,\n",
       "  752,\n",
       "  766,\n",
       "  772,\n",
       "  778,\n",
       "  798,\n",
       "  802,\n",
       "  806,\n",
       "  818,\n",
       "  819,\n",
       "  842,\n",
       "  864,\n",
       "  866,\n",
       "  873,\n",
       "  886,\n",
       "  895,\n",
       "  899,\n",
       "  902,\n",
       "  904,\n",
       "  913,\n",
       "  918,\n",
       "  939,\n",
       "  941,\n",
       "  957,\n",
       "  962,\n",
       "  966,\n",
       "  975,\n",
       "  1028,\n",
       "  1037,\n",
       "  1038,\n",
       "  1044,\n",
       "  1065,\n",
       "  1076,\n",
       "  1078,\n",
       "  1093,\n",
       "  1104,\n",
       "  1106,\n",
       "  1113,\n",
       "  1117,\n",
       "  1120,\n",
       "  1138,\n",
       "  1144,\n",
       "  1192,\n",
       "  1194,\n",
       "  1197,\n",
       "  1209,\n",
       "  1220,\n",
       "  1233,\n",
       "  1237,\n",
       "  1242,\n",
       "  1245,\n",
       "  1246,\n",
       "  1258,\n",
       "  1260,\n",
       "  1288,\n",
       "  1299,\n",
       "  1302,\n",
       "  1303,\n",
       "  1305,\n",
       "  1308,\n",
       "  1336,\n",
       "  1349,\n",
       "  1352,\n",
       "  1379,\n",
       "  1386,\n",
       "  1390,\n",
       "  1397,\n",
       "  1413,\n",
       "  1420,\n",
       "  1430,\n",
       "  1451,\n",
       "  1461,\n",
       "  1464,\n",
       "  1476,\n",
       "  1477,\n",
       "  1496,\n",
       "  1505,\n",
       "  1508,\n",
       "  1513,\n",
       "  1516,\n",
       "  1532,\n",
       "  1537,\n",
       "  1541,\n",
       "  1545,\n",
       "  1548,\n",
       "  1562,\n",
       "  1568,\n",
       "  1574,\n",
       "  1577,\n",
       "  1583,\n",
       "  1631,\n",
       "  1637,\n",
       "  1639,\n",
       "  1652,\n",
       "  1668,\n",
       "  1673,\n",
       "  1683,\n",
       "  1689,\n",
       "  1690,\n",
       "  1691,\n",
       "  1707,\n",
       "  1708,\n",
       "  1724,\n",
       "  1741,\n",
       "  1755,\n",
       "  1759,\n",
       "  1764,\n",
       "  1799,\n",
       "  1807,\n",
       "  1809,\n",
       "  1819,\n",
       "  1828,\n",
       "  1830,\n",
       "  1863,\n",
       "  1864,\n",
       "  1885,\n",
       "  1893,\n",
       "  1902,\n",
       "  1924,\n",
       "  1925,\n",
       "  1926,\n",
       "  1941,\n",
       "  1943,\n",
       "  1947,\n",
       "  1954,\n",
       "  1963,\n",
       "  1968,\n",
       "  1974,\n",
       "  1981,\n",
       "  1984,\n",
       "  1985,\n",
       "  2002,\n",
       "  2003,\n",
       "  2017,\n",
       "  2019,\n",
       "  2040,\n",
       "  2056,\n",
       "  2060,\n",
       "  2073,\n",
       "  2083,\n",
       "  2089,\n",
       "  2095,\n",
       "  2097,\n",
       "  2100,\n",
       "  2109,\n",
       "  2111,\n",
       "  2114,\n",
       "  2121,\n",
       "  2128,\n",
       "  2134,\n",
       "  2139,\n",
       "  2145,\n",
       "  2153,\n",
       "  2161,\n",
       "  2165,\n",
       "  2178,\n",
       "  2182,\n",
       "  2190,\n",
       "  2193,\n",
       "  2199,\n",
       "  2209,\n",
       "  2218,\n",
       "  2233,\n",
       "  2240,\n",
       "  2243,\n",
       "  2254,\n",
       "  2259,\n",
       "  2263,\n",
       "  2270,\n",
       "  2276,\n",
       "  2288,\n",
       "  2304,\n",
       "  2306,\n",
       "  2311,\n",
       "  2319,\n",
       "  2328,\n",
       "  2334,\n",
       "  2341,\n",
       "  2355,\n",
       "  2357,\n",
       "  2364,\n",
       "  2370,\n",
       "  2382,\n",
       "  2395,\n",
       "  2401,\n",
       "  2406,\n",
       "  2418,\n",
       "  2422,\n",
       "  2429,\n",
       "  2432,\n",
       "  2445,\n",
       "  2446,\n",
       "  2455,\n",
       "  2470,\n",
       "  2474,\n",
       "  2477,\n",
       "  2484,\n",
       "  2493,\n",
       "  2505,\n",
       "  2506,\n",
       "  2509,\n",
       "  2510,\n",
       "  2515,\n",
       "  2523,\n",
       "  2528,\n",
       "  2532,\n",
       "  2533,\n",
       "  2537,\n",
       "  2541,\n",
       "  2547,\n",
       "  2553,\n",
       "  2563,\n",
       "  2593,\n",
       "  2604,\n",
       "  2609,\n",
       "  2652,\n",
       "  2659,\n",
       "  2660,\n",
       "  2669,\n",
       "  2687,\n",
       "  2699,\n",
       "  2706,\n",
       "  2710,\n",
       "  2711,\n",
       "  2757,\n",
       "  2767,\n",
       "  2787,\n",
       "  2795,\n",
       "  2808,\n",
       "  2822,\n",
       "  2833,\n",
       "  2835,\n",
       "  2838,\n",
       "  2855,\n",
       "  2863,\n",
       "  2876,\n",
       "  2879,\n",
       "  2896,\n",
       "  2898,\n",
       "  2907,\n",
       "  2916,\n",
       "  2924,\n",
       "  2928,\n",
       "  2929,\n",
       "  2948,\n",
       "  2963,\n",
       "  2978,\n",
       "  3014,\n",
       "  3017,\n",
       "  3022,\n",
       "  3028,\n",
       "  3038,\n",
       "  3043,\n",
       "  3045,\n",
       "  3051,\n",
       "  3062,\n",
       "  3066,\n",
       "  3079,\n",
       "  3085,\n",
       "  3093,\n",
       "  3096,\n",
       "  3115,\n",
       "  3122,\n",
       "  3137,\n",
       "  3147,\n",
       "  3148,\n",
       "  3151,\n",
       "  3158,\n",
       "  3161,\n",
       "  3163,\n",
       "  3169,\n",
       "  3175,\n",
       "  3188,\n",
       "  3194,\n",
       "  3196,\n",
       "  3199,\n",
       "  3210,\n",
       "  3218,\n",
       "  3233,\n",
       "  3242,\n",
       "  3259,\n",
       "  3266,\n",
       "  3268,\n",
       "  3277,\n",
       "  3289,\n",
       "  3324,\n",
       "  3341,\n",
       "  3343,\n",
       "  3382,\n",
       "  3390,\n",
       "  3398,\n",
       "  3410,\n",
       "  3434,\n",
       "  3444,\n",
       "  3446,\n",
       "  3453,\n",
       "  3488,\n",
       "  3489,\n",
       "  3500,\n",
       "  3521,\n",
       "  3523,\n",
       "  3535,\n",
       "  3540,\n",
       "  3555,\n",
       "  3567,\n",
       "  3572,\n",
       "  3580,\n",
       "  3581,\n",
       "  3590,\n",
       "  3608,\n",
       "  3622,\n",
       "  3632,\n",
       "  3633,\n",
       "  3661,\n",
       "  3679,\n",
       "  3705,\n",
       "  3706,\n",
       "  3712,\n",
       "  3730,\n",
       "  3741,\n",
       "  3752,\n",
       "  3794,\n",
       "  3795,\n",
       "  3797,\n",
       "  3799,\n",
       "  3814,\n",
       "  3836,\n",
       "  3867,\n",
       "  3911,\n",
       "  3918,\n",
       "  3933,\n",
       "  3975,\n",
       "  3978,\n",
       "  3994,\n",
       "  4003,\n",
       "  4017,\n",
       "  4028,\n",
       "  4031,\n",
       "  4052,\n",
       "  4055,\n",
       "  4057,\n",
       "  4058,\n",
       "  4061,\n",
       "  4063,\n",
       "  4067,\n",
       "  4069,\n",
       "  4070,\n",
       "  4079,\n",
       "  4095,\n",
       "  4096,\n",
       "  4101,\n",
       "  4105,\n",
       "  4108,\n",
       "  4117,\n",
       "  4120,\n",
       "  4131,\n",
       "  4139,\n",
       "  4163,\n",
       "  4166,\n",
       "  4185,\n",
       "  4191,\n",
       "  4204,\n",
       "  4210,\n",
       "  4222,\n",
       "  4223,\n",
       "  4227,\n",
       "  4233,\n",
       "  4234,\n",
       "  4236,\n",
       "  4251,\n",
       "  4282,\n",
       "  4321,\n",
       "  4322,\n",
       "  4327,\n",
       "  4345,\n",
       "  4349,\n",
       "  4350,\n",
       "  4357,\n",
       "  4360,\n",
       "  4375,\n",
       "  4377,\n",
       "  4382,\n",
       "  4387,\n",
       "  4388,\n",
       "  4389,\n",
       "  4404,\n",
       "  4412,\n",
       "  4416,\n",
       "  4417,\n",
       "  4423,\n",
       "  4441,\n",
       "  4451,\n",
       "  4486,\n",
       "  4497,\n",
       "  4502,\n",
       "  4513,\n",
       "  4527,\n",
       "  4530,\n",
       "  4545,\n",
       "  4554,\n",
       "  4555,\n",
       "  4558,\n",
       "  4566,\n",
       "  4579,\n",
       "  4591,\n",
       "  4595,\n",
       "  4601,\n",
       "  4614,\n",
       "  4615,\n",
       "  4618,\n",
       "  4622,\n",
       "  4627,\n",
       "  4643,\n",
       "  4648,\n",
       "  4657,\n",
       "  4661,\n",
       "  4676,\n",
       "  4689,\n",
       "  4691,\n",
       "  4699,\n",
       "  4701,\n",
       "  4704,\n",
       "  4708,\n",
       "  4722,\n",
       "  4726,\n",
       "  4737,\n",
       "  4742,\n",
       "  4755,\n",
       "  4770,\n",
       "  4778,\n",
       "  4788,\n",
       "  4790,\n",
       "  4795,\n",
       "  4800,\n",
       "  4801,\n",
       "  4810,\n",
       "  4813,\n",
       "  4821,\n",
       "  4854,\n",
       "  4856,\n",
       "  4858,\n",
       "  4862,\n",
       "  4869,\n",
       "  4889,\n",
       "  4893,\n",
       "  4906,\n",
       "  4914,\n",
       "  4924,\n",
       "  4925,\n",
       "  4933,\n",
       "  4936,\n",
       "  4938,\n",
       "  4942,\n",
       "  4948,\n",
       "  4956,\n",
       "  4988,\n",
       "  4993,\n",
       "  5002,\n",
       "  5009,\n",
       "  5022,\n",
       "  5027,\n",
       "  5038,\n",
       "  5042,\n",
       "  5067,\n",
       "  5073,\n",
       "  5075,\n",
       "  5082,\n",
       "  5088,\n",
       "  5094,\n",
       "  5096,\n",
       "  5107,\n",
       "  5118,\n",
       "  5122,\n",
       "  5140,\n",
       "  5146,\n",
       "  5153,\n",
       "  5158,\n",
       "  5166,\n",
       "  5191,\n",
       "  5218,\n",
       "  5239,\n",
       "  5242,\n",
       "  5247,\n",
       "  5276,\n",
       "  5278,\n",
       "  5294,\n",
       "  5296,\n",
       "  5302,\n",
       "  5304,\n",
       "  5305,\n",
       "  5312,\n",
       "  5313,\n",
       "  5323,\n",
       "  5328,\n",
       "  5341,\n",
       "  5346,\n",
       "  5362,\n",
       "  5372,\n",
       "  5374,\n",
       "  5382,\n",
       "  5397,\n",
       "  5405,\n",
       "  5411,\n",
       "  5414,\n",
       "  5416,\n",
       "  5420,\n",
       "  5423,\n",
       "  5441,\n",
       "  5447,\n",
       "  5459,\n",
       "  5460,\n",
       "  5461,\n",
       "  5477,\n",
       "  5512,\n",
       "  5516,\n",
       "  5518,\n",
       "  5521,\n",
       "  5525,\n",
       "  5535,\n",
       "  5539,\n",
       "  5545,\n",
       "  5552,\n",
       "  5557,\n",
       "  5558,\n",
       "  5561,\n",
       "  5564,\n",
       "  5568,\n",
       "  5582,\n",
       "  5586,\n",
       "  5595,\n",
       "  5599,\n",
       "  5601,\n",
       "  5603,\n",
       "  5618,\n",
       "  5673,\n",
       "  5692,\n",
       "  5699,\n",
       "  5702,\n",
       "  5727,\n",
       "  5740,\n",
       "  5741,\n",
       "  5743,\n",
       "  5745,\n",
       "  5751,\n",
       "  5761,\n",
       "  5762,\n",
       "  5775,\n",
       "  5776,\n",
       "  5781,\n",
       "  5782,\n",
       "  5791,\n",
       "  5803,\n",
       "  5845,\n",
       "  5848,\n",
       "  5863,\n",
       "  5867,\n",
       "  5868,\n",
       "  5874,\n",
       "  5875,\n",
       "  5900,\n",
       "  5909,\n",
       "  5919,\n",
       "  5921,\n",
       "  5923,\n",
       "  5927,\n",
       "  5946,\n",
       "  5950,\n",
       "  5970,\n",
       "  5996,\n",
       "  6008],\n",
       " [27.0,\n",
       "  28.0,\n",
       "  23.5,\n",
       "  28.0,\n",
       "  21.43,\n",
       "  26.7,\n",
       "  35.67,\n",
       "  29.5,\n",
       "  39.58,\n",
       "  24.0,\n",
       "  20.75,\n",
       "  54.0,\n",
       "  37.0,\n",
       "  26.5,\n",
       "  23.32,\n",
       "  30.0,\n",
       "  45.0,\n",
       "  33.66,\n",
       "  42.5,\n",
       "  23.0,\n",
       "  22.95,\n",
       "  33.5,\n",
       "  32.0,\n",
       "  55.76,\n",
       "  45.0,\n",
       "  26.0,\n",
       "  39.41,\n",
       "  35.67,\n",
       "  21.99,\n",
       "  61.29,\n",
       "  45.77,\n",
       "  70.36,\n",
       "  28.0,\n",
       "  20.25,\n",
       "  26.78,\n",
       "  20.77,\n",
       "  20.26,\n",
       "  57.0,\n",
       "  44.0,\n",
       "  21.95,\n",
       "  49.0,\n",
       "  62.67,\n",
       "  25.99,\n",
       "  52.0,\n",
       "  27.3,\n",
       "  35.0,\n",
       "  26.0,\n",
       "  26.5,\n",
       "  37.0,\n",
       "  34.5,\n",
       "  32.0,\n",
       "  62.81,\n",
       "  30.0,\n",
       "  28.0,\n",
       "  28.0,\n",
       "  53.83,\n",
       "  33.5,\n",
       "  27.95,\n",
       "  25.71,\n",
       "  29.67,\n",
       "  25.5,\n",
       "  70.99,\n",
       "  24.5,\n",
       "  28.5,\n",
       "  25.82,\n",
       "  22.0,\n",
       "  39.0,\n",
       "  20.37,\n",
       "  36.5,\n",
       "  48.91,\n",
       "  51.43,\n",
       "  23.0,\n",
       "  33.5,\n",
       "  28.42,\n",
       "  56.0,\n",
       "  32.0,\n",
       "  27.5,\n",
       "  45.64,\n",
       "  37.56,\n",
       "  38.99,\n",
       "  29.4,\n",
       "  29.5,\n",
       "  25.5,\n",
       "  29.98,\n",
       "  33.0,\n",
       "  29.77,\n",
       "  44.0,\n",
       "  24.22,\n",
       "  44.0,\n",
       "  24.82,\n",
       "  48.5,\n",
       "  44.56,\n",
       "  20.5,\n",
       "  29.5,\n",
       "  25.0,\n",
       "  35.84,\n",
       "  23.5,\n",
       "  37.93,\n",
       "  20.5,\n",
       "  75.0,\n",
       "  23.89,\n",
       "  55.54,\n",
       "  29.0,\n",
       "  31.12,\n",
       "  25.46,\n",
       "  36.0,\n",
       "  30.0,\n",
       "  54.0,\n",
       "  43.35,\n",
       "  24.75,\n",
       "  23.5,\n",
       "  35.68,\n",
       "  31.94,\n",
       "  35.55,\n",
       "  39.47,\n",
       "  22.75,\n",
       "  55.0,\n",
       "  56.0,\n",
       "  29.2,\n",
       "  23.29,\n",
       "  23.99,\n",
       "  41.5,\n",
       "  32.8,\n",
       "  50.29,\n",
       "  21.67,\n",
       "  35.0,\n",
       "  21.8,\n",
       "  32.0,\n",
       "  23.99,\n",
       "  27.0,\n",
       "  43.74,\n",
       "  58.0,\n",
       "  20.5,\n",
       "  59.72,\n",
       "  30.0,\n",
       "  39.5,\n",
       "  28.25,\n",
       "  31.15,\n",
       "  38.75,\n",
       "  26.5,\n",
       "  67.0,\n",
       "  25.0,\n",
       "  20.5,\n",
       "  29.5,\n",
       "  64.0,\n",
       "  51.0,\n",
       "  38.94,\n",
       "  27.5,\n",
       "  51.35,\n",
       "  22.0,\n",
       "  24.5,\n",
       "  44.0,\n",
       "  30.42,\n",
       "  25.0,\n",
       "  69.5,\n",
       "  20.4,\n",
       "  38.0,\n",
       "  23.0,\n",
       "  32.25,\n",
       "  21.0,\n",
       "  40.0,\n",
       "  32.0,\n",
       "  45.62,\n",
       "  24.0,\n",
       "  32.5,\n",
       "  27.35,\n",
       "  34.0,\n",
       "  21.56,\n",
       "  24.68,\n",
       "  29.5,\n",
       "  43.0,\n",
       "  67.0,\n",
       "  30.0,\n",
       "  70.0,\n",
       "  42.0,\n",
       "  45.86,\n",
       "  22.0,\n",
       "  43.78,\n",
       "  28.75,\n",
       "  25.0,\n",
       "  32.44,\n",
       "  27.0,\n",
       "  27.0,\n",
       "  39.5,\n",
       "  21.94,\n",
       "  22.0,\n",
       "  58.73,\n",
       "  97.07,\n",
       "  28.79,\n",
       "  34.5,\n",
       "  32.1,\n",
       "  22.55,\n",
       "  44.0,\n",
       "  49.0,\n",
       "  23.5,\n",
       "  29.98,\n",
       "  48.0,\n",
       "  41.5,\n",
       "  24.9,\n",
       "  23.25,\n",
       "  72.94,\n",
       "  30.29,\n",
       "  24.74,\n",
       "  36.0,\n",
       "  38.0,\n",
       "  24.5,\n",
       "  32.95,\n",
       "  34.78,\n",
       "  37.3,\n",
       "  70.8,\n",
       "  22.25,\n",
       "  26.75,\n",
       "  28.03,\n",
       "  30.48,\n",
       "  48.0,\n",
       "  40.0,\n",
       "  30.8,\n",
       "  38.0,\n",
       "  29.0,\n",
       "  24.5,\n",
       "  36.0,\n",
       "  35.0,\n",
       "  27.75,\n",
       "  64.87,\n",
       "  40.5,\n",
       "  38.95,\n",
       "  79.0,\n",
       "  24.94,\n",
       "  30.0,\n",
       "  48.63,\n",
       "  39.47,\n",
       "  22.24,\n",
       "  21.0,\n",
       "  23.0,\n",
       "  30.5,\n",
       "  22.5,\n",
       "  23.5,\n",
       "  31.62,\n",
       "  93.67,\n",
       "  23.5,\n",
       "  93.0,\n",
       "  21.6,\n",
       "  41.0,\n",
       "  28.5,\n",
       "  26.75,\n",
       "  23.0,\n",
       "  22.0,\n",
       "  43.6,\n",
       "  25.0,\n",
       "  34.0,\n",
       "  29.0,\n",
       "  45.0,\n",
       "  83.96,\n",
       "  21.0,\n",
       "  32.0,\n",
       "  24.5,\n",
       "  56.73,\n",
       "  25.0,\n",
       "  39.45,\n",
       "  36.5,\n",
       "  31.0,\n",
       "  34.08,\n",
       "  31.99,\n",
       "  38.5,\n",
       "  33.63,\n",
       "  25.02,\n",
       "  41.6,\n",
       "  23.0,\n",
       "  29.6,\n",
       "  24.36,\n",
       "  25.0,\n",
       "  46.0,\n",
       "  22.0,\n",
       "  22.99,\n",
       "  24.0,\n",
       "  35.0,\n",
       "  22.58,\n",
       "  21.0,\n",
       "  29.93,\n",
       "  22.0,\n",
       "  42.5,\n",
       "  21.0,\n",
       "  22.99,\n",
       "  40.0,\n",
       "  54.45,\n",
       "  78.8,\n",
       "  65.0,\n",
       "  22.5,\n",
       "  28.9,\n",
       "  25.0,\n",
       "  26.0,\n",
       "  22.0,\n",
       "  21.5,\n",
       "  45.61,\n",
       "  20.5,\n",
       "  23.65,\n",
       "  23.0,\n",
       "  20.28,\n",
       "  79.0,\n",
       "  39.22,\n",
       "  27.0,\n",
       "  21.75,\n",
       "  45.0,\n",
       "  30.0,\n",
       "  33.66,\n",
       "  27.43,\n",
       "  31.8,\n",
       "  28.0,\n",
       "  38.5,\n",
       "  39.0,\n",
       "  25.75,\n",
       "  56.5,\n",
       "  21.0,\n",
       "  44.0,\n",
       "  34.51,\n",
       "  36.75,\n",
       "  22.0,\n",
       "  27.87,\n",
       "  53.11,\n",
       "  70.15,\n",
       "  60.0,\n",
       "  23.45,\n",
       "  21.69,\n",
       "  52.5,\n",
       "  35.0,\n",
       "  31.5,\n",
       "  35.0,\n",
       "  75.0,\n",
       "  27.15,\n",
       "  30.27,\n",
       "  29.5,\n",
       "  27.5,\n",
       "  51.52,\n",
       "  31.0,\n",
       "  35.98,\n",
       "  39.62,\n",
       "  59.29,\n",
       "  34.54,\n",
       "  50.0,\n",
       "  64.95,\n",
       "  28.0,\n",
       "  32.64,\n",
       "  35.0,\n",
       "  39.0,\n",
       "  33.13,\n",
       "  20.57,\n",
       "  24.0,\n",
       "  25.0,\n",
       "  50.5,\n",
       "  20.5,\n",
       "  75.0,\n",
       "  23.91,\n",
       "  44.83,\n",
       "  26.5,\n",
       "  22.5,\n",
       "  39.51,\n",
       "  28.45,\n",
       "  42.91,\n",
       "  47.7,\n",
       "  39.75,\n",
       "  23.5,\n",
       "  28.88,\n",
       "  20.99,\n",
       "  55.7,\n",
       "  37.5,\n",
       "  56.0,\n",
       "  34.88,\n",
       "  29.0,\n",
       "  29.8,\n",
       "  32.5,\n",
       "  28.0,\n",
       "  24.63,\n",
       "  26.0,\n",
       "  21.5,\n",
       "  22.75,\n",
       "  36.15,\n",
       "  25.7,\n",
       "  25.31,\n",
       "  21.73,\n",
       "  31.55,\n",
       "  27.36,\n",
       "  28.5,\n",
       "  28.63,\n",
       "  20.25,\n",
       "  24.77,\n",
       "  35.5,\n",
       "  26.5,\n",
       "  49.22,\n",
       "  39.75,\n",
       "  23.41,\n",
       "  65.0,\n",
       "  27.0,\n",
       "  48.0,\n",
       "  59.65,\n",
       "  23.8,\n",
       "  29.0,\n",
       "  25.75,\n",
       "  25.93,\n",
       "  25.12,\n",
       "  28.0,\n",
       "  43.0,\n",
       "  24.25,\n",
       "  23.5,\n",
       "  22.5,\n",
       "  27.75,\n",
       "  24.0,\n",
       "  45.73,\n",
       "  28.55,\n",
       "  75.0,\n",
       "  21.26,\n",
       "  25.0,\n",
       "  45.0,\n",
       "  25.64,\n",
       "  44.5,\n",
       "  22.2,\n",
       "  30.77,\n",
       "  39.84,\n",
       "  32.0,\n",
       "  35.0,\n",
       "  31.75,\n",
       "  36.83,\n",
       "  21.37,\n",
       "  21.9,\n",
       "  30.45,\n",
       "  35.28,\n",
       "  36.0,\n",
       "  50.97,\n",
       "  29.95,\n",
       "  30.72,\n",
       "  23.75,\n",
       "  26.0,\n",
       "  70.66,\n",
       "  29.0,\n",
       "  25.71,\n",
       "  22.75,\n",
       "  26.0,\n",
       "  29.5,\n",
       "  41.5,\n",
       "  24.51,\n",
       "  20.75,\n",
       "  24.99,\n",
       "  32.5,\n",
       "  34.0,\n",
       "  39.05,\n",
       "  48.76,\n",
       "  52.5,\n",
       "  24.0,\n",
       "  24.5,\n",
       "  34.18,\n",
       "  28.5,\n",
       "  27.5,\n",
       "  21.5,\n",
       "  35.0,\n",
       "  40.5,\n",
       "  29.64,\n",
       "  38.0,\n",
       "  22.45,\n",
       "  20.87,\n",
       "  160.0,\n",
       "  25.02,\n",
       "  26.11,\n",
       "  57.0,\n",
       "  21.5,\n",
       "  27.11,\n",
       "  36.0,\n",
       "  26.5,\n",
       "  35.82,\n",
       "  38.15,\n",
       "  20.5,\n",
       "  56.0,\n",
       "  60.95,\n",
       "  23.75,\n",
       "  31.0,\n",
       "  29.0,\n",
       "  22.5,\n",
       "  40.66,\n",
       "  26.5,\n",
       "  32.73,\n",
       "  26.0,\n",
       "  21.66,\n",
       "  34.5,\n",
       "  32.52,\n",
       "  32.73,\n",
       "  21.5,\n",
       "  29.0,\n",
       "  50.22,\n",
       "  23.0,\n",
       "  21.42,\n",
       "  33.0,\n",
       "  68.94,\n",
       "  23.19,\n",
       "  45.82,\n",
       "  26.0,\n",
       "  52.0,\n",
       "  48.0,\n",
       "  21.99,\n",
       "  25.0,\n",
       "  49.24,\n",
       "  33.0,\n",
       "  27.0,\n",
       "  37.99,\n",
       "  45.0,\n",
       "  56.8,\n",
       "  30.5,\n",
       "  23.58,\n",
       "  47.5,\n",
       "  38.0,\n",
       "  65.0,\n",
       "  32.0,\n",
       "  38.72,\n",
       "  27.0,\n",
       "  21.0,\n",
       "  33.75,\n",
       "  26.52,\n",
       "  25.0,\n",
       "  32.91,\n",
       "  31.93,\n",
       "  36.64,\n",
       "  70.0,\n",
       "  25.5,\n",
       "  26.5,\n",
       "  23.0,\n",
       "  20.72,\n",
       "  22.0,\n",
       "  24.0,\n",
       "  52.0,\n",
       "  20.99,\n",
       "  27.0,\n",
       "  28.85,\n",
       "  90.0,\n",
       "  32.0,\n",
       "  23.0,\n",
       "  47.35,\n",
       "  45.0,\n",
       "  29.5,\n",
       "  23.5,\n",
       "  23.86,\n",
       "  22.0,\n",
       "  42.0,\n",
       "  24.85,\n",
       "  30.0,\n",
       "  24.0,\n",
       "  36.0,\n",
       "  37.92,\n",
       "  22.0,\n",
       "  22.0,\n",
       "  26.0,\n",
       "  23.68,\n",
       "  47.5,\n",
       "  30.3,\n",
       "  32.78,\n",
       "  43.0,\n",
       "  34.0,\n",
       "  52.54,\n",
       "  45.0,\n",
       "  58.54,\n",
       "  33.0,\n",
       "  46.95,\n",
       "  30.0,\n",
       "  35.0,\n",
       "  28.0,\n",
       "  36.0,\n",
       "  51.69,\n",
       "  24.37,\n",
       "  29.95,\n",
       "  33.64,\n",
       "  48.0,\n",
       "  41.75,\n",
       "  32.57,\n",
       "  68.0,\n",
       "  26.0,\n",
       "  26.0,\n",
       "  56.14,\n",
       "  25.81,\n",
       "  58.91,\n",
       "  21.95,\n",
       "  29.0,\n",
       "  31.0,\n",
       "  50.66,\n",
       "  40.47,\n",
       "  25.0,\n",
       "  49.0,\n",
       "  60.75,\n",
       "  20.5,\n",
       "  24.95,\n",
       "  31.41,\n",
       "  22.0,\n",
       "  30.3,\n",
       "  27.0,\n",
       "  32.9,\n",
       "  29.0,\n",
       "  29.0,\n",
       "  37.9,\n",
       "  25.72,\n",
       "  25.51,\n",
       "  33.5,\n",
       "  30.0,\n",
       "  22.0,\n",
       "  49.79,\n",
       "  35.0,\n",
       "  21.99,\n",
       "  25.49,\n",
       "  35.5,\n",
       "  31.0,\n",
       "  29.5,\n",
       "  67.83,\n",
       "  23.0,\n",
       "  25.75,\n",
       "  30.5,\n",
       "  23.0,\n",
       "  36.0,\n",
       "  25.0,\n",
       "  32.0,\n",
       "  32.5,\n",
       "  23.68,\n",
       "  65.81,\n",
       "  29.99,\n",
       "  23.0,\n",
       "  30.35,\n",
       "  24.46,\n",
       "  31.75,\n",
       "  32.0,\n",
       "  21.0,\n",
       "  44.76,\n",
       "  48.22,\n",
       "  61.25,\n",
       "  28.95,\n",
       "  59.0,\n",
       "  35.0,\n",
       "  85.0,\n",
       "  35.0,\n",
       "  64.75,\n",
       "  27.0,\n",
       "  34.0,\n",
       "  30.37,\n",
       "  24.5,\n",
       "  21.33,\n",
       "  35.84,\n",
       "  30.85,\n",
       "  25.64,\n",
       "  24.75,\n",
       "  27.0,\n",
       "  28.75,\n",
       "  72.0,\n",
       "  42.75,\n",
       "  36.76,\n",
       "  25.0,\n",
       "  22.5,\n",
       "  45.0,\n",
       "  29.3,\n",
       "  55.0,\n",
       "  21.0,\n",
       "  20.67,\n",
       "  37.98,\n",
       "  22.0,\n",
       "  42.83,\n",
       "  21.5,\n",
       "  45.0,\n",
       "  22.0,\n",
       "  120.0,\n",
       "  29.0,\n",
       "  38.76,\n",
       "  38.0,\n",
       "  21.0,\n",
       "  35.92,\n",
       "  48.5,\n",
       "  25.75,\n",
       "  29.52,\n",
       "  24.0,\n",
       "  35.0,\n",
       "  43.3,\n",
       "  21.5,\n",
       "  100.0,\n",
       "  36.0,\n",
       "  22.99,\n",
       "  45.52,\n",
       "  48.0,\n",
       "  21.75,\n",
       "  26.76,\n",
       "  30.54,\n",
       "  45.0])"
      ]
     },
     "execution_count": 49,
     "metadata": {},
     "output_type": "execute_result"
    }
   ],
   "source": [
    "outliers=all_val_ab(data_clean['Price'])\n",
    "outliers"
   ]
  },
  {
   "cell_type": "code",
   "execution_count": null,
   "id": "30322754",
   "metadata": {},
   "outputs": [],
   "source": []
  },
  {
   "cell_type": "code",
   "execution_count": 50,
   "id": "3f744953",
   "metadata": {},
   "outputs": [],
   "source": [
    "df=data_clean[data_clean['Price']<=15]"
   ]
  },
  {
   "cell_type": "code",
   "execution_count": 51,
   "id": "d5c8766a",
   "metadata": {},
   "outputs": [
    {
     "data": {
      "text/plain": [
       "<AxesSubplot:xlabel='Price'>"
      ]
     },
     "execution_count": 51,
     "metadata": {},
     "output_type": "execute_result"
    },
    {
     "data": {
      "image/png": "[encoded data removed]",
      "text/plain": [
       "<Figure size 432x288 with 1 Axes>"
      ]
     },
     "metadata": {
      "needs_background": "light"
     },
     "output_type": "display_data"
    }
   ],
   "source": [
    "sns.boxplot(x=df['Price'])"
   ]
  },
  {
   "cell_type": "code",
   "execution_count": null,
   "id": "01728b75",
   "metadata": {},
   "outputs": [],
   "source": []
  },
  {
   "cell_type": "code",
   "execution_count": 52,
   "id": "88a9e8d2",
   "metadata": {},
   "outputs": [],
   "source": [
    "df=df.reset_index(drop=True)"
   ]
  },
  {
   "cell_type": "code",
   "execution_count": 53,
   "id": "70475b8a",
   "metadata": {},
   "outputs": [
    {
     "data": {
      "text/plain": [
       "<AxesSubplot:xlabel='Price', ylabel='Fuel_Type'>"
      ]
     },
     "execution_count": 53,
     "metadata": {},
     "output_type": "execute_result"
    },
    {
     "data": {
      "image/png": "[encoded data removed]",
      "text/plain": [
       "<Figure size 864x576 with 1 Axes>"
      ]
     },
     "metadata": {
      "needs_background": "light"
     },
     "output_type": "display_data"
    }
   ],
   "source": [
    "plt.figure(figsize=(12,8))\n",
    "sns.scatterplot(x='Price',y='Fuel_Type',data=df)"
   ]
  },
  {
   "cell_type": "markdown",
   "id": "f16dd8fd",
   "metadata": {},
   "source": [
    "## OUTLIERS CHANGE IN MEADIAN\n"
   ]
  },
  {
   "cell_type": "code",
   "execution_count": 88,
   "id": "2b5ff56a",
   "metadata": {},
   "outputs": [
    {
     "name": "stdout",
     "output_type": "stream",
     "text": [
      "3.59 10.25 6.66 -6.4 20.240000000000002\n"
     ]
    }
   ],
   "source": [
    "# Calculer le premier et le troisième quartile\n",
    "Q1 = data_clean['Price'].quantile(0.25)\n",
    "Q3 = data_clean['Price'].quantile(0.75)\n",
    "\n",
    "# Calculer l'écart interquartile (IQR)\n",
    "IQR = Q3 - Q1\n",
    "\n",
    "# Définir les seuils pour détecter les valeurs aberrantes\n",
    "seuil_inferieur = Q1 - 1.5 * IQR\n",
    "seuil_superieur = Q3 + 1.5 * IQR\n",
    "\n",
    "# Remplacer les valeurs aberrantes par la médiane\n",
    "data_clean['new_price'] = np.where((data_clean['Price'] < seuil_inferieur) | (data_clean['Price'] > seuil_superieur),\n",
    "                                         np.median(data_clean['Price']), data_clean['Price'])\n",
    "\n",
    "print(Q1 , Q3, IQR, seuil_inferieur, seuil_superieur)"
   ]
  },
  {
   "cell_type": "code",
   "execution_count": 46,
   "id": "08b8c42e",
   "metadata": {},
   "outputs": [
    {
     "data": {
      "text/plain": [
       "<AxesSubplot:xlabel='new_price'>"
      ]
     },
     "execution_count": 46,
     "metadata": {},
     "output_type": "execute_result"
    },
    {
     "data": {
      "image/png": "[encoded data removed]",
      "text/plain": [
       "<Figure size 432x288 with 1 Axes>"
      ]
     },
     "metadata": {
      "needs_background": "light"
     },
     "output_type": "display_data"
    }
   ],
   "source": [
    "sns.boxplot(x=data_clean['new_price'])"
   ]
  },
  {
   "cell_type": "code",
   "execution_count": null,
   "id": "17e02ffd",
   "metadata": {},
   "outputs": [],
   "source": []
  },
  {
   "cell_type": "code",
   "execution_count": null,
   "id": "ea8fcd64",
   "metadata": {},
   "outputs": [],
   "source": []
  },
  {
   "cell_type": "code",
   "execution_count": null,
   "id": "2c76c7eb",
   "metadata": {},
   "outputs": [],
   "source": []
  },
  {
   "cell_type": "code",
   "execution_count": null,
   "id": "8b42f739",
   "metadata": {},
   "outputs": [],
   "source": []
  },
  {
   "cell_type": "code",
   "execution_count": 47,
   "id": "f0e3a48b",
   "metadata": {},
   "outputs": [
    {
     "data": {
      "text/plain": [
       "<AxesSubplot:xlabel='Fuel_Type', ylabel='count'>"
      ]
     },
     "execution_count": 47,
     "metadata": {},
     "output_type": "execute_result"
    },
    {
     "data": {
      "image/png": "[encoded data removed]",
      "text/plain": [
       "<Figure size 1440x720 with 1 Axes>"
      ]
     },
     "metadata": {
      "needs_background": "light"
     },
     "output_type": "display_data"
    }
   ],
   "source": [
    "# Comptage du type de carburant sur chaque catégorie de transmission soit Manuel ou Automatic\n",
    "plt.figure(figsize=(20,10))\n",
    "sns.countplot(x='Fuel_Type',data=data_clean,hue='Transmission') "
   ]
  },
  {
   "cell_type": "code",
   "execution_count": 48,
   "id": "546f36be",
   "metadata": {},
   "outputs": [
    {
     "ename": "NameError",
     "evalue": "name 'df' is not defined",
     "output_type": "error",
     "traceback": [
      "\u001b[1;31m---------------------------------------------------------------------------\u001b[0m",
      "\u001b[1;31mNameError\u001b[0m                                 Traceback (most recent call last)",
      "Input \u001b[1;32mIn [48]\u001b[0m, in \u001b[0;36m<cell line: 2>\u001b[1;34m()\u001b[0m\n\u001b[0;32m      1\u001b[0m plt\u001b[38;5;241m.\u001b[39mfigure(figsize\u001b[38;5;241m=\u001b[39m(\u001b[38;5;241m10\u001b[39m,\u001b[38;5;241m6\u001b[39m))\n\u001b[1;32m----> 2\u001b[0m sns\u001b[38;5;241m.\u001b[39mscatterplot(x\u001b[38;5;241m=\u001b[39m\u001b[43mdf\u001b[49m[\u001b[38;5;124m'\u001b[39m\u001b[38;5;124mPower(bhp)\u001b[39m\u001b[38;5;124m'\u001b[39m],y\u001b[38;5;241m=\u001b[39mdf[\u001b[38;5;124m'\u001b[39m\u001b[38;5;124mPrice\u001b[39m\u001b[38;5;124m'\u001b[39m])\n",
      "\u001b[1;31mNameError\u001b[0m: name 'df' is not defined"
     ]
    },
    {
     "data": {
      "text/plain": [
       "<Figure size 720x432 with 0 Axes>"
      ]
     },
     "metadata": {},
     "output_type": "display_data"
    }
   ],
   "source": [
    "plt.figure(figsize=(10,6))\n",
    "sns.scatterplot(x=df['Power(bhp)'],y=df['Price'])"
   ]
  },
  {
   "cell_type": "code",
   "execution_count": 56,
   "id": "993f71f0",
   "metadata": {},
   "outputs": [
    {
     "data": {
      "text/plain": [
       "<AxesSubplot:xlabel='Engine(CC)', ylabel='Price'>"
      ]
     },
     "execution_count": 56,
     "metadata": {},
     "output_type": "execute_result"
    },
    {
     "data": {
      "image/png": "[encoded data removed]",
      "text/plain": [
       "<Figure size 720x432 with 1 Axes>"
      ]
     },
     "metadata": {
      "needs_background": "light"
     },
     "output_type": "display_data"
    }
   ],
   "source": [
    "plt.figure(figsize=(10,6))\n",
    "sns.scatterplot(x=df['Engine(CC)'],y=df['Price'])"
   ]
  },
  {
   "cell_type": "markdown",
   "id": "1d2c29f4",
   "metadata": {},
   "source": [
    "# ANALYSE STATISTIQUE"
   ]
  },
  {
   "cell_type": "markdown",
   "id": "5ae7af5c",
   "metadata": {},
   "source": [
    "## MESURE DE TENDANCE CENTRALE\n",
    "\n",
    "### A - MODE"
   ]
  },
  {
   "cell_type": "code",
   "execution_count": 57,
   "id": "3a06399c",
   "metadata": {},
   "outputs": [],
   "source": [
    "from statistics import mode"
   ]
  },
  {
   "cell_type": "markdown",
   "id": "c6dc803e",
   "metadata": {},
   "source": [
    "#### A-1 MODE - Modalités QUALITATIVE"
   ]
  },
  {
   "cell_type": "code",
   "execution_count": 58,
   "id": "463034b5",
   "metadata": {},
   "outputs": [
    {
     "data": {
      "text/plain": [
       "'maruti'"
      ]
     },
     "execution_count": 58,
     "metadata": {},
     "output_type": "execute_result"
    }
   ],
   "source": [
    "Mode_Marque= mode(df['Marque'])\n",
    "Mode_Marque"
   ]
  },
  {
   "cell_type": "code",
   "execution_count": 59,
   "id": "02e7d2a8",
   "metadata": {},
   "outputs": [
    {
     "data": {
      "text/plain": [
       "'Mumbai'"
      ]
     },
     "execution_count": 59,
     "metadata": {},
     "output_type": "execute_result"
    }
   ],
   "source": [
    "Mode_Location=mode(df['Location'])\n",
    "Mode_Location"
   ]
  },
  {
   "cell_type": "code",
   "execution_count": 60,
   "id": "b0d3ddd3",
   "metadata": {},
   "outputs": [
    {
     "data": {
      "text/plain": [
       "'First'"
      ]
     },
     "execution_count": 60,
     "metadata": {},
     "output_type": "execute_result"
    }
   ],
   "source": [
    "# Mode de transmission la plus fréquente\n",
    "Mode_Owner_Type=mode(df['Owner_Type'])\n",
    "Mode_Owner_Type"
   ]
  },
  {
   "cell_type": "code",
   "execution_count": 61,
   "id": "7bfc4aff",
   "metadata": {},
   "outputs": [
    {
     "data": {
      "text/plain": [
       "'Manual'"
      ]
     },
     "execution_count": 61,
     "metadata": {},
     "output_type": "execute_result"
    }
   ],
   "source": [
    "# Mode de transmission la plus fréquente\n",
    "Mode_Transmission=mode(df['Transmission'])\n",
    "Mode_Transmission"
   ]
  },
  {
   "cell_type": "code",
   "execution_count": 62,
   "id": "a9e708a2",
   "metadata": {},
   "outputs": [
    {
     "data": {
      "text/plain": [
       "'Petrol'"
      ]
     },
     "execution_count": 62,
     "metadata": {},
     "output_type": "execute_result"
    }
   ],
   "source": [
    "Mode_Fuel_Type=mode(df['Fuel_Type'])\n",
    "Mode_Fuel_Type"
   ]
  },
  {
   "cell_type": "markdown",
   "id": "4b02a0ad",
   "metadata": {},
   "source": [
    "#### A-2 MODE - Modalités QUANTITATIVE"
   ]
  },
  {
   "cell_type": "code",
   "execution_count": 63,
   "id": "25d2d1cd",
   "metadata": {},
   "outputs": [
    {
     "data": {
      "text/plain": [
       "5.0"
      ]
     },
     "execution_count": 63,
     "metadata": {},
     "output_type": "execute_result"
    }
   ],
   "source": [
    "Mode_Seats=mode(df['Seats'])\n",
    "Mode_Seats"
   ]
  },
  {
   "cell_type": "code",
   "execution_count": 64,
   "id": "12a25c7a",
   "metadata": {},
   "outputs": [
    {
     "data": {
      "text/plain": [
       "2014"
      ]
     },
     "execution_count": 64,
     "metadata": {},
     "output_type": "execute_result"
    }
   ],
   "source": [
    "Mode_Year=mode(df['Year'])\n",
    "Mode_Year"
   ]
  },
  {
   "cell_type": "markdown",
   "id": "7a1ce442",
   "metadata": {},
   "source": [
    "### B - MOYENNE"
   ]
  },
  {
   "cell_type": "code",
   "execution_count": 65,
   "id": "ca5f933c",
   "metadata": {},
   "outputs": [
    {
     "data": {
      "text/plain": [
       "5.595665493686645"
      ]
     },
     "execution_count": 65,
     "metadata": {},
     "output_type": "execute_result"
    }
   ],
   "source": [
    "Price_mean=np.mean(df['Price'])\n",
    "Price_mean"
   ]
  },
  {
   "cell_type": "markdown",
   "id": "284e388a",
   "metadata": {},
   "source": [
    "## C- MEDIANE"
   ]
  },
  {
   "cell_type": "code",
   "execution_count": 66,
   "id": "c7c18e81",
   "metadata": {},
   "outputs": [],
   "source": [
    "from statistics import median"
   ]
  },
  {
   "cell_type": "code",
   "execution_count": 67,
   "id": "9d2c2b54",
   "metadata": {},
   "outputs": [
    {
     "data": {
      "text/plain": [
       "4.95"
      ]
     },
     "execution_count": 67,
     "metadata": {},
     "output_type": "execute_result"
    }
   ],
   "source": [
    "Mediane_price=median(df['Price'])\n",
    "Mediane_price"
   ]
  },
  {
   "cell_type": "markdown",
   "id": "4c90b60e",
   "metadata": {},
   "source": [
    "## VARIANCE"
   ]
  },
  {
   "cell_type": "code",
   "execution_count": 68,
   "id": "a3bd091a",
   "metadata": {},
   "outputs": [],
   "source": [
    "from statistics import variance"
   ]
  },
  {
   "cell_type": "code",
   "execution_count": 69,
   "id": "44d1b58f",
   "metadata": {},
   "outputs": [
    {
     "data": {
      "text/plain": [
       "9.631873382078219"
      ]
     },
     "execution_count": 69,
     "metadata": {},
     "output_type": "execute_result"
    }
   ],
   "source": [
    "Var_price= variance(df['Price'])\n",
    "Var_price"
   ]
  },
  {
   "cell_type": "markdown",
   "id": "6756413e",
   "metadata": {},
   "source": [
    "## ECART-TYPE"
   ]
  },
  {
   "cell_type": "code",
   "execution_count": 70,
   "id": "589d164e",
   "metadata": {},
   "outputs": [],
   "source": [
    "from statistics import stdev\n"
   ]
  },
  {
   "cell_type": "code",
   "execution_count": 71,
   "id": "24c0c4ed",
   "metadata": {},
   "outputs": [
    {
     "data": {
      "text/plain": [
       "3.103525959626924"
      ]
     },
     "execution_count": 71,
     "metadata": {},
     "output_type": "execute_result"
    }
   ],
   "source": [
    "Ecr_T_price=stdev(df['Price'])\n",
    "Ecr_T_price"
   ]
  },
  {
   "cell_type": "markdown",
   "id": "eae199e2",
   "metadata": {},
   "source": [
    "## COEFFICIENT DE VARIATION"
   ]
  },
  {
   "cell_type": "code",
   "execution_count": 72,
   "id": "1fe195bc",
   "metadata": {},
   "outputs": [
    {
     "data": {
      "text/plain": [
       "55.4630358646081"
      ]
     },
     "execution_count": 72,
     "metadata": {},
     "output_type": "execute_result"
    }
   ],
   "source": [
    "Coeff_Var= (Ecr_T_price/Price_mean)*100\n",
    "Coeff_Var"
   ]
  },
  {
   "cell_type": "markdown",
   "id": "8d65a708",
   "metadata": {},
   "source": [
    "## COEFFICIENT D'ASYMETRIE"
   ]
  },
  {
   "cell_type": "code",
   "execution_count": 73,
   "id": "039363c1",
   "metadata": {},
   "outputs": [],
   "source": [
    "from scipy.stats import skew"
   ]
  },
  {
   "cell_type": "code",
   "execution_count": 74,
   "id": "54b5ee61",
   "metadata": {},
   "outputs": [
    {
     "data": {
      "text/plain": [
       "0.9312142235453235"
      ]
     },
     "execution_count": 74,
     "metadata": {},
     "output_type": "execute_result"
    }
   ],
   "source": [
    "Coeff_asm=skew(df['Price'])\n",
    "Coeff_asm"
   ]
  },
  {
   "cell_type": "code",
   "execution_count": 75,
   "id": "f4552b73",
   "metadata": {},
   "outputs": [
    {
     "data": {
      "text/plain": [
       "<function matplotlib.pyplot.show(close=None, block=None)>"
      ]
     },
     "execution_count": 75,
     "metadata": {},
     "output_type": "execute_result"
    },
    {
     "data": {
      "image/png": "[encoded data removed]",
      "text/plain": [
       "<Figure size 432x288 with 1 Axes>"
      ]
     },
     "metadata": {
      "needs_background": "light"
     },
     "output_type": "display_data"
    }
   ],
   "source": [
    "plt.hist(df['Price'],bins=50,density=True,alpha=0.7)\n",
    "plt.axvline(x=Mediane_price,color='red',linestyle='dashed',linewidth=2,label='Mediane')\n",
    "plt.annotate(f'Coefficient d\\'asymetrie: {Coeff_asm: .2f}',xy=(0.5,0.95),xycoords='axes fraction',ha='center',va='center',fontsize=10,color='green')\n",
    "plt.show"
   ]
  },
  {
   "cell_type": "markdown",
   "id": "ea1b57fc",
   "metadata": {},
   "source": [
    "EN combinant les deaux valeurs : Ecart_type et la coefficient d'asymetrie, on pet dire que le données ont une certaine asymétrie positive avec une dispersion modérée à significative autour de la médiane.cela pourrait correspondre à une distribution qui s'étennd vers les valeurs supérieures (Etalée à droite) avec des valeurs dispersées"
   ]
  },
  {
   "cell_type": "markdown",
   "id": "e14d1af6",
   "metadata": {},
   "source": [
    "# PREPARATION D'APPRENTISSAGE"
   ]
  },
  {
   "cell_type": "markdown",
   "id": "5f56f529",
   "metadata": {},
   "source": [
    "## Séparation de Features et le Target"
   ]
  },
  {
   "cell_type": "code",
   "execution_count": 64,
   "id": "038752a8",
   "metadata": {},
   "outputs": [],
   "source": [
    "from sklearn.model_selection import train_test_split"
   ]
  },
  {
   "cell_type": "code",
   "execution_count": 80,
   "id": "bfdbe5f0",
   "metadata": {},
   "outputs": [],
   "source": [
    "X = df.drop('Price',axis=1)\n",
    "X = X.drop('Name',axis=1)\n",
    "X=X.drop('Marque',axis=1)\n",
    "X= X.drop('Location',axis=1)\n",
    "y = df['Price']"
   ]
  },
  {
   "cell_type": "code",
   "execution_count": null,
   "id": "3317d04f",
   "metadata": {},
   "outputs": [],
   "source": []
  },
  {
   "cell_type": "markdown",
   "id": "d43c6154",
   "metadata": {},
   "source": [
    "## Apprentissage du modèle"
   ]
  },
  {
   "cell_type": "code",
   "execution_count": 81,
   "id": "dea062dc",
   "metadata": {},
   "outputs": [
    {
     "data": {
      "text/html": [
       "<div>\n",
       "<style scoped>\n",
       "    .dataframe tbody tr th:only-of-type {\n",
       "        vertical-align: middle;\n",
       "    }\n",
       "\n",
       "    .dataframe tbody tr th {\n",
       "        vertical-align: top;\n",
       "    }\n",
       "\n",
       "    .dataframe thead th {\n",
       "        text-align: right;\n",
       "    }\n",
       "</style>\n",
       "<table border=\"1\" class=\"dataframe\">\n",
       "  <thead>\n",
       "    <tr style=\"text-align: right;\">\n",
       "      <th></th>\n",
       "      <th>Year</th>\n",
       "      <th>Kilometers_Driven</th>\n",
       "      <th>Seats</th>\n",
       "      <th>Power(bhp)</th>\n",
       "      <th>Engine(CC)</th>\n",
       "      <th>km_driven(kmpl)</th>\n",
       "      <th>Fuel_Type_Petrol</th>\n",
       "      <th>Transmission_Manual</th>\n",
       "      <th>Owner_Type_Fourth &amp; Above</th>\n",
       "      <th>Owner_Type_Second</th>\n",
       "      <th>Owner_Type_Third</th>\n",
       "    </tr>\n",
       "  </thead>\n",
       "  <tbody>\n",
       "    <tr>\n",
       "      <th>0</th>\n",
       "      <td>2015</td>\n",
       "      <td>41000</td>\n",
       "      <td>5.0</td>\n",
       "      <td>126.20</td>\n",
       "      <td>1582</td>\n",
       "      <td>19.67</td>\n",
       "      <td>0</td>\n",
       "      <td>1</td>\n",
       "      <td>0</td>\n",
       "      <td>0</td>\n",
       "      <td>0</td>\n",
       "    </tr>\n",
       "    <tr>\n",
       "      <th>1</th>\n",
       "      <td>2011</td>\n",
       "      <td>46000</td>\n",
       "      <td>5.0</td>\n",
       "      <td>88.70</td>\n",
       "      <td>1199</td>\n",
       "      <td>18.20</td>\n",
       "      <td>1</td>\n",
       "      <td>1</td>\n",
       "      <td>0</td>\n",
       "      <td>0</td>\n",
       "      <td>0</td>\n",
       "    </tr>\n",
       "    <tr>\n",
       "      <th>2</th>\n",
       "      <td>2012</td>\n",
       "      <td>87000</td>\n",
       "      <td>7.0</td>\n",
       "      <td>88.76</td>\n",
       "      <td>1248</td>\n",
       "      <td>20.77</td>\n",
       "      <td>0</td>\n",
       "      <td>1</td>\n",
       "      <td>0</td>\n",
       "      <td>0</td>\n",
       "      <td>0</td>\n",
       "    </tr>\n",
       "    <tr>\n",
       "      <th>3</th>\n",
       "      <td>2013</td>\n",
       "      <td>86999</td>\n",
       "      <td>5.0</td>\n",
       "      <td>63.10</td>\n",
       "      <td>1461</td>\n",
       "      <td>23.08</td>\n",
       "      <td>0</td>\n",
       "      <td>1</td>\n",
       "      <td>0</td>\n",
       "      <td>0</td>\n",
       "      <td>0</td>\n",
       "    </tr>\n",
       "    <tr>\n",
       "      <th>4</th>\n",
       "      <td>2013</td>\n",
       "      <td>64430</td>\n",
       "      <td>5.0</td>\n",
       "      <td>103.60</td>\n",
       "      <td>1598</td>\n",
       "      <td>20.54</td>\n",
       "      <td>0</td>\n",
       "      <td>1</td>\n",
       "      <td>0</td>\n",
       "      <td>0</td>\n",
       "      <td>0</td>\n",
       "    </tr>\n",
       "    <tr>\n",
       "      <th>...</th>\n",
       "      <td>...</td>\n",
       "      <td>...</td>\n",
       "      <td>...</td>\n",
       "      <td>...</td>\n",
       "      <td>...</td>\n",
       "      <td>...</td>\n",
       "      <td>...</td>\n",
       "      <td>...</td>\n",
       "      <td>...</td>\n",
       "      <td>...</td>\n",
       "      <td>...</td>\n",
       "    </tr>\n",
       "    <tr>\n",
       "      <th>4826</th>\n",
       "      <td>2014</td>\n",
       "      <td>27365</td>\n",
       "      <td>5.0</td>\n",
       "      <td>74.00</td>\n",
       "      <td>1248</td>\n",
       "      <td>28.40</td>\n",
       "      <td>0</td>\n",
       "      <td>1</td>\n",
       "      <td>0</td>\n",
       "      <td>0</td>\n",
       "      <td>0</td>\n",
       "    </tr>\n",
       "    <tr>\n",
       "      <th>4827</th>\n",
       "      <td>2015</td>\n",
       "      <td>100000</td>\n",
       "      <td>5.0</td>\n",
       "      <td>71.00</td>\n",
       "      <td>1120</td>\n",
       "      <td>24.40</td>\n",
       "      <td>0</td>\n",
       "      <td>1</td>\n",
       "      <td>0</td>\n",
       "      <td>0</td>\n",
       "      <td>0</td>\n",
       "    </tr>\n",
       "    <tr>\n",
       "      <th>4828</th>\n",
       "      <td>2012</td>\n",
       "      <td>55000</td>\n",
       "      <td>8.0</td>\n",
       "      <td>112.00</td>\n",
       "      <td>2498</td>\n",
       "      <td>14.00</td>\n",
       "      <td>0</td>\n",
       "      <td>1</td>\n",
       "      <td>0</td>\n",
       "      <td>1</td>\n",
       "      <td>0</td>\n",
       "    </tr>\n",
       "    <tr>\n",
       "      <th>4829</th>\n",
       "      <td>2013</td>\n",
       "      <td>46000</td>\n",
       "      <td>5.0</td>\n",
       "      <td>67.10</td>\n",
       "      <td>998</td>\n",
       "      <td>18.90</td>\n",
       "      <td>1</td>\n",
       "      <td>1</td>\n",
       "      <td>0</td>\n",
       "      <td>0</td>\n",
       "      <td>0</td>\n",
       "    </tr>\n",
       "    <tr>\n",
       "      <th>4830</th>\n",
       "      <td>2011</td>\n",
       "      <td>47000</td>\n",
       "      <td>5.0</td>\n",
       "      <td>57.60</td>\n",
       "      <td>936</td>\n",
       "      <td>25.44</td>\n",
       "      <td>0</td>\n",
       "      <td>1</td>\n",
       "      <td>0</td>\n",
       "      <td>0</td>\n",
       "      <td>0</td>\n",
       "    </tr>\n",
       "  </tbody>\n",
       "</table>\n",
       "<p>4831 rows × 11 columns</p>\n",
       "</div>"
      ],
      "text/plain": [
       "      Year  Kilometers_Driven  Seats  Power(bhp)  Engine(CC)  km_driven(kmpl)  \\\n",
       "0     2015              41000    5.0      126.20        1582            19.67   \n",
       "1     2011              46000    5.0       88.70        1199            18.20   \n",
       "2     2012              87000    7.0       88.76        1248            20.77   \n",
       "3     2013              86999    5.0       63.10        1461            23.08   \n",
       "4     2013              64430    5.0      103.60        1598            20.54   \n",
       "...    ...                ...    ...         ...         ...              ...   \n",
       "4826  2014              27365    5.0       74.00        1248            28.40   \n",
       "4827  2015             100000    5.0       71.00        1120            24.40   \n",
       "4828  2012              55000    8.0      112.00        2498            14.00   \n",
       "4829  2013              46000    5.0       67.10         998            18.90   \n",
       "4830  2011              47000    5.0       57.60         936            25.44   \n",
       "\n",
       "      Fuel_Type_Petrol  Transmission_Manual  Owner_Type_Fourth & Above  \\\n",
       "0                    0                    1                          0   \n",
       "1                    1                    1                          0   \n",
       "2                    0                    1                          0   \n",
       "3                    0                    1                          0   \n",
       "4                    0                    1                          0   \n",
       "...                ...                  ...                        ...   \n",
       "4826                 0                    1                          0   \n",
       "4827                 0                    1                          0   \n",
       "4828                 0                    1                          0   \n",
       "4829                 1                    1                          0   \n",
       "4830                 0                    1                          0   \n",
       "\n",
       "      Owner_Type_Second  Owner_Type_Third  \n",
       "0                     0                 0  \n",
       "1                     0                 0  \n",
       "2                     0                 0  \n",
       "3                     0                 0  \n",
       "4                     0                 0  \n",
       "...                 ...               ...  \n",
       "4826                  0                 0  \n",
       "4827                  0                 0  \n",
       "4828                  1                 0  \n",
       "4829                  0                 0  \n",
       "4830                  0                 0  \n",
       "\n",
       "[4831 rows x 11 columns]"
      ]
     },
     "execution_count": 81,
     "metadata": {},
     "output_type": "execute_result"
    }
   ],
   "source": [
    "X=pd.get_dummies(X, drop_first=True)\n",
    "X"
   ]
  },
  {
   "cell_type": "code",
   "execution_count": 82,
   "id": "6a5d545b",
   "metadata": {},
   "outputs": [
    {
     "name": "stdout",
     "output_type": "stream",
     "text": [
      "Nombre de données d'entrainement 3864\n",
      "Nombre de données de test 967\n"
     ]
    }
   ],
   "source": [
    "X_train, X_test, y_train, y_test = train_test_split(X, y, test_size=0.20, random_state=42)\n",
    "print('Nombre de données d\\'entrainement',len(X_train))\n",
    "print('Nombre de données de test',len( X_test))"
   ]
  },
  {
   "cell_type": "code",
   "execution_count": null,
   "id": "38fd554e",
   "metadata": {},
   "outputs": [],
   "source": []
  },
  {
   "cell_type": "markdown",
   "id": "3f382964",
   "metadata": {},
   "source": [
    "## Lasso regression "
   ]
  },
  {
   "cell_type": "code",
   "execution_count": 52,
   "id": "280661a8",
   "metadata": {},
   "outputs": [],
   "source": [
    "#importation des packages\n",
    "from sklearn.linear_model import Lasso\n",
    "from sklearn.metrics import mean_squared_error, r2_score"
   ]
  },
  {
   "cell_type": "code",
   "execution_count": 78,
   "id": "08f6aa45",
   "metadata": {},
   "outputs": [],
   "source": [
    "#initialisation du modèle de LASSO\n",
    "lasso_model=Lasso(0.1)"
   ]
  },
  {
   "cell_type": "code",
   "execution_count": 79,
   "id": "b2981fec",
   "metadata": {},
   "outputs": [
    {
     "data": {
      "text/plain": [
       "Lasso(alpha=0.1)"
      ]
     },
     "execution_count": 79,
     "metadata": {},
     "output_type": "execute_result"
    }
   ],
   "source": [
    "#Entrainnement avec les données d'entrainnement\n",
    "lasso_model.fit(X_train, y_train)"
   ]
  },
  {
   "cell_type": "code",
   "execution_count": 80,
   "id": "be126081",
   "metadata": {},
   "outputs": [],
   "source": [
    "#Evaluation avec les données de test\n",
    "y_lasso_pred= lasso_model.predict(X_test)"
   ]
  },
  {
   "cell_type": "code",
   "execution_count": 81,
   "id": "4c3fcfa6",
   "metadata": {},
   "outputs": [
    {
     "data": {
      "text/plain": [
       "2.964874632258161"
      ]
     },
     "execution_count": 81,
     "metadata": {},
     "output_type": "execute_result"
    }
   ],
   "source": [
    "#Mesure de l'erreur quadratique moyenne\n",
    "mse= mean_squared_error(y_test,y_lasso_pred)\n",
    "mse"
   ]
  },
  {
   "cell_type": "code",
   "execution_count": 82,
   "id": "f8b75568",
   "metadata": {},
   "outputs": [
    {
     "data": {
      "text/plain": [
       "0.6900475956402119"
      ]
     },
     "execution_count": 82,
     "metadata": {},
     "output_type": "execute_result"
    }
   ],
   "source": [
    "#Coefficient de determination \n",
    "r2=r2_score(y_test,y_lasso_pred)\n",
    "r2"
   ]
  },
  {
   "cell_type": "code",
   "execution_count": 83,
   "id": "40d08730",
   "metadata": {},
   "outputs": [
    {
     "data": {
      "image/png": "[encoded data removed]",
      "text/plain": [
       "<Figure size 432x288 with 1 Axes>"
      ]
     },
     "metadata": {
      "needs_background": "light"
     },
     "output_type": "display_data"
    }
   ],
   "source": [
    "plt.scatter(y_test,y_lasso_pred,color='y')\n",
    "plt.plot([min(y_test),max(y_test)],[min(y_test),max(y_test)],linestyle='--',color='r')\n",
    "plt.show()"
   ]
  },
  {
   "cell_type": "code",
   "execution_count": 184,
   "id": "a34dbf17",
   "metadata": {},
   "outputs": [],
   "source": [
    "def lasso_hyperparam(k,x,mse):\n",
    "    lasso_model=Lasso(k)\n",
    "    lasso_model.fit(X_train,y_train)\n",
    "    y_pred = lasso_model.predict(X_test)\n",
    "    x.append(r2_score(y_test,y_pred))\n",
    "    mse.append(mean_squared_error(y_test,y_pred))"
   ]
  },
  {
   "cell_type": "code",
   "execution_count": 185,
   "id": "7051c759",
   "metadata": {},
   "outputs": [
    {
     "name": "stdout",
     "output_type": "stream",
     "text": [
      "Performance max:  0.6900475956402115\n",
      "valeur d'hypp: 0.1\n",
      "index : 0\n"
     ]
    }
   ],
   "source": [
    "r2_lasso=[]\n",
    "mse_lasso=[]\n",
    "reg_value=np.arange(0.1,5.1,0.1)\n",
    "for i in reg_value:\n",
    "    lasso_hyperparam(i,r2_lasso,mse_lasso)\n",
    "\n",
    "print('Performance max: ', max(r2_lasso))\n",
    "print('valeur d\\'hypp:', reg_value[r2_lasso.index(max(r2_lasso))])\n",
    "print('index :', r2_lasso.index(max(r2_lasso)) )"
   ]
  },
  {
   "cell_type": "code",
   "execution_count": 186,
   "id": "4fdf05c1",
   "metadata": {},
   "outputs": [
    {
     "data": {
      "text/plain": [
       "<function matplotlib.pyplot.legend(*args, **kwargs)>"
      ]
     },
     "execution_count": 186,
     "metadata": {},
     "output_type": "execute_result"
    },
    {
     "data": {
      "image/png": "[encoded data removed]",
      "text/plain": [
       "<Figure size 720x432 with 1 Axes>"
      ]
     },
     "metadata": {
      "needs_background": "light"
     },
     "output_type": "display_data"
    }
   ],
   "source": [
    "plt.figure(figsize=(10,6))\n",
    "plt.plot(reg_value,r2_lasso)\n",
    "plt.xlabel('hyperparametre')\n",
    "plt.ylabel('Performance')\n",
    "plt.legend"
   ]
  },
  {
   "cell_type": "code",
   "execution_count": 187,
   "id": "300fd6a1",
   "metadata": {},
   "outputs": [
    {
     "data": {
      "text/plain": [
       "<function matplotlib.pyplot.legend(*args, **kwargs)>"
      ]
     },
     "execution_count": 187,
     "metadata": {},
     "output_type": "execute_result"
    },
    {
     "data": {
      "image/png": "[encoded data removed]",
      "text/plain": [
       "<Figure size 720x432 with 1 Axes>"
      ]
     },
     "metadata": {
      "needs_background": "light"
     },
     "output_type": "display_data"
    }
   ],
   "source": [
    "plt.figure(figsize=(10,6))\n",
    "plt.plot(reg_value,mse_lasso)\n",
    "plt.xlabel('hyperparametre')\n",
    "plt.ylabel('Erreur')\n",
    "plt.legend"
   ]
  },
  {
   "cell_type": "markdown",
   "id": "04039868",
   "metadata": {},
   "source": [
    "## Ridge Regression"
   ]
  },
  {
   "cell_type": "code",
   "execution_count": 84,
   "id": "7bc47647",
   "metadata": {},
   "outputs": [],
   "source": [
    "from sklearn.linear_model import Ridge"
   ]
  },
  {
   "cell_type": "code",
   "execution_count": 85,
   "id": "b2032401",
   "metadata": {},
   "outputs": [],
   "source": [
    "ridge_model = Ridge(alpha=1.0)"
   ]
  },
  {
   "cell_type": "code",
   "execution_count": 86,
   "id": "7e51be9a",
   "metadata": {},
   "outputs": [
    {
     "ename": "TypeError",
     "evalue": "solve() got an unexpected keyword argument 'sym_pos'",
     "output_type": "error",
     "traceback": [
      "\u001b[1;31m---------------------------------------------------------------------------\u001b[0m",
      "\u001b[1;31mTypeError\u001b[0m                                 Traceback (most recent call last)",
      "Input \u001b[1;32mIn [86]\u001b[0m, in \u001b[0;36m<cell line: 1>\u001b[1;34m()\u001b[0m\n\u001b[1;32m----> 1\u001b[0m \u001b[43mridge_model\u001b[49m\u001b[38;5;241;43m.\u001b[39;49m\u001b[43mfit\u001b[49m\u001b[43m(\u001b[49m\u001b[43mX_train\u001b[49m\u001b[43m,\u001b[49m\u001b[43m \u001b[49m\u001b[43my_train\u001b[49m\u001b[43m)\u001b[49m\n",
      "File \u001b[1;32m~\\anaconda3\\lib\\site-packages\\sklearn\\linear_model\\_ridge.py:1011\u001b[0m, in \u001b[0;36mRidge.fit\u001b[1;34m(self, X, y, sample_weight)\u001b[0m\n\u001b[0;32m   1002\u001b[0m _accept_sparse \u001b[38;5;241m=\u001b[39m _get_valid_accept_sparse(sparse\u001b[38;5;241m.\u001b[39missparse(X), \u001b[38;5;28mself\u001b[39m\u001b[38;5;241m.\u001b[39msolver)\n\u001b[0;32m   1003\u001b[0m X, y \u001b[38;5;241m=\u001b[39m \u001b[38;5;28mself\u001b[39m\u001b[38;5;241m.\u001b[39m_validate_data(\n\u001b[0;32m   1004\u001b[0m     X,\n\u001b[0;32m   1005\u001b[0m     y,\n\u001b[1;32m   (...)\u001b[0m\n\u001b[0;32m   1009\u001b[0m     y_numeric\u001b[38;5;241m=\u001b[39m\u001b[38;5;28;01mTrue\u001b[39;00m,\n\u001b[0;32m   1010\u001b[0m )\n\u001b[1;32m-> 1011\u001b[0m \u001b[38;5;28;01mreturn\u001b[39;00m \u001b[38;5;28;43msuper\u001b[39;49m\u001b[43m(\u001b[49m\u001b[43m)\u001b[49m\u001b[38;5;241;43m.\u001b[39;49m\u001b[43mfit\u001b[49m\u001b[43m(\u001b[49m\u001b[43mX\u001b[49m\u001b[43m,\u001b[49m\u001b[43m \u001b[49m\u001b[43my\u001b[49m\u001b[43m,\u001b[49m\u001b[43m \u001b[49m\u001b[43msample_weight\u001b[49m\u001b[38;5;241;43m=\u001b[39;49m\u001b[43msample_weight\u001b[49m\u001b[43m)\u001b[49m\n",
      "File \u001b[1;32m~\\anaconda3\\lib\\site-packages\\sklearn\\linear_model\\_ridge.py:782\u001b[0m, in \u001b[0;36m_BaseRidge.fit\u001b[1;34m(self, X, y, sample_weight)\u001b[0m\n\u001b[0;32m    778\u001b[0m     \u001b[38;5;28;01melse\u001b[39;00m:\n\u001b[0;32m    779\u001b[0m         \u001b[38;5;66;03m# for dense matrices or when intercept is set to 0\u001b[39;00m\n\u001b[0;32m    780\u001b[0m         params \u001b[38;5;241m=\u001b[39m {}\n\u001b[1;32m--> 782\u001b[0m     \u001b[38;5;28mself\u001b[39m\u001b[38;5;241m.\u001b[39mcoef_, \u001b[38;5;28mself\u001b[39m\u001b[38;5;241m.\u001b[39mn_iter_ \u001b[38;5;241m=\u001b[39m _ridge_regression(\n\u001b[0;32m    783\u001b[0m         X,\n\u001b[0;32m    784\u001b[0m         y,\n\u001b[0;32m    785\u001b[0m         alpha\u001b[38;5;241m=\u001b[39m\u001b[38;5;28mself\u001b[39m\u001b[38;5;241m.\u001b[39malpha,\n\u001b[0;32m    786\u001b[0m         sample_weight\u001b[38;5;241m=\u001b[39msample_weight,\n\u001b[0;32m    787\u001b[0m         max_iter\u001b[38;5;241m=\u001b[39m\u001b[38;5;28mself\u001b[39m\u001b[38;5;241m.\u001b[39mmax_iter,\n\u001b[0;32m    788\u001b[0m         tol\u001b[38;5;241m=\u001b[39m\u001b[38;5;28mself\u001b[39m\u001b[38;5;241m.\u001b[39mtol,\n\u001b[0;32m    789\u001b[0m         solver\u001b[38;5;241m=\u001b[39msolver,\n\u001b[0;32m    790\u001b[0m         positive\u001b[38;5;241m=\u001b[39m\u001b[38;5;28mself\u001b[39m\u001b[38;5;241m.\u001b[39mpositive,\n\u001b[0;32m    791\u001b[0m         random_state\u001b[38;5;241m=\u001b[39m\u001b[38;5;28mself\u001b[39m\u001b[38;5;241m.\u001b[39mrandom_state,\n\u001b[0;32m    792\u001b[0m         return_n_iter\u001b[38;5;241m=\u001b[39m\u001b[38;5;28;01mTrue\u001b[39;00m,\n\u001b[0;32m    793\u001b[0m         return_intercept\u001b[38;5;241m=\u001b[39m\u001b[38;5;28;01mFalse\u001b[39;00m,\n\u001b[0;32m    794\u001b[0m         check_input\u001b[38;5;241m=\u001b[39m\u001b[38;5;28;01mFalse\u001b[39;00m,\n\u001b[0;32m    795\u001b[0m         \u001b[38;5;241m*\u001b[39m\u001b[38;5;241m*\u001b[39mparams,\n\u001b[0;32m    796\u001b[0m     )\n\u001b[0;32m    797\u001b[0m     \u001b[38;5;28mself\u001b[39m\u001b[38;5;241m.\u001b[39m_set_intercept(X_offset, y_offset, X_scale)\n\u001b[0;32m    799\u001b[0m \u001b[38;5;28;01mreturn\u001b[39;00m \u001b[38;5;28mself\u001b[39m\n",
      "File \u001b[1;32m~\\anaconda3\\lib\\site-packages\\sklearn\\linear_model\\_ridge.py:599\u001b[0m, in \u001b[0;36m_ridge_regression\u001b[1;34m(X, y, alpha, sample_weight, solver, max_iter, tol, verbose, positive, random_state, return_n_iter, return_intercept, X_scale, X_offset, check_input)\u001b[0m\n\u001b[0;32m    597\u001b[0m \u001b[38;5;28;01melse\u001b[39;00m:\n\u001b[0;32m    598\u001b[0m     \u001b[38;5;28;01mtry\u001b[39;00m:\n\u001b[1;32m--> 599\u001b[0m         coef \u001b[38;5;241m=\u001b[39m \u001b[43m_solve_cholesky\u001b[49m\u001b[43m(\u001b[49m\u001b[43mX\u001b[49m\u001b[43m,\u001b[49m\u001b[43m \u001b[49m\u001b[43my\u001b[49m\u001b[43m,\u001b[49m\u001b[43m \u001b[49m\u001b[43malpha\u001b[49m\u001b[43m)\u001b[49m\n\u001b[0;32m    600\u001b[0m     \u001b[38;5;28;01mexcept\u001b[39;00m linalg\u001b[38;5;241m.\u001b[39mLinAlgError:\n\u001b[0;32m    601\u001b[0m         \u001b[38;5;66;03m# use SVD solver if matrix is singular\u001b[39;00m\n\u001b[0;32m    602\u001b[0m         solver \u001b[38;5;241m=\u001b[39m \u001b[38;5;124m\"\u001b[39m\u001b[38;5;124msvd\u001b[39m\u001b[38;5;124m\"\u001b[39m\n",
      "File \u001b[1;32m~\\anaconda3\\lib\\site-packages\\sklearn\\linear_model\\_ridge.py:157\u001b[0m, in \u001b[0;36m_solve_cholesky\u001b[1;34m(X, y, alpha)\u001b[0m\n\u001b[0;32m    155\u001b[0m \u001b[38;5;28;01mif\u001b[39;00m one_alpha:\n\u001b[0;32m    156\u001b[0m     A\u001b[38;5;241m.\u001b[39mflat[:: n_features \u001b[38;5;241m+\u001b[39m \u001b[38;5;241m1\u001b[39m] \u001b[38;5;241m+\u001b[39m\u001b[38;5;241m=\u001b[39m alpha[\u001b[38;5;241m0\u001b[39m]\n\u001b[1;32m--> 157\u001b[0m     \u001b[38;5;28;01mreturn\u001b[39;00m \u001b[43mlinalg\u001b[49m\u001b[38;5;241;43m.\u001b[39;49m\u001b[43msolve\u001b[49m\u001b[43m(\u001b[49m\u001b[43mA\u001b[49m\u001b[43m,\u001b[49m\u001b[43m \u001b[49m\u001b[43mXy\u001b[49m\u001b[43m,\u001b[49m\u001b[43m \u001b[49m\u001b[43msym_pos\u001b[49m\u001b[38;5;241;43m=\u001b[39;49m\u001b[38;5;28;43;01mTrue\u001b[39;49;00m\u001b[43m,\u001b[49m\u001b[43m \u001b[49m\u001b[43moverwrite_a\u001b[49m\u001b[38;5;241;43m=\u001b[39;49m\u001b[38;5;28;43;01mTrue\u001b[39;49;00m\u001b[43m)\u001b[49m\u001b[38;5;241m.\u001b[39mT\n\u001b[0;32m    158\u001b[0m \u001b[38;5;28;01melse\u001b[39;00m:\n\u001b[0;32m    159\u001b[0m     coefs \u001b[38;5;241m=\u001b[39m np\u001b[38;5;241m.\u001b[39mempty([n_targets, n_features], dtype\u001b[38;5;241m=\u001b[39mX\u001b[38;5;241m.\u001b[39mdtype)\n",
      "\u001b[1;31mTypeError\u001b[0m: solve() got an unexpected keyword argument 'sym_pos'"
     ]
    }
   ],
   "source": [
    "ridge_model.fit(X_train, y_train)"
   ]
  },
  {
   "cell_type": "markdown",
   "id": "2721d0cf",
   "metadata": {},
   "source": [
    "## Linear Regression"
   ]
  },
  {
   "cell_type": "code",
   "execution_count": 75,
   "id": "029c2f5a",
   "metadata": {},
   "outputs": [],
   "source": [
    "from sklearn.linear_model import LinearRegression"
   ]
  },
  {
   "cell_type": "code",
   "execution_count": 90,
   "id": "fd8f66c7",
   "metadata": {},
   "outputs": [],
   "source": [
    "linear_model = LinearRegression()\n",
    "# Entraîner le modèle\n",
    "linear_model.fit(X_train, y_train)\n",
    "# Faire des prédictions sur l'ensemble de test\n",
    "predictions = linear_model.predict(X_test)"
   ]
  },
  {
   "cell_type": "code",
   "execution_count": 91,
   "id": "4f822c70",
   "metadata": {},
   "outputs": [
    {
     "data": {
      "text/plain": [
       "2.758681130396275"
      ]
     },
     "execution_count": 91,
     "metadata": {},
     "output_type": "execute_result"
    }
   ],
   "source": [
    "mse_linear= mean_squared_error(y_test,predictions)\n",
    "mse_linear"
   ]
  },
  {
   "cell_type": "code",
   "execution_count": 92,
   "id": "4920735f",
   "metadata": {},
   "outputs": [
    {
     "data": {
      "text/plain": [
       "0.711603371041339"
      ]
     },
     "execution_count": 92,
     "metadata": {},
     "output_type": "execute_result"
    }
   ],
   "source": [
    "r2_linear=r2_score(y_test,predictions)\n",
    "r2_linear"
   ]
  },
  {
   "cell_type": "code",
   "execution_count": 93,
   "id": "0234caca",
   "metadata": {},
   "outputs": [
    {
     "data": {
      "image/png": "[encoded data removed]",
      "text/plain": [
       "<Figure size 432x288 with 1 Axes>"
      ]
     },
     "metadata": {
      "needs_background": "light"
     },
     "output_type": "display_data"
    }
   ],
   "source": [
    "plt.scatter(y_test,predictions,color='blue')\n",
    "plt.plot([min(y_test),max(y_test)],[min(y_test),max(y_test)],linestyle='-',color='r')\n",
    "plt.show()"
   ]
  },
  {
   "cell_type": "markdown",
   "id": "1d253ac7",
   "metadata": {},
   "source": [
    "## KNN"
   ]
  },
  {
   "cell_type": "code",
   "execution_count": 83,
   "id": "5ffe36a1",
   "metadata": {},
   "outputs": [],
   "source": [
    "from sklearn.neighbors import KNeighborsRegressor"
   ]
  },
  {
   "cell_type": "code",
   "execution_count": 95,
   "id": "5b080742",
   "metadata": {},
   "outputs": [
    {
     "data": {
      "text/plain": [
       "KNeighborsRegressor(n_neighbors=3)"
      ]
     },
     "execution_count": 95,
     "metadata": {},
     "output_type": "execute_result"
    }
   ],
   "source": [
    "k = 3\n",
    "#Train Model and Predict  \n",
    "neigh = KNeighborsRegressor(n_neighbors = k)\n",
    "neigh.fit(X_train,y_train)"
   ]
  },
  {
   "cell_type": "code",
   "execution_count": 96,
   "id": "5e1030cb",
   "metadata": {},
   "outputs": [],
   "source": [
    "yhat = neigh.predict(X_test)"
   ]
  },
  {
   "cell_type": "code",
   "execution_count": 97,
   "id": "b78fed73",
   "metadata": {},
   "outputs": [
    {
     "data": {
      "image/png": "[encoded data removed]",
      "text/plain": [
       "<Figure size 432x288 with 1 Axes>"
      ]
     },
     "metadata": {
      "needs_background": "light"
     },
     "output_type": "display_data"
    }
   ],
   "source": [
    "plt.scatter(y_test,yhat,color='blue')\n",
    "plt.plot([min(y_test),max(y_test)],[min(y_test),max(y_test)],linestyle='-',color='r')\n",
    "plt.show()"
   ]
  },
  {
   "cell_type": "code",
   "execution_count": 98,
   "id": "8c79f630",
   "metadata": {},
   "outputs": [],
   "source": [
    "def knn_hyperparam(k,x,mse):\n",
    "    knn_model = KNeighborsRegressor(n_neighbors = k)\n",
    "    knn_model.fit(X_train,y_train)\n",
    "    yhat = knn_model.predict(X_test)\n",
    "    x.append(r2_score(y_test,yhat))\n",
    "    mse.append(mean_squared_error(y_test,yhat))\n"
   ]
  },
  {
   "cell_type": "code",
   "execution_count": 198,
   "id": "27b7e320",
   "metadata": {},
   "outputs": [
    {
     "name": "stdout",
     "output_type": "stream",
     "text": [
      "Performance max:  0.337362081353603\n",
      "valeur d'hypp: 4\n",
      "index : 3\n"
     ]
    }
   ],
   "source": [
    "r2_knn=[]\n",
    "mse_knn=[]\n",
    "reg_value=range(1,101)\n",
    "for i in reg_value:\n",
    "    knn_hyperparam(i,r2_knn,mse_knn)\n",
    "\n",
    "print('Performance max: ', max(r2_knn))\n",
    "print('valeur d\\'hypp:', reg_value[r2_knn.index(max(r2_knn))])\n",
    "print('index :', r2_knn.index(max(r2_knn)) )"
   ]
  },
  {
   "cell_type": "code",
   "execution_count": 199,
   "id": "866ea1cc",
   "metadata": {},
   "outputs": [
    {
     "data": {
      "text/plain": [
       "<function matplotlib.pyplot.legend(*args, **kwargs)>"
      ]
     },
     "execution_count": 199,
     "metadata": {},
     "output_type": "execute_result"
    },
    {
     "data": {
      "image/png": "[encoded data removed]",
      "text/plain": [
       "<Figure size 720x432 with 1 Axes>"
      ]
     },
     "metadata": {
      "needs_background": "light"
     },
     "output_type": "display_data"
    }
   ],
   "source": [
    "plt.figure(figsize=(10,6))\n",
    "plt.scatter(reg_value,r2_knn)\n",
    "plt.xlabel('hyperparametre')\n",
    "plt.ylabel('Performance')\n",
    "plt.legend"
   ]
  },
  {
   "cell_type": "code",
   "execution_count": 200,
   "id": "940604bf",
   "metadata": {},
   "outputs": [
    {
     "data": {
      "text/plain": [
       "<function matplotlib.pyplot.legend(*args, **kwargs)>"
      ]
     },
     "execution_count": 200,
     "metadata": {},
     "output_type": "execute_result"
    },
    {
     "data": {
      "image/png": "[encoded data removed]",
      "text/plain": [
       "<Figure size 720x432 with 1 Axes>"
      ]
     },
     "metadata": {
      "needs_background": "light"
     },
     "output_type": "display_data"
    }
   ],
   "source": [
    "plt.figure(figsize=(10,6))\n",
    "plt.scatter(reg_value,mse_knn)\n",
    "plt.xlabel('hyperparametre')\n",
    "plt.ylabel('Erreur')\n",
    "plt.legend"
   ]
  },
  {
   "cell_type": "code",
   "execution_count": 112,
   "id": "17c9f778",
   "metadata": {},
   "outputs": [
    {
     "data": {
      "text/plain": [
       "6.343180784643228"
      ]
     },
     "execution_count": 112,
     "metadata": {},
     "output_type": "execute_result"
    }
   ],
   "source": [
    "min(mse_knn)"
   ]
  },
  {
   "cell_type": "markdown",
   "id": "feb730f3",
   "metadata": {},
   "source": [
    "## ADABOOST"
   ]
  },
  {
   "cell_type": "code",
   "execution_count": 77,
   "id": "ee4dc031",
   "metadata": {},
   "outputs": [],
   "source": [
    "from sklearn.ensemble import AdaBoostRegressor"
   ]
  },
  {
   "cell_type": "code",
   "execution_count": 100,
   "id": "dd8692ec",
   "metadata": {},
   "outputs": [],
   "source": [
    "model = AdaBoostRegressor(n_estimators=10)"
   ]
  },
  {
   "cell_type": "code",
   "execution_count": 101,
   "id": "0d602188",
   "metadata": {},
   "outputs": [
    {
     "data": {
      "text/plain": [
       "AdaBoostRegressor(n_estimators=10)"
      ]
     },
     "execution_count": 101,
     "metadata": {},
     "output_type": "execute_result"
    }
   ],
   "source": [
    "model.fit(X_train, y_train)\n"
   ]
  },
  {
   "cell_type": "code",
   "execution_count": 102,
   "id": "b62cca10",
   "metadata": {},
   "outputs": [],
   "source": [
    "predictions = model.predict(X_test)"
   ]
  },
  {
   "cell_type": "code",
   "execution_count": 103,
   "id": "5e8b2240",
   "metadata": {},
   "outputs": [
    {
     "data": {
      "image/png": "[encoded data removed]",
      "text/plain": [
       "<Figure size 432x288 with 1 Axes>"
      ]
     },
     "metadata": {
      "needs_background": "light"
     },
     "output_type": "display_data"
    }
   ],
   "source": [
    "plt.scatter(y_test,predictions,color='blue')\n",
    "plt.plot([min(y_test),max(y_test)],[min(y_test),max(y_test)],linestyle='-',color='r')\n",
    "plt.show()"
   ]
  },
  {
   "cell_type": "code",
   "execution_count": 118,
   "id": "d323e56d",
   "metadata": {},
   "outputs": [],
   "source": [
    "def adboost(k,x,mse):\n",
    "    adaboost_model = AdaBoostRegressor(n_estimators=k)\n",
    "    adaboost_model.fit(X_train, y_train)\n",
    "    predictions = adaboost_model.predict(X_test)\n",
    "    x.append(r2_score(y_test,predictions))\n",
    "    mse.append(mean_squared_error(y_test,predictions))"
   ]
  },
  {
   "cell_type": "code",
   "execution_count": 119,
   "id": "d17a8a37",
   "metadata": {},
   "outputs": [
    {
     "name": "stdout",
     "output_type": "stream",
     "text": [
      "Performance max:  0.7212580002308137\n",
      "valeur d'hypp: 27\n",
      "index : 26\n"
     ]
    }
   ],
   "source": [
    "r2_adaboost=[]\n",
    "mse_adaboost=[]\n",
    "reg_value=range(1,101)\n",
    "for i in reg_value:\n",
    "    adboost(i,r2_adaboost,mse_adaboost)\n",
    "\n",
    "print('Performance max: ', max(r2_adaboost))\n",
    "print('valeur d\\'hypp:', reg_value[r2_adaboost.index(max(r2_adaboost))])\n",
    "print('index :', r2_adaboost.index(max(r2_adaboost)) )"
   ]
  },
  {
   "cell_type": "code",
   "execution_count": 120,
   "id": "c061ed9e",
   "metadata": {},
   "outputs": [
    {
     "data": {
      "text/plain": [
       "<function matplotlib.pyplot.legend(*args, **kwargs)>"
      ]
     },
     "execution_count": 120,
     "metadata": {},
     "output_type": "execute_result"
    },
    {
     "data": {
      "image/png": "[encoded data removed]",
      "text/plain": [
       "<Figure size 720x432 with 1 Axes>"
      ]
     },
     "metadata": {
      "needs_background": "light"
     },
     "output_type": "display_data"
    }
   ],
   "source": [
    "plt.figure(figsize=(10,6))\n",
    "plt.scatter(reg_value,r2_adaboost)\n",
    "plt.xlabel('hyperparametre')\n",
    "plt.ylabel('Performance')\n",
    "plt.legend"
   ]
  },
  {
   "cell_type": "code",
   "execution_count": 121,
   "id": "75f8c41e",
   "metadata": {},
   "outputs": [
    {
     "data": {
      "text/plain": [
       "<function matplotlib.pyplot.legend(*args, **kwargs)>"
      ]
     },
     "execution_count": 121,
     "metadata": {},
     "output_type": "execute_result"
    },
    {
     "data": {
      "image/png": "[encoded data removed]",
      "text/plain": [
       "<Figure size 720x432 with 1 Axes>"
      ]
     },
     "metadata": {
      "needs_background": "light"
     },
     "output_type": "display_data"
    }
   ],
   "source": [
    "plt.figure(figsize=(10,6))\n",
    "plt.scatter(reg_value,mse_adaboost)\n",
    "plt.xlabel('hyperparametre')\n",
    "plt.ylabel('Error')\n",
    "plt.legend"
   ]
  },
  {
   "cell_type": "code",
   "execution_count": 122,
   "id": "812e8429",
   "metadata": {},
   "outputs": [
    {
     "data": {
      "text/plain": [
       "[<matplotlib.lines.Line2D at 0x2d65e807d30>]"
      ]
     },
     "execution_count": 122,
     "metadata": {},
     "output_type": "execute_result"
    },
    {
     "data": {
      "image/png": "[encoded data removed]",
      "text/plain": [
       "<Figure size 432x288 with 1 Axes>"
      ]
     },
     "metadata": {
      "needs_background": "light"
     },
     "output_type": "display_data"
    }
   ],
   "source": [
    "plt.plot(r2_adaboost,mse_adaboost)"
   ]
  },
  {
   "cell_type": "markdown",
   "id": "23b829c2",
   "metadata": {},
   "source": [
    "## Random Forest Regressor"
   ]
  },
  {
   "cell_type": "code",
   "execution_count": 78,
   "id": "6a97d6f1",
   "metadata": {},
   "outputs": [],
   "source": [
    "from sklearn.ensemble import RandomForestRegressor"
   ]
  },
  {
   "cell_type": "code",
   "execution_count": 124,
   "id": "780b54f3",
   "metadata": {},
   "outputs": [],
   "source": [
    "def randomForest(k,x,mse):\n",
    "    rf_model = RandomForestRegressor(n_estimators=k,random_state=42)\n",
    "    rf_model.fit(X_train, y_train)\n",
    "    predictions = rf_model.predict(X_test)\n",
    "    x.append(r2_score(y_test,predictions))\n",
    "    mse.append(mean_squared_error(y_test,predictions))"
   ]
  },
  {
   "cell_type": "code",
   "execution_count": 125,
   "id": "8f5a18f1",
   "metadata": {},
   "outputs": [
    {
     "name": "stdout",
     "output_type": "stream",
     "text": [
      "Performance max:  0.8628448205646119\n",
      "valeur d'hypp: 133\n",
      "index : 132\n"
     ]
    }
   ],
   "source": [
    "r2_rf=[]\n",
    "mse_rf=[]\n",
    "reg_value=range(1,200)\n",
    "for i in reg_value:\n",
    "    randomForest(i,r2_rf,mse_rf)\n",
    "\n",
    "print('Performance max: ', max(r2_rf))\n",
    "print('valeur d\\'hypp:', reg_value[r2_rf.index(max(r2_rf))])\n",
    "print('index :', r2_rf.index(max(r2_rf)) )"
   ]
  },
  {
   "cell_type": "code",
   "execution_count": 126,
   "id": "1e1d9ce4",
   "metadata": {},
   "outputs": [
    {
     "data": {
      "text/plain": [
       "<function matplotlib.pyplot.legend(*args, **kwargs)>"
      ]
     },
     "execution_count": 126,
     "metadata": {},
     "output_type": "execute_result"
    },
    {
     "data": {
      "image/png": "[encoded data removed]",
      "text/plain": [
       "<Figure size 720x432 with 1 Axes>"
      ]
     },
     "metadata": {
      "needs_background": "light"
     },
     "output_type": "display_data"
    }
   ],
   "source": [
    "plt.figure(figsize=(10,6))\n",
    "plt.scatter(reg_value,r2_rf)\n",
    "plt.xlabel('hyperparametre')\n",
    "plt.ylabel('Performance')\n",
    "plt.legend"
   ]
  },
  {
   "cell_type": "code",
   "execution_count": 127,
   "id": "f53f61cf",
   "metadata": {},
   "outputs": [
    {
     "data": {
      "text/plain": [
       "<function matplotlib.pyplot.legend(*args, **kwargs)>"
      ]
     },
     "execution_count": 127,
     "metadata": {},
     "output_type": "execute_result"
    },
    {
     "data": {
      "image/png": "[encoded data removed]",
      "text/plain": [
       "<Figure size 720x432 with 1 Axes>"
      ]
     },
     "metadata": {
      "needs_background": "light"
     },
     "output_type": "display_data"
    }
   ],
   "source": [
    "plt.figure(figsize=(10,6))\n",
    "plt.scatter(reg_value,mse_rf)\n",
    "plt.xlabel('hyperparametre')\n",
    "plt.ylabel('Error')\n",
    "plt.legend"
   ]
  },
  {
   "cell_type": "markdown",
   "id": "bd91c964",
   "metadata": {},
   "source": [
    "# APPRENTISSAGE DES MODELE AVEC LES MEILLEURS HYPERPERAM\n"
   ]
  },
  {
   "cell_type": "markdown",
   "id": "0008e20e",
   "metadata": {},
   "source": [
    "## Lasso"
   ]
  },
  {
   "cell_type": "code",
   "execution_count": 89,
   "id": "1a52879f",
   "metadata": {},
   "outputs": [
    {
     "data": {
      "text/plain": [
       "Lasso(alpha=0.1)"
      ]
     },
     "execution_count": 89,
     "metadata": {},
     "output_type": "execute_result"
    }
   ],
   "source": [
    "#initialisation du modèle de LASSO\n",
    "lasso_model=Lasso(0.1)\n",
    "#Entrainnement avec les données d'entrainnement\n",
    "lasso_model.fit(X_train, y_train)"
   ]
  },
  {
   "cell_type": "code",
   "execution_count": null,
   "id": "1dfcd1f8",
   "metadata": {},
   "outputs": [],
   "source": []
  },
  {
   "cell_type": "markdown",
   "id": "c4f50b88",
   "metadata": {},
   "source": [
    "## KNN"
   ]
  },
  {
   "cell_type": "code",
   "execution_count": 90,
   "id": "4d56518e",
   "metadata": {},
   "outputs": [
    {
     "data": {
      "text/plain": [
       "KNeighborsRegressor(n_neighbors=4)"
      ]
     },
     "execution_count": 90,
     "metadata": {},
     "output_type": "execute_result"
    }
   ],
   "source": [
    "k = 4\n",
    "#Train Model and Predict  \n",
    "knn_modele = KNeighborsRegressor(n_neighbors = k)\n",
    "knn_modele.fit(X_train,y_train)"
   ]
  },
  {
   "cell_type": "code",
   "execution_count": null,
   "id": "e68bf322",
   "metadata": {},
   "outputs": [],
   "source": []
  },
  {
   "cell_type": "markdown",
   "id": "c639492b",
   "metadata": {},
   "source": [
    "## Lineaire regresssion"
   ]
  },
  {
   "cell_type": "code",
   "execution_count": 91,
   "id": "96ac9154",
   "metadata": {},
   "outputs": [
    {
     "data": {
      "text/plain": [
       "LinearRegression()"
      ]
     },
     "execution_count": 91,
     "metadata": {},
     "output_type": "execute_result"
    }
   ],
   "source": [
    "linear_model = LinearRegression()\n",
    "# Entraîner le modèle\n",
    "linear_model.fit(X_train, y_train)\n"
   ]
  },
  {
   "cell_type": "code",
   "execution_count": null,
   "id": "a461c0a7",
   "metadata": {},
   "outputs": [],
   "source": []
  },
  {
   "cell_type": "markdown",
   "id": "604fb9fd",
   "metadata": {},
   "source": [
    "## Adaboost"
   ]
  },
  {
   "cell_type": "code",
   "execution_count": 92,
   "id": "1a43be9c",
   "metadata": {},
   "outputs": [
    {
     "data": {
      "text/plain": [
       "AdaBoostRegressor(n_estimators=95)"
      ]
     },
     "execution_count": 92,
     "metadata": {},
     "output_type": "execute_result"
    }
   ],
   "source": [
    "ada_model = AdaBoostRegressor(n_estimators=95)\n",
    "ada_model.fit(X_train, y_train)"
   ]
  },
  {
   "cell_type": "code",
   "execution_count": null,
   "id": "b229c7ad",
   "metadata": {},
   "outputs": [],
   "source": []
  },
  {
   "cell_type": "markdown",
   "id": "1784ddd3",
   "metadata": {},
   "source": [
    "## Random Forest "
   ]
  },
  {
   "cell_type": "code",
   "execution_count": 93,
   "id": "3656d736",
   "metadata": {},
   "outputs": [
    {
     "data": {
      "text/plain": [
       "RandomForestRegressor(n_estimators=133, random_state=42)"
      ]
     },
     "execution_count": 93,
     "metadata": {},
     "output_type": "execute_result"
    }
   ],
   "source": [
    "rf_model = RandomForestRegressor(n_estimators=133,random_state=42)\n",
    "rf_model.fit(X_train, y_train)"
   ]
  },
  {
   "cell_type": "code",
   "execution_count": null,
   "id": "b625e593",
   "metadata": {},
   "outputs": [],
   "source": []
  },
  {
   "cell_type": "markdown",
   "id": "138250c6",
   "metadata": {},
   "source": [
    "# Test de prediction"
   ]
  },
  {
   "cell_type": "code",
   "execution_count": 96,
   "id": "51ec45d5",
   "metadata": {},
   "outputs": [],
   "source": [
    "df_test=pd.read_csv('DAtaset/test-data.csv')"
   ]
  },
  {
   "cell_type": "code",
   "execution_count": 97,
   "id": "1ecaaccf",
   "metadata": {},
   "outputs": [
    {
     "data": {
      "text/html": [
       "<div>\n",
       "<style scoped>\n",
       "    .dataframe tbody tr th:only-of-type {\n",
       "        vertical-align: middle;\n",
       "    }\n",
       "\n",
       "    .dataframe tbody tr th {\n",
       "        vertical-align: top;\n",
       "    }\n",
       "\n",
       "    .dataframe thead th {\n",
       "        text-align: right;\n",
       "    }\n",
       "</style>\n",
       "<table border=\"1\" class=\"dataframe\">\n",
       "  <thead>\n",
       "    <tr style=\"text-align: right;\">\n",
       "      <th></th>\n",
       "      <th>Unnamed: 0</th>\n",
       "      <th>Name</th>\n",
       "      <th>Location</th>\n",
       "      <th>Year</th>\n",
       "      <th>Kilometers_Driven</th>\n",
       "      <th>Fuel_Type</th>\n",
       "      <th>Transmission</th>\n",
       "      <th>Owner_Type</th>\n",
       "      <th>Mileage</th>\n",
       "      <th>Engine</th>\n",
       "      <th>Power</th>\n",
       "      <th>Seats</th>\n",
       "      <th>New_Price</th>\n",
       "    </tr>\n",
       "  </thead>\n",
       "  <tbody>\n",
       "    <tr>\n",
       "      <th>0</th>\n",
       "      <td>0</td>\n",
       "      <td>Maruti Alto K10 LXI CNG</td>\n",
       "      <td>Delhi</td>\n",
       "      <td>2014</td>\n",
       "      <td>40929</td>\n",
       "      <td>CNG</td>\n",
       "      <td>Manual</td>\n",
       "      <td>First</td>\n",
       "      <td>32.26 km/kg</td>\n",
       "      <td>998 CC</td>\n",
       "      <td>58.2 bhp</td>\n",
       "      <td>4.0</td>\n",
       "      <td>NaN</td>\n",
       "    </tr>\n",
       "    <tr>\n",
       "      <th>1</th>\n",
       "      <td>1</td>\n",
       "      <td>Maruti Alto 800 2016-2019 LXI</td>\n",
       "      <td>Coimbatore</td>\n",
       "      <td>2013</td>\n",
       "      <td>54493</td>\n",
       "      <td>Petrol</td>\n",
       "      <td>Manual</td>\n",
       "      <td>Second</td>\n",
       "      <td>24.7 kmpl</td>\n",
       "      <td>796 CC</td>\n",
       "      <td>47.3 bhp</td>\n",
       "      <td>5.0</td>\n",
       "      <td>NaN</td>\n",
       "    </tr>\n",
       "    <tr>\n",
       "      <th>2</th>\n",
       "      <td>2</td>\n",
       "      <td>Toyota Innova Crysta Touring Sport 2.4 MT</td>\n",
       "      <td>Mumbai</td>\n",
       "      <td>2017</td>\n",
       "      <td>34000</td>\n",
       "      <td>Diesel</td>\n",
       "      <td>Manual</td>\n",
       "      <td>First</td>\n",
       "      <td>13.68 kmpl</td>\n",
       "      <td>2393 CC</td>\n",
       "      <td>147.8 bhp</td>\n",
       "      <td>7.0</td>\n",
       "      <td>25.27 Lakh</td>\n",
       "    </tr>\n",
       "    <tr>\n",
       "      <th>3</th>\n",
       "      <td>3</td>\n",
       "      <td>Toyota Etios Liva GD</td>\n",
       "      <td>Hyderabad</td>\n",
       "      <td>2012</td>\n",
       "      <td>139000</td>\n",
       "      <td>Diesel</td>\n",
       "      <td>Manual</td>\n",
       "      <td>First</td>\n",
       "      <td>23.59 kmpl</td>\n",
       "      <td>1364 CC</td>\n",
       "      <td>null bhp</td>\n",
       "      <td>5.0</td>\n",
       "      <td>NaN</td>\n",
       "    </tr>\n",
       "    <tr>\n",
       "      <th>4</th>\n",
       "      <td>4</td>\n",
       "      <td>Hyundai i20 Magna</td>\n",
       "      <td>Mumbai</td>\n",
       "      <td>2014</td>\n",
       "      <td>29000</td>\n",
       "      <td>Petrol</td>\n",
       "      <td>Manual</td>\n",
       "      <td>First</td>\n",
       "      <td>18.5 kmpl</td>\n",
       "      <td>1197 CC</td>\n",
       "      <td>82.85 bhp</td>\n",
       "      <td>5.0</td>\n",
       "      <td>NaN</td>\n",
       "    </tr>\n",
       "  </tbody>\n",
       "</table>\n",
       "</div>"
      ],
      "text/plain": [
       "   Unnamed: 0                                       Name    Location  Year  \\\n",
       "0           0                    Maruti Alto K10 LXI CNG       Delhi  2014   \n",
       "1           1              Maruti Alto 800 2016-2019 LXI  Coimbatore  2013   \n",
       "2           2  Toyota Innova Crysta Touring Sport 2.4 MT      Mumbai  2017   \n",
       "3           3                       Toyota Etios Liva GD   Hyderabad  2012   \n",
       "4           4                          Hyundai i20 Magna      Mumbai  2014   \n",
       "\n",
       "   Kilometers_Driven Fuel_Type Transmission Owner_Type      Mileage   Engine  \\\n",
       "0              40929       CNG       Manual      First  32.26 km/kg   998 CC   \n",
       "1              54493    Petrol       Manual     Second    24.7 kmpl   796 CC   \n",
       "2              34000    Diesel       Manual      First   13.68 kmpl  2393 CC   \n",
       "3             139000    Diesel       Manual      First   23.59 kmpl  1364 CC   \n",
       "4              29000    Petrol       Manual      First    18.5 kmpl  1197 CC   \n",
       "\n",
       "       Power  Seats   New_Price  \n",
       "0   58.2 bhp    4.0         NaN  \n",
       "1   47.3 bhp    5.0         NaN  \n",
       "2  147.8 bhp    7.0  25.27 Lakh  \n",
       "3   null bhp    5.0         NaN  \n",
       "4  82.85 bhp    5.0         NaN  "
      ]
     },
     "execution_count": 97,
     "metadata": {},
     "output_type": "execute_result"
    }
   ],
   "source": [
    "df_test.head()"
   ]
  },
  {
   "cell_type": "code",
   "execution_count": 98,
   "id": "be95094c",
   "metadata": {},
   "outputs": [
    {
     "data": {
      "text/html": [
       "<div>\n",
       "<style scoped>\n",
       "    .dataframe tbody tr th:only-of-type {\n",
       "        vertical-align: middle;\n",
       "    }\n",
       "\n",
       "    .dataframe tbody tr th {\n",
       "        vertical-align: top;\n",
       "    }\n",
       "\n",
       "    .dataframe thead th {\n",
       "        text-align: right;\n",
       "    }\n",
       "</style>\n",
       "<table border=\"1\" class=\"dataframe\">\n",
       "  <thead>\n",
       "    <tr style=\"text-align: right;\">\n",
       "      <th></th>\n",
       "      <th>Year</th>\n",
       "      <th>Kilometers_Driven</th>\n",
       "      <th>Fuel_Type</th>\n",
       "      <th>Transmission</th>\n",
       "      <th>Owner_Type</th>\n",
       "      <th>Mileage</th>\n",
       "      <th>Engine</th>\n",
       "      <th>Power</th>\n",
       "      <th>Seats</th>\n",
       "    </tr>\n",
       "  </thead>\n",
       "  <tbody>\n",
       "    <tr>\n",
       "      <th>0</th>\n",
       "      <td>2014</td>\n",
       "      <td>40929</td>\n",
       "      <td>CNG</td>\n",
       "      <td>Manual</td>\n",
       "      <td>First</td>\n",
       "      <td>32.26 km/kg</td>\n",
       "      <td>998 CC</td>\n",
       "      <td>58.2 bhp</td>\n",
       "      <td>4.0</td>\n",
       "    </tr>\n",
       "    <tr>\n",
       "      <th>1</th>\n",
       "      <td>2013</td>\n",
       "      <td>54493</td>\n",
       "      <td>Petrol</td>\n",
       "      <td>Manual</td>\n",
       "      <td>Second</td>\n",
       "      <td>24.7 kmpl</td>\n",
       "      <td>796 CC</td>\n",
       "      <td>47.3 bhp</td>\n",
       "      <td>5.0</td>\n",
       "    </tr>\n",
       "    <tr>\n",
       "      <th>2</th>\n",
       "      <td>2017</td>\n",
       "      <td>34000</td>\n",
       "      <td>Diesel</td>\n",
       "      <td>Manual</td>\n",
       "      <td>First</td>\n",
       "      <td>13.68 kmpl</td>\n",
       "      <td>2393 CC</td>\n",
       "      <td>147.8 bhp</td>\n",
       "      <td>7.0</td>\n",
       "    </tr>\n",
       "    <tr>\n",
       "      <th>3</th>\n",
       "      <td>2012</td>\n",
       "      <td>139000</td>\n",
       "      <td>Diesel</td>\n",
       "      <td>Manual</td>\n",
       "      <td>First</td>\n",
       "      <td>23.59 kmpl</td>\n",
       "      <td>1364 CC</td>\n",
       "      <td>null bhp</td>\n",
       "      <td>5.0</td>\n",
       "    </tr>\n",
       "    <tr>\n",
       "      <th>4</th>\n",
       "      <td>2014</td>\n",
       "      <td>29000</td>\n",
       "      <td>Petrol</td>\n",
       "      <td>Manual</td>\n",
       "      <td>First</td>\n",
       "      <td>18.5 kmpl</td>\n",
       "      <td>1197 CC</td>\n",
       "      <td>82.85 bhp</td>\n",
       "      <td>5.0</td>\n",
       "    </tr>\n",
       "  </tbody>\n",
       "</table>\n",
       "</div>"
      ],
      "text/plain": [
       "   Year  Kilometers_Driven Fuel_Type Transmission Owner_Type      Mileage  \\\n",
       "0  2014              40929       CNG       Manual      First  32.26 km/kg   \n",
       "1  2013              54493    Petrol       Manual     Second    24.7 kmpl   \n",
       "2  2017              34000    Diesel       Manual      First   13.68 kmpl   \n",
       "3  2012             139000    Diesel       Manual      First   23.59 kmpl   \n",
       "4  2014              29000    Petrol       Manual      First    18.5 kmpl   \n",
       "\n",
       "    Engine      Power  Seats  \n",
       "0   998 CC   58.2 bhp    4.0  \n",
       "1   796 CC   47.3 bhp    5.0  \n",
       "2  2393 CC  147.8 bhp    7.0  \n",
       "3  1364 CC   null bhp    5.0  \n",
       "4  1197 CC  82.85 bhp    5.0  "
      ]
     },
     "execution_count": 98,
     "metadata": {},
     "output_type": "execute_result"
    }
   ],
   "source": [
    "df_test=df_test.drop('New_Price',axis=1)\n",
    "df_test=df_test.drop('Unnamed: 0',axis=1)\n",
    "df_test=df_test.drop('Name',axis=1)\n",
    "df_test=df_test.drop('Location',axis=1)\n",
    "df_test= df_test.dropna()\n",
    "df_test.head()"
   ]
  },
  {
   "cell_type": "code",
   "execution_count": 99,
   "id": "f05d0b0a",
   "metadata": {},
   "outputs": [
    {
     "data": {
      "text/html": [
       "<div>\n",
       "<style scoped>\n",
       "    .dataframe tbody tr th:only-of-type {\n",
       "        vertical-align: middle;\n",
       "    }\n",
       "\n",
       "    .dataframe tbody tr th {\n",
       "        vertical-align: top;\n",
       "    }\n",
       "\n",
       "    .dataframe thead th {\n",
       "        text-align: right;\n",
       "    }\n",
       "</style>\n",
       "<table border=\"1\" class=\"dataframe\">\n",
       "  <thead>\n",
       "    <tr style=\"text-align: right;\">\n",
       "      <th></th>\n",
       "      <th>Year</th>\n",
       "      <th>Kilometers_Driven</th>\n",
       "      <th>Fuel_Type</th>\n",
       "      <th>Transmission</th>\n",
       "      <th>Owner_Type</th>\n",
       "      <th>Mileage</th>\n",
       "      <th>Engine</th>\n",
       "      <th>Power</th>\n",
       "      <th>Seats</th>\n",
       "    </tr>\n",
       "  </thead>\n",
       "  <tbody>\n",
       "    <tr>\n",
       "      <th>1</th>\n",
       "      <td>2013</td>\n",
       "      <td>54493</td>\n",
       "      <td>Petrol</td>\n",
       "      <td>Manual</td>\n",
       "      <td>Second</td>\n",
       "      <td>24.7 kmpl</td>\n",
       "      <td>796 CC</td>\n",
       "      <td>47.3 bhp</td>\n",
       "      <td>5.0</td>\n",
       "    </tr>\n",
       "    <tr>\n",
       "      <th>2</th>\n",
       "      <td>2017</td>\n",
       "      <td>34000</td>\n",
       "      <td>Diesel</td>\n",
       "      <td>Manual</td>\n",
       "      <td>First</td>\n",
       "      <td>13.68 kmpl</td>\n",
       "      <td>2393 CC</td>\n",
       "      <td>147.8 bhp</td>\n",
       "      <td>7.0</td>\n",
       "    </tr>\n",
       "    <tr>\n",
       "      <th>3</th>\n",
       "      <td>2012</td>\n",
       "      <td>139000</td>\n",
       "      <td>Diesel</td>\n",
       "      <td>Manual</td>\n",
       "      <td>First</td>\n",
       "      <td>23.59 kmpl</td>\n",
       "      <td>1364 CC</td>\n",
       "      <td>null bhp</td>\n",
       "      <td>5.0</td>\n",
       "    </tr>\n",
       "    <tr>\n",
       "      <th>4</th>\n",
       "      <td>2014</td>\n",
       "      <td>29000</td>\n",
       "      <td>Petrol</td>\n",
       "      <td>Manual</td>\n",
       "      <td>First</td>\n",
       "      <td>18.5 kmpl</td>\n",
       "      <td>1197 CC</td>\n",
       "      <td>82.85 bhp</td>\n",
       "      <td>5.0</td>\n",
       "    </tr>\n",
       "    <tr>\n",
       "      <th>5</th>\n",
       "      <td>2016</td>\n",
       "      <td>85609</td>\n",
       "      <td>Diesel</td>\n",
       "      <td>Manual</td>\n",
       "      <td>Second</td>\n",
       "      <td>16.0 kmpl</td>\n",
       "      <td>2179 CC</td>\n",
       "      <td>140 bhp</td>\n",
       "      <td>7.0</td>\n",
       "    </tr>\n",
       "    <tr>\n",
       "      <th>...</th>\n",
       "      <td>...</td>\n",
       "      <td>...</td>\n",
       "      <td>...</td>\n",
       "      <td>...</td>\n",
       "      <td>...</td>\n",
       "      <td>...</td>\n",
       "      <td>...</td>\n",
       "      <td>...</td>\n",
       "      <td>...</td>\n",
       "    </tr>\n",
       "    <tr>\n",
       "      <th>1229</th>\n",
       "      <td>2011</td>\n",
       "      <td>89411</td>\n",
       "      <td>Diesel</td>\n",
       "      <td>Manual</td>\n",
       "      <td>First</td>\n",
       "      <td>20.54 kmpl</td>\n",
       "      <td>1598 CC</td>\n",
       "      <td>103.6 bhp</td>\n",
       "      <td>5.0</td>\n",
       "    </tr>\n",
       "    <tr>\n",
       "      <th>1230</th>\n",
       "      <td>2015</td>\n",
       "      <td>59000</td>\n",
       "      <td>Petrol</td>\n",
       "      <td>Automatic</td>\n",
       "      <td>First</td>\n",
       "      <td>17.21 kmpl</td>\n",
       "      <td>1197 CC</td>\n",
       "      <td>103.6 bhp</td>\n",
       "      <td>5.0</td>\n",
       "    </tr>\n",
       "    <tr>\n",
       "      <th>1231</th>\n",
       "      <td>2012</td>\n",
       "      <td>28000</td>\n",
       "      <td>Diesel</td>\n",
       "      <td>Manual</td>\n",
       "      <td>First</td>\n",
       "      <td>23.08 kmpl</td>\n",
       "      <td>1461 CC</td>\n",
       "      <td>63.1 bhp</td>\n",
       "      <td>5.0</td>\n",
       "    </tr>\n",
       "    <tr>\n",
       "      <th>1232</th>\n",
       "      <td>2013</td>\n",
       "      <td>52262</td>\n",
       "      <td>Petrol</td>\n",
       "      <td>Automatic</td>\n",
       "      <td>Third</td>\n",
       "      <td>17.2 kmpl</td>\n",
       "      <td>1197 CC</td>\n",
       "      <td>103.6 bhp</td>\n",
       "      <td>5.0</td>\n",
       "    </tr>\n",
       "    <tr>\n",
       "      <th>1233</th>\n",
       "      <td>2014</td>\n",
       "      <td>72443</td>\n",
       "      <td>Diesel</td>\n",
       "      <td>Automatic</td>\n",
       "      <td>First</td>\n",
       "      <td>10.0 kmpl</td>\n",
       "      <td>2148 CC</td>\n",
       "      <td>170 bhp</td>\n",
       "      <td>5.0</td>\n",
       "    </tr>\n",
       "  </tbody>\n",
       "</table>\n",
       "<p>1215 rows × 9 columns</p>\n",
       "</div>"
      ],
      "text/plain": [
       "      Year  Kilometers_Driven Fuel_Type Transmission Owner_Type     Mileage  \\\n",
       "1     2013              54493    Petrol       Manual     Second   24.7 kmpl   \n",
       "2     2017              34000    Diesel       Manual      First  13.68 kmpl   \n",
       "3     2012             139000    Diesel       Manual      First  23.59 kmpl   \n",
       "4     2014              29000    Petrol       Manual      First   18.5 kmpl   \n",
       "5     2016              85609    Diesel       Manual     Second   16.0 kmpl   \n",
       "...    ...                ...       ...          ...        ...         ...   \n",
       "1229  2011              89411    Diesel       Manual      First  20.54 kmpl   \n",
       "1230  2015              59000    Petrol    Automatic      First  17.21 kmpl   \n",
       "1231  2012              28000    Diesel       Manual      First  23.08 kmpl   \n",
       "1232  2013              52262    Petrol    Automatic      Third   17.2 kmpl   \n",
       "1233  2014              72443    Diesel    Automatic      First   10.0 kmpl   \n",
       "\n",
       "       Engine      Power  Seats  \n",
       "1      796 CC   47.3 bhp    5.0  \n",
       "2     2393 CC  147.8 bhp    7.0  \n",
       "3     1364 CC   null bhp    5.0  \n",
       "4     1197 CC  82.85 bhp    5.0  \n",
       "5     2179 CC    140 bhp    7.0  \n",
       "...       ...        ...    ...  \n",
       "1229  1598 CC  103.6 bhp    5.0  \n",
       "1230  1197 CC  103.6 bhp    5.0  \n",
       "1231  1461 CC   63.1 bhp    5.0  \n",
       "1232  1197 CC  103.6 bhp    5.0  \n",
       "1233  2148 CC    170 bhp    5.0  \n",
       "\n",
       "[1215 rows x 9 columns]"
      ]
     },
     "execution_count": 99,
     "metadata": {},
     "output_type": "execute_result"
    }
   ],
   "source": [
    "\n",
    "df_test=df_test[~df_test['Fuel_Type'].str.contains('CNG')]\n",
    "df_test=df_test[~df_test['Fuel_Type'].str.contains('LPG')]\n",
    "df_test"
   ]
  },
  {
   "cell_type": "code",
   "execution_count": 100,
   "id": "acb53318",
   "metadata": {},
   "outputs": [
    {
     "data": {
      "text/html": [
       "<div>\n",
       "<style scoped>\n",
       "    .dataframe tbody tr th:only-of-type {\n",
       "        vertical-align: middle;\n",
       "    }\n",
       "\n",
       "    .dataframe tbody tr th {\n",
       "        vertical-align: top;\n",
       "    }\n",
       "\n",
       "    .dataframe thead th {\n",
       "        text-align: right;\n",
       "    }\n",
       "</style>\n",
       "<table border=\"1\" class=\"dataframe\">\n",
       "  <thead>\n",
       "    <tr style=\"text-align: right;\">\n",
       "      <th></th>\n",
       "      <th>Year</th>\n",
       "      <th>Kilometers_Driven</th>\n",
       "      <th>Fuel_Type</th>\n",
       "      <th>Transmission</th>\n",
       "      <th>Owner_Type</th>\n",
       "      <th>Seats</th>\n",
       "      <th>km_driven(kmpl)</th>\n",
       "      <th>Engine(CC)</th>\n",
       "      <th>Power(bhp)</th>\n",
       "    </tr>\n",
       "  </thead>\n",
       "  <tbody>\n",
       "    <tr>\n",
       "      <th>1</th>\n",
       "      <td>2013</td>\n",
       "      <td>54493</td>\n",
       "      <td>Petrol</td>\n",
       "      <td>Manual</td>\n",
       "      <td>Second</td>\n",
       "      <td>5.0</td>\n",
       "      <td>24.70</td>\n",
       "      <td>796</td>\n",
       "      <td>47.30</td>\n",
       "    </tr>\n",
       "    <tr>\n",
       "      <th>2</th>\n",
       "      <td>2017</td>\n",
       "      <td>34000</td>\n",
       "      <td>Diesel</td>\n",
       "      <td>Manual</td>\n",
       "      <td>First</td>\n",
       "      <td>7.0</td>\n",
       "      <td>13.68</td>\n",
       "      <td>2393</td>\n",
       "      <td>147.80</td>\n",
       "    </tr>\n",
       "    <tr>\n",
       "      <th>4</th>\n",
       "      <td>2014</td>\n",
       "      <td>29000</td>\n",
       "      <td>Petrol</td>\n",
       "      <td>Manual</td>\n",
       "      <td>First</td>\n",
       "      <td>5.0</td>\n",
       "      <td>18.50</td>\n",
       "      <td>1197</td>\n",
       "      <td>82.85</td>\n",
       "    </tr>\n",
       "    <tr>\n",
       "      <th>5</th>\n",
       "      <td>2016</td>\n",
       "      <td>85609</td>\n",
       "      <td>Diesel</td>\n",
       "      <td>Manual</td>\n",
       "      <td>Second</td>\n",
       "      <td>7.0</td>\n",
       "      <td>16.00</td>\n",
       "      <td>2179</td>\n",
       "      <td>140.00</td>\n",
       "    </tr>\n",
       "    <tr>\n",
       "      <th>6</th>\n",
       "      <td>2015</td>\n",
       "      <td>59000</td>\n",
       "      <td>Diesel</td>\n",
       "      <td>Automatic</td>\n",
       "      <td>First</td>\n",
       "      <td>7.0</td>\n",
       "      <td>12.55</td>\n",
       "      <td>2982</td>\n",
       "      <td>168.70</td>\n",
       "    </tr>\n",
       "    <tr>\n",
       "      <th>...</th>\n",
       "      <td>...</td>\n",
       "      <td>...</td>\n",
       "      <td>...</td>\n",
       "      <td>...</td>\n",
       "      <td>...</td>\n",
       "      <td>...</td>\n",
       "      <td>...</td>\n",
       "      <td>...</td>\n",
       "      <td>...</td>\n",
       "    </tr>\n",
       "    <tr>\n",
       "      <th>1229</th>\n",
       "      <td>2011</td>\n",
       "      <td>89411</td>\n",
       "      <td>Diesel</td>\n",
       "      <td>Manual</td>\n",
       "      <td>First</td>\n",
       "      <td>5.0</td>\n",
       "      <td>20.54</td>\n",
       "      <td>1598</td>\n",
       "      <td>103.60</td>\n",
       "    </tr>\n",
       "    <tr>\n",
       "      <th>1230</th>\n",
       "      <td>2015</td>\n",
       "      <td>59000</td>\n",
       "      <td>Petrol</td>\n",
       "      <td>Automatic</td>\n",
       "      <td>First</td>\n",
       "      <td>5.0</td>\n",
       "      <td>17.21</td>\n",
       "      <td>1197</td>\n",
       "      <td>103.60</td>\n",
       "    </tr>\n",
       "    <tr>\n",
       "      <th>1231</th>\n",
       "      <td>2012</td>\n",
       "      <td>28000</td>\n",
       "      <td>Diesel</td>\n",
       "      <td>Manual</td>\n",
       "      <td>First</td>\n",
       "      <td>5.0</td>\n",
       "      <td>23.08</td>\n",
       "      <td>1461</td>\n",
       "      <td>63.10</td>\n",
       "    </tr>\n",
       "    <tr>\n",
       "      <th>1232</th>\n",
       "      <td>2013</td>\n",
       "      <td>52262</td>\n",
       "      <td>Petrol</td>\n",
       "      <td>Automatic</td>\n",
       "      <td>Third</td>\n",
       "      <td>5.0</td>\n",
       "      <td>17.20</td>\n",
       "      <td>1197</td>\n",
       "      <td>103.60</td>\n",
       "    </tr>\n",
       "    <tr>\n",
       "      <th>1233</th>\n",
       "      <td>2014</td>\n",
       "      <td>72443</td>\n",
       "      <td>Diesel</td>\n",
       "      <td>Automatic</td>\n",
       "      <td>First</td>\n",
       "      <td>5.0</td>\n",
       "      <td>10.00</td>\n",
       "      <td>2148</td>\n",
       "      <td>170.00</td>\n",
       "    </tr>\n",
       "  </tbody>\n",
       "</table>\n",
       "<p>1193 rows × 9 columns</p>\n",
       "</div>"
      ],
      "text/plain": [
       "      Year  Kilometers_Driven Fuel_Type Transmission Owner_Type  Seats  \\\n",
       "1     2013              54493    Petrol       Manual     Second    5.0   \n",
       "2     2017              34000    Diesel       Manual      First    7.0   \n",
       "4     2014              29000    Petrol       Manual      First    5.0   \n",
       "5     2016              85609    Diesel       Manual     Second    7.0   \n",
       "6     2015              59000    Diesel    Automatic      First    7.0   \n",
       "...    ...                ...       ...          ...        ...    ...   \n",
       "1229  2011              89411    Diesel       Manual      First    5.0   \n",
       "1230  2015              59000    Petrol    Automatic      First    5.0   \n",
       "1231  2012              28000    Diesel       Manual      First    5.0   \n",
       "1232  2013              52262    Petrol    Automatic      Third    5.0   \n",
       "1233  2014              72443    Diesel    Automatic      First    5.0   \n",
       "\n",
       "      km_driven(kmpl)  Engine(CC)  Power(bhp)  \n",
       "1               24.70         796       47.30  \n",
       "2               13.68        2393      147.80  \n",
       "4               18.50        1197       82.85  \n",
       "5               16.00        2179      140.00  \n",
       "6               12.55        2982      168.70  \n",
       "...               ...         ...         ...  \n",
       "1229            20.54        1598      103.60  \n",
       "1230            17.21        1197      103.60  \n",
       "1231            23.08        1461       63.10  \n",
       "1232            17.20        1197      103.60  \n",
       "1233            10.00        2148      170.00  \n",
       "\n",
       "[1193 rows x 9 columns]"
      ]
     },
     "execution_count": 100,
     "metadata": {},
     "output_type": "execute_result"
    }
   ],
   "source": [
    "# kilometrage en kmpl ou \"Kilometers par litres\" \n",
    "df_test['km_driven(kmpl)']=df_test['Mileage'].str.replace('kmpl','').astype(float)\n",
    "df_test=df_test.drop('Mileage',axis=1)\n",
    "\n",
    "# Moteur en CC ou \"Cubic Centimeters\" / \"Centimetre Cube\"\n",
    "df_test['Engine(CC)']=df_test['Engine'].str.replace('CC','').astype(int)\n",
    "df_test=df_test.drop('Engine',axis=1)\n",
    "\n",
    "df_test=df_test[~(df_test['Power'].str.split(' ').str[0]=='null')]\n",
    "# Puissance en bhp ou \"brake horsepower\" \"Cheval-vapeur\"(CV)\n",
    "df_test['Power(bhp)']=df_test['Power'].str.split(' ').str[0].astype(float);\n",
    "df_test=df_test.drop('Power',axis=1);\n",
    "\n",
    "df_test"
   ]
  },
  {
   "cell_type": "code",
   "execution_count": 101,
   "id": "05d80a1d",
   "metadata": {},
   "outputs": [
    {
     "ename": "SyntaxError",
     "evalue": "invalid syntax (2074467784.py, line 1)",
     "output_type": "error",
     "traceback": [
      "\u001b[1;36m  Input \u001b[1;32mIn [101]\u001b[1;36m\u001b[0m\n\u001b[1;33m    Year\tKilometers_Driven\tSeats\tPower(bhp)\tEngine(CC)\tkm_driven(kmpl)\tFuel_Type_Petrol\tTransmission_Manual\tOwner_Type_Fourth & Above\tOwner_Type_Second\tOwner_Type_Third\u001b[0m\n\u001b[1;37m        \t^\u001b[0m\n\u001b[1;31mSyntaxError\u001b[0m\u001b[1;31m:\u001b[0m invalid syntax\n"
     ]
    }
   ],
   "source": [
    "Year\tKilometers_Driven\tSeats\tPower(bhp)\tEngine(CC)\tkm_driven(kmpl)\tFuel_Type_Petrol\tTransmission_Manual\tOwner_Type_Fourth & Above\tOwner_Type_Second\tOwner_Type_Third"
   ]
  },
  {
   "cell_type": "code",
   "execution_count": 102,
   "id": "a19df1b1",
   "metadata": {},
   "outputs": [],
   "source": [
    "seats = df_test.pop('Seats')\n",
    "power=df_test.pop('Power(bhp)')\n",
    "engine=df_test.pop('Engine(CC)')\n",
    "km=df_test.pop('km_driven(kmpl)')\n",
    "fl=df_test.pop('Fuel_Type')\n",
    "tr=df_test.pop('Transmission')\n",
    "ot=df_test.pop('Owner_Type')\n",
    "df_test['Seats']=seats\n",
    "df_test['Power(bhp)']=power\n",
    "df_test['Engine(CC)']=engine\n",
    "df_test['km_driven(kmpl)']=km\n",
    "df_test['Fuel_Type']=fl\n",
    "df_test['Transmission']=tr\n",
    "df_test['Owner_Type']=ot\n",
    "#df_test['Marque']=data_clean['Name'].str.split(' ').str[0]\n",
    "#df_test['Marque']=df_test['Marque'].str.lower()\n",
    "#data_clean"
   ]
  },
  {
   "cell_type": "code",
   "execution_count": 103,
   "id": "74e688ea",
   "metadata": {
    "scrolled": true
   },
   "outputs": [
    {
     "data": {
      "text/html": [
       "<div>\n",
       "<style scoped>\n",
       "    .dataframe tbody tr th:only-of-type {\n",
       "        vertical-align: middle;\n",
       "    }\n",
       "\n",
       "    .dataframe tbody tr th {\n",
       "        vertical-align: top;\n",
       "    }\n",
       "\n",
       "    .dataframe thead th {\n",
       "        text-align: right;\n",
       "    }\n",
       "</style>\n",
       "<table border=\"1\" class=\"dataframe\">\n",
       "  <thead>\n",
       "    <tr style=\"text-align: right;\">\n",
       "      <th></th>\n",
       "      <th>Year</th>\n",
       "      <th>Kilometers_Driven</th>\n",
       "      <th>Seats</th>\n",
       "      <th>Power(bhp)</th>\n",
       "      <th>Engine(CC)</th>\n",
       "      <th>km_driven(kmpl)</th>\n",
       "      <th>Fuel_Type</th>\n",
       "      <th>Transmission</th>\n",
       "      <th>Owner_Type</th>\n",
       "    </tr>\n",
       "  </thead>\n",
       "  <tbody>\n",
       "    <tr>\n",
       "      <th>1</th>\n",
       "      <td>2013</td>\n",
       "      <td>54493</td>\n",
       "      <td>5.0</td>\n",
       "      <td>47.30</td>\n",
       "      <td>796</td>\n",
       "      <td>24.70</td>\n",
       "      <td>Petrol</td>\n",
       "      <td>Manual</td>\n",
       "      <td>Second</td>\n",
       "    </tr>\n",
       "    <tr>\n",
       "      <th>2</th>\n",
       "      <td>2017</td>\n",
       "      <td>34000</td>\n",
       "      <td>7.0</td>\n",
       "      <td>147.80</td>\n",
       "      <td>2393</td>\n",
       "      <td>13.68</td>\n",
       "      <td>Diesel</td>\n",
       "      <td>Manual</td>\n",
       "      <td>First</td>\n",
       "    </tr>\n",
       "    <tr>\n",
       "      <th>4</th>\n",
       "      <td>2014</td>\n",
       "      <td>29000</td>\n",
       "      <td>5.0</td>\n",
       "      <td>82.85</td>\n",
       "      <td>1197</td>\n",
       "      <td>18.50</td>\n",
       "      <td>Petrol</td>\n",
       "      <td>Manual</td>\n",
       "      <td>First</td>\n",
       "    </tr>\n",
       "    <tr>\n",
       "      <th>5</th>\n",
       "      <td>2016</td>\n",
       "      <td>85609</td>\n",
       "      <td>7.0</td>\n",
       "      <td>140.00</td>\n",
       "      <td>2179</td>\n",
       "      <td>16.00</td>\n",
       "      <td>Diesel</td>\n",
       "      <td>Manual</td>\n",
       "      <td>Second</td>\n",
       "    </tr>\n",
       "    <tr>\n",
       "      <th>6</th>\n",
       "      <td>2015</td>\n",
       "      <td>59000</td>\n",
       "      <td>7.0</td>\n",
       "      <td>168.70</td>\n",
       "      <td>2982</td>\n",
       "      <td>12.55</td>\n",
       "      <td>Diesel</td>\n",
       "      <td>Automatic</td>\n",
       "      <td>First</td>\n",
       "    </tr>\n",
       "    <tr>\n",
       "      <th>...</th>\n",
       "      <td>...</td>\n",
       "      <td>...</td>\n",
       "      <td>...</td>\n",
       "      <td>...</td>\n",
       "      <td>...</td>\n",
       "      <td>...</td>\n",
       "      <td>...</td>\n",
       "      <td>...</td>\n",
       "      <td>...</td>\n",
       "    </tr>\n",
       "    <tr>\n",
       "      <th>1229</th>\n",
       "      <td>2011</td>\n",
       "      <td>89411</td>\n",
       "      <td>5.0</td>\n",
       "      <td>103.60</td>\n",
       "      <td>1598</td>\n",
       "      <td>20.54</td>\n",
       "      <td>Diesel</td>\n",
       "      <td>Manual</td>\n",
       "      <td>First</td>\n",
       "    </tr>\n",
       "    <tr>\n",
       "      <th>1230</th>\n",
       "      <td>2015</td>\n",
       "      <td>59000</td>\n",
       "      <td>5.0</td>\n",
       "      <td>103.60</td>\n",
       "      <td>1197</td>\n",
       "      <td>17.21</td>\n",
       "      <td>Petrol</td>\n",
       "      <td>Automatic</td>\n",
       "      <td>First</td>\n",
       "    </tr>\n",
       "    <tr>\n",
       "      <th>1231</th>\n",
       "      <td>2012</td>\n",
       "      <td>28000</td>\n",
       "      <td>5.0</td>\n",
       "      <td>63.10</td>\n",
       "      <td>1461</td>\n",
       "      <td>23.08</td>\n",
       "      <td>Diesel</td>\n",
       "      <td>Manual</td>\n",
       "      <td>First</td>\n",
       "    </tr>\n",
       "    <tr>\n",
       "      <th>1232</th>\n",
       "      <td>2013</td>\n",
       "      <td>52262</td>\n",
       "      <td>5.0</td>\n",
       "      <td>103.60</td>\n",
       "      <td>1197</td>\n",
       "      <td>17.20</td>\n",
       "      <td>Petrol</td>\n",
       "      <td>Automatic</td>\n",
       "      <td>Third</td>\n",
       "    </tr>\n",
       "    <tr>\n",
       "      <th>1233</th>\n",
       "      <td>2014</td>\n",
       "      <td>72443</td>\n",
       "      <td>5.0</td>\n",
       "      <td>170.00</td>\n",
       "      <td>2148</td>\n",
       "      <td>10.00</td>\n",
       "      <td>Diesel</td>\n",
       "      <td>Automatic</td>\n",
       "      <td>First</td>\n",
       "    </tr>\n",
       "  </tbody>\n",
       "</table>\n",
       "<p>1193 rows × 9 columns</p>\n",
       "</div>"
      ],
      "text/plain": [
       "      Year  Kilometers_Driven  Seats  Power(bhp)  Engine(CC)  km_driven(kmpl)  \\\n",
       "1     2013              54493    5.0       47.30         796            24.70   \n",
       "2     2017              34000    7.0      147.80        2393            13.68   \n",
       "4     2014              29000    5.0       82.85        1197            18.50   \n",
       "5     2016              85609    7.0      140.00        2179            16.00   \n",
       "6     2015              59000    7.0      168.70        2982            12.55   \n",
       "...    ...                ...    ...         ...         ...              ...   \n",
       "1229  2011              89411    5.0      103.60        1598            20.54   \n",
       "1230  2015              59000    5.0      103.60        1197            17.21   \n",
       "1231  2012              28000    5.0       63.10        1461            23.08   \n",
       "1232  2013              52262    5.0      103.60        1197            17.20   \n",
       "1233  2014              72443    5.0      170.00        2148            10.00   \n",
       "\n",
       "     Fuel_Type Transmission Owner_Type  \n",
       "1       Petrol       Manual     Second  \n",
       "2       Diesel       Manual      First  \n",
       "4       Petrol       Manual      First  \n",
       "5       Diesel       Manual     Second  \n",
       "6       Diesel    Automatic      First  \n",
       "...        ...          ...        ...  \n",
       "1229    Diesel       Manual      First  \n",
       "1230    Petrol    Automatic      First  \n",
       "1231    Diesel       Manual      First  \n",
       "1232    Petrol    Automatic      Third  \n",
       "1233    Diesel    Automatic      First  \n",
       "\n",
       "[1193 rows x 9 columns]"
      ]
     },
     "execution_count": 103,
     "metadata": {},
     "output_type": "execute_result"
    }
   ],
   "source": [
    "df_test"
   ]
  },
  {
   "cell_type": "code",
   "execution_count": 104,
   "id": "e08cedba",
   "metadata": {},
   "outputs": [],
   "source": [
    "df_test=pd.get_dummies(df_test,drop_first=True)"
   ]
  },
  {
   "cell_type": "code",
   "execution_count": 105,
   "id": "883ef4da",
   "metadata": {},
   "outputs": [
    {
     "data": {
      "text/html": [
       "<div>\n",
       "<style scoped>\n",
       "    .dataframe tbody tr th:only-of-type {\n",
       "        vertical-align: middle;\n",
       "    }\n",
       "\n",
       "    .dataframe tbody tr th {\n",
       "        vertical-align: top;\n",
       "    }\n",
       "\n",
       "    .dataframe thead th {\n",
       "        text-align: right;\n",
       "    }\n",
       "</style>\n",
       "<table border=\"1\" class=\"dataframe\">\n",
       "  <thead>\n",
       "    <tr style=\"text-align: right;\">\n",
       "      <th></th>\n",
       "      <th>Year</th>\n",
       "      <th>Kilometers_Driven</th>\n",
       "      <th>Seats</th>\n",
       "      <th>Power(bhp)</th>\n",
       "      <th>Engine(CC)</th>\n",
       "      <th>km_driven(kmpl)</th>\n",
       "      <th>Fuel_Type_Petrol</th>\n",
       "      <th>Transmission_Manual</th>\n",
       "      <th>Owner_Type_Fourth &amp; Above</th>\n",
       "      <th>Owner_Type_Second</th>\n",
       "      <th>Owner_Type_Third</th>\n",
       "    </tr>\n",
       "  </thead>\n",
       "  <tbody>\n",
       "    <tr>\n",
       "      <th>1</th>\n",
       "      <td>2013</td>\n",
       "      <td>54493</td>\n",
       "      <td>5.0</td>\n",
       "      <td>47.30</td>\n",
       "      <td>796</td>\n",
       "      <td>24.70</td>\n",
       "      <td>1</td>\n",
       "      <td>1</td>\n",
       "      <td>0</td>\n",
       "      <td>1</td>\n",
       "      <td>0</td>\n",
       "    </tr>\n",
       "    <tr>\n",
       "      <th>2</th>\n",
       "      <td>2017</td>\n",
       "      <td>34000</td>\n",
       "      <td>7.0</td>\n",
       "      <td>147.80</td>\n",
       "      <td>2393</td>\n",
       "      <td>13.68</td>\n",
       "      <td>0</td>\n",
       "      <td>1</td>\n",
       "      <td>0</td>\n",
       "      <td>0</td>\n",
       "      <td>0</td>\n",
       "    </tr>\n",
       "    <tr>\n",
       "      <th>4</th>\n",
       "      <td>2014</td>\n",
       "      <td>29000</td>\n",
       "      <td>5.0</td>\n",
       "      <td>82.85</td>\n",
       "      <td>1197</td>\n",
       "      <td>18.50</td>\n",
       "      <td>1</td>\n",
       "      <td>1</td>\n",
       "      <td>0</td>\n",
       "      <td>0</td>\n",
       "      <td>0</td>\n",
       "    </tr>\n",
       "    <tr>\n",
       "      <th>5</th>\n",
       "      <td>2016</td>\n",
       "      <td>85609</td>\n",
       "      <td>7.0</td>\n",
       "      <td>140.00</td>\n",
       "      <td>2179</td>\n",
       "      <td>16.00</td>\n",
       "      <td>0</td>\n",
       "      <td>1</td>\n",
       "      <td>0</td>\n",
       "      <td>1</td>\n",
       "      <td>0</td>\n",
       "    </tr>\n",
       "    <tr>\n",
       "      <th>6</th>\n",
       "      <td>2015</td>\n",
       "      <td>59000</td>\n",
       "      <td>7.0</td>\n",
       "      <td>168.70</td>\n",
       "      <td>2982</td>\n",
       "      <td>12.55</td>\n",
       "      <td>0</td>\n",
       "      <td>0</td>\n",
       "      <td>0</td>\n",
       "      <td>0</td>\n",
       "      <td>0</td>\n",
       "    </tr>\n",
       "    <tr>\n",
       "      <th>...</th>\n",
       "      <td>...</td>\n",
       "      <td>...</td>\n",
       "      <td>...</td>\n",
       "      <td>...</td>\n",
       "      <td>...</td>\n",
       "      <td>...</td>\n",
       "      <td>...</td>\n",
       "      <td>...</td>\n",
       "      <td>...</td>\n",
       "      <td>...</td>\n",
       "      <td>...</td>\n",
       "    </tr>\n",
       "    <tr>\n",
       "      <th>1229</th>\n",
       "      <td>2011</td>\n",
       "      <td>89411</td>\n",
       "      <td>5.0</td>\n",
       "      <td>103.60</td>\n",
       "      <td>1598</td>\n",
       "      <td>20.54</td>\n",
       "      <td>0</td>\n",
       "      <td>1</td>\n",
       "      <td>0</td>\n",
       "      <td>0</td>\n",
       "      <td>0</td>\n",
       "    </tr>\n",
       "    <tr>\n",
       "      <th>1230</th>\n",
       "      <td>2015</td>\n",
       "      <td>59000</td>\n",
       "      <td>5.0</td>\n",
       "      <td>103.60</td>\n",
       "      <td>1197</td>\n",
       "      <td>17.21</td>\n",
       "      <td>1</td>\n",
       "      <td>0</td>\n",
       "      <td>0</td>\n",
       "      <td>0</td>\n",
       "      <td>0</td>\n",
       "    </tr>\n",
       "    <tr>\n",
       "      <th>1231</th>\n",
       "      <td>2012</td>\n",
       "      <td>28000</td>\n",
       "      <td>5.0</td>\n",
       "      <td>63.10</td>\n",
       "      <td>1461</td>\n",
       "      <td>23.08</td>\n",
       "      <td>0</td>\n",
       "      <td>1</td>\n",
       "      <td>0</td>\n",
       "      <td>0</td>\n",
       "      <td>0</td>\n",
       "    </tr>\n",
       "    <tr>\n",
       "      <th>1232</th>\n",
       "      <td>2013</td>\n",
       "      <td>52262</td>\n",
       "      <td>5.0</td>\n",
       "      <td>103.60</td>\n",
       "      <td>1197</td>\n",
       "      <td>17.20</td>\n",
       "      <td>1</td>\n",
       "      <td>0</td>\n",
       "      <td>0</td>\n",
       "      <td>0</td>\n",
       "      <td>1</td>\n",
       "    </tr>\n",
       "    <tr>\n",
       "      <th>1233</th>\n",
       "      <td>2014</td>\n",
       "      <td>72443</td>\n",
       "      <td>5.0</td>\n",
       "      <td>170.00</td>\n",
       "      <td>2148</td>\n",
       "      <td>10.00</td>\n",
       "      <td>0</td>\n",
       "      <td>0</td>\n",
       "      <td>0</td>\n",
       "      <td>0</td>\n",
       "      <td>0</td>\n",
       "    </tr>\n",
       "  </tbody>\n",
       "</table>\n",
       "<p>1193 rows × 11 columns</p>\n",
       "</div>"
      ],
      "text/plain": [
       "      Year  Kilometers_Driven  Seats  Power(bhp)  Engine(CC)  km_driven(kmpl)  \\\n",
       "1     2013              54493    5.0       47.30         796            24.70   \n",
       "2     2017              34000    7.0      147.80        2393            13.68   \n",
       "4     2014              29000    5.0       82.85        1197            18.50   \n",
       "5     2016              85609    7.0      140.00        2179            16.00   \n",
       "6     2015              59000    7.0      168.70        2982            12.55   \n",
       "...    ...                ...    ...         ...         ...              ...   \n",
       "1229  2011              89411    5.0      103.60        1598            20.54   \n",
       "1230  2015              59000    5.0      103.60        1197            17.21   \n",
       "1231  2012              28000    5.0       63.10        1461            23.08   \n",
       "1232  2013              52262    5.0      103.60        1197            17.20   \n",
       "1233  2014              72443    5.0      170.00        2148            10.00   \n",
       "\n",
       "      Fuel_Type_Petrol  Transmission_Manual  Owner_Type_Fourth & Above  \\\n",
       "1                    1                    1                          0   \n",
       "2                    0                    1                          0   \n",
       "4                    1                    1                          0   \n",
       "5                    0                    1                          0   \n",
       "6                    0                    0                          0   \n",
       "...                ...                  ...                        ...   \n",
       "1229                 0                    1                          0   \n",
       "1230                 1                    0                          0   \n",
       "1231                 0                    1                          0   \n",
       "1232                 1                    0                          0   \n",
       "1233                 0                    0                          0   \n",
       "\n",
       "      Owner_Type_Second  Owner_Type_Third  \n",
       "1                     1                 0  \n",
       "2                     0                 0  \n",
       "4                     0                 0  \n",
       "5                     1                 0  \n",
       "6                     0                 0  \n",
       "...                 ...               ...  \n",
       "1229                  0                 0  \n",
       "1230                  0                 0  \n",
       "1231                  0                 0  \n",
       "1232                  0                 1  \n",
       "1233                  0                 0  \n",
       "\n",
       "[1193 rows x 11 columns]"
      ]
     },
     "execution_count": 105,
     "metadata": {},
     "output_type": "execute_result"
    }
   ],
   "source": [
    "df_test"
   ]
  },
  {
   "cell_type": "code",
   "execution_count": 106,
   "id": "e424d090",
   "metadata": {},
   "outputs": [
    {
     "name": "stderr",
     "output_type": "stream",
     "text": [
      "C:\\Users\\HAJARISON\\anaconda3\\lib\\site-packages\\sklearn\\base.py:450: UserWarning: X does not have valid feature names, but RandomForestRegressor was fitted with feature names\n",
      "  warnings.warn(\n"
     ]
    },
    {
     "data": {
      "text/plain": [
       "array([4.97593985, 3.29345865, 3.58992481, 1.70481203, 3.97541353,\n",
       "       6.43729323, 2.25714286, 3.06398496, 4.12172932, 6.28834586])"
      ]
     },
     "execution_count": 106,
     "metadata": {},
     "output_type": "execute_result"
    }
   ],
   "source": [
    "\n",
    "test= rf_model.predict(np.array(df_test.iloc[500:510]))\n",
    "test"
   ]
  },
  {
   "cell_type": "code",
   "execution_count": 107,
   "id": "dd746b28",
   "metadata": {},
   "outputs": [
    {
     "data": {
      "text/plain": [
       "array([5.5002773 , 4.64217315, 4.28009995, 1.48281724, 5.08214219,\n",
       "       7.19194721, 3.73367019, 3.59406402, 4.93219407, 6.39582094])"
      ]
     },
     "execution_count": 107,
     "metadata": {},
     "output_type": "execute_result"
    }
   ],
   "source": [
    "test= lasso_model.predict(df_test.iloc[500:510])\n",
    "test"
   ]
  },
  {
   "cell_type": "code",
   "execution_count": 108,
   "id": "edac865c",
   "metadata": {},
   "outputs": [
    {
     "data": {
      "text/plain": [
       "array([ 5.9975,  5.7875,  3.12  ,  2.985 ,  4.4   ,  5.9025,  6.4025,\n",
       "        2.95  , 10.125 ,  6.56  ])"
      ]
     },
     "execution_count": 108,
     "metadata": {},
     "output_type": "execute_result"
    }
   ],
   "source": [
    "test= knn_modele.predict(df_test.iloc[500:510])\n",
    "test"
   ]
  },
  {
   "cell_type": "code",
   "execution_count": 109,
   "id": "f4e06f42",
   "metadata": {},
   "outputs": [
    {
     "data": {
      "text/plain": [
       "array([4.96613342, 5.171074  , 3.78195542, 1.54657313, 4.50027381,\n",
       "       7.25493304, 4.58389085, 3.39033479, 5.68471492, 5.83085313])"
      ]
     },
     "execution_count": 109,
     "metadata": {},
     "output_type": "execute_result"
    }
   ],
   "source": [
    "test= linear_model.predict(df_test.iloc[500:510])\n",
    "test"
   ]
  },
  {
   "cell_type": "code",
   "execution_count": 110,
   "id": "e3f1e604",
   "metadata": {},
   "outputs": [
    {
     "data": {
      "text/plain": [
       "array([2.0130e+03, 5.4493e+04, 5.0000e+00, 4.7300e+01, 7.9600e+02,\n",
       "       2.4700e+01, 1.0000e+00, 1.0000e+00, 0.0000e+00, 1.0000e+00,\n",
       "       0.0000e+00])"
      ]
     },
     "execution_count": 110,
     "metadata": {},
     "output_type": "execute_result"
    }
   ],
   "source": [
    "np.array(df_test.iloc[0])"
   ]
  },
  {
   "cell_type": "code",
   "execution_count": null,
   "id": "5e7519f0",
   "metadata": {},
   "outputs": [],
   "source": []
  },
  {
   "cell_type": "markdown",
   "id": "50cdf17b",
   "metadata": {},
   "source": [
    "# MODELE AVEC LES OUTLIERS REMPLACE PAR LA MEDIANE"
   ]
  },
  {
   "cell_type": "code",
   "execution_count": 60,
   "id": "e381dee7",
   "metadata": {},
   "outputs": [],
   "source": [
    "X = data_clean.drop('Price',axis=1)\n",
    "X = X.drop('new_price',axis=1)\n",
    "X = X.drop('Name',axis=1)\n",
    "X=X.drop('Marque',axis=1)\n",
    "X= X.drop('Location',axis=1)\n",
    "y = data_clean['new_price']"
   ]
  },
  {
   "cell_type": "code",
   "execution_count": 61,
   "id": "83402978",
   "metadata": {},
   "outputs": [
    {
     "data": {
      "text/html": [
       "<div>\n",
       "<style scoped>\n",
       "    .dataframe tbody tr th:only-of-type {\n",
       "        vertical-align: middle;\n",
       "    }\n",
       "\n",
       "    .dataframe tbody tr th {\n",
       "        vertical-align: top;\n",
       "    }\n",
       "\n",
       "    .dataframe thead th {\n",
       "        text-align: right;\n",
       "    }\n",
       "</style>\n",
       "<table border=\"1\" class=\"dataframe\">\n",
       "  <thead>\n",
       "    <tr style=\"text-align: right;\">\n",
       "      <th></th>\n",
       "      <th>Name</th>\n",
       "      <th>Location</th>\n",
       "      <th>Year</th>\n",
       "      <th>Kilometers_Driven</th>\n",
       "      <th>Fuel_Type</th>\n",
       "      <th>Transmission</th>\n",
       "      <th>Owner_Type</th>\n",
       "      <th>Seats</th>\n",
       "      <th>Power(bhp)</th>\n",
       "      <th>Engine(CC)</th>\n",
       "      <th>km_driven(kmpl)</th>\n",
       "      <th>Marque</th>\n",
       "      <th>Price</th>\n",
       "      <th>new_price</th>\n",
       "    </tr>\n",
       "  </thead>\n",
       "  <tbody>\n",
       "    <tr>\n",
       "      <th>1</th>\n",
       "      <td>Hyundai Creta 1.6 CRDi SX Option</td>\n",
       "      <td>Pune</td>\n",
       "      <td>2015</td>\n",
       "      <td>41000</td>\n",
       "      <td>Diesel</td>\n",
       "      <td>Manual</td>\n",
       "      <td>First</td>\n",
       "      <td>5.0</td>\n",
       "      <td>126.20</td>\n",
       "      <td>1582</td>\n",
       "      <td>19.67</td>\n",
       "      <td>hyundai</td>\n",
       "      <td>12.50</td>\n",
       "      <td>12.50</td>\n",
       "    </tr>\n",
       "    <tr>\n",
       "      <th>2</th>\n",
       "      <td>Honda Jazz V</td>\n",
       "      <td>Chennai</td>\n",
       "      <td>2011</td>\n",
       "      <td>46000</td>\n",
       "      <td>Petrol</td>\n",
       "      <td>Manual</td>\n",
       "      <td>First</td>\n",
       "      <td>5.0</td>\n",
       "      <td>88.70</td>\n",
       "      <td>1199</td>\n",
       "      <td>18.20</td>\n",
       "      <td>honda</td>\n",
       "      <td>4.50</td>\n",
       "      <td>4.50</td>\n",
       "    </tr>\n",
       "    <tr>\n",
       "      <th>3</th>\n",
       "      <td>Maruti Ertiga VDI</td>\n",
       "      <td>Chennai</td>\n",
       "      <td>2012</td>\n",
       "      <td>87000</td>\n",
       "      <td>Diesel</td>\n",
       "      <td>Manual</td>\n",
       "      <td>First</td>\n",
       "      <td>7.0</td>\n",
       "      <td>88.76</td>\n",
       "      <td>1248</td>\n",
       "      <td>20.77</td>\n",
       "      <td>maruti</td>\n",
       "      <td>6.00</td>\n",
       "      <td>6.00</td>\n",
       "    </tr>\n",
       "    <tr>\n",
       "      <th>4</th>\n",
       "      <td>Audi A4 New 2.0 TDI Multitronic</td>\n",
       "      <td>Coimbatore</td>\n",
       "      <td>2013</td>\n",
       "      <td>40670</td>\n",
       "      <td>Diesel</td>\n",
       "      <td>Automatic</td>\n",
       "      <td>Second</td>\n",
       "      <td>5.0</td>\n",
       "      <td>140.80</td>\n",
       "      <td>1968</td>\n",
       "      <td>15.20</td>\n",
       "      <td>audi</td>\n",
       "      <td>17.74</td>\n",
       "      <td>17.74</td>\n",
       "    </tr>\n",
       "    <tr>\n",
       "      <th>6</th>\n",
       "      <td>Nissan Micra Diesel XV</td>\n",
       "      <td>Jaipur</td>\n",
       "      <td>2013</td>\n",
       "      <td>86999</td>\n",
       "      <td>Diesel</td>\n",
       "      <td>Manual</td>\n",
       "      <td>First</td>\n",
       "      <td>5.0</td>\n",
       "      <td>63.10</td>\n",
       "      <td>1461</td>\n",
       "      <td>23.08</td>\n",
       "      <td>nissan</td>\n",
       "      <td>3.50</td>\n",
       "      <td>3.50</td>\n",
       "    </tr>\n",
       "  </tbody>\n",
       "</table>\n",
       "</div>"
      ],
      "text/plain": [
       "                               Name    Location  Year  Kilometers_Driven  \\\n",
       "1  Hyundai Creta 1.6 CRDi SX Option        Pune  2015              41000   \n",
       "2                      Honda Jazz V     Chennai  2011              46000   \n",
       "3                 Maruti Ertiga VDI     Chennai  2012              87000   \n",
       "4   Audi A4 New 2.0 TDI Multitronic  Coimbatore  2013              40670   \n",
       "6            Nissan Micra Diesel XV      Jaipur  2013              86999   \n",
       "\n",
       "  Fuel_Type Transmission Owner_Type  Seats  Power(bhp)  Engine(CC)  \\\n",
       "1    Diesel       Manual      First    5.0      126.20        1582   \n",
       "2    Petrol       Manual      First    5.0       88.70        1199   \n",
       "3    Diesel       Manual      First    7.0       88.76        1248   \n",
       "4    Diesel    Automatic     Second    5.0      140.80        1968   \n",
       "6    Diesel       Manual      First    5.0       63.10        1461   \n",
       "\n",
       "   km_driven(kmpl)   Marque  Price  new_price  \n",
       "1            19.67  hyundai  12.50      12.50  \n",
       "2            18.20    honda   4.50       4.50  \n",
       "3            20.77   maruti   6.00       6.00  \n",
       "4            15.20     audi  17.74      17.74  \n",
       "6            23.08   nissan   3.50       3.50  "
      ]
     },
     "execution_count": 61,
     "metadata": {},
     "output_type": "execute_result"
    }
   ],
   "source": [
    "data_clean.head()"
   ]
  },
  {
   "cell_type": "code",
   "execution_count": 62,
   "id": "cf6ee8bb",
   "metadata": {},
   "outputs": [
    {
     "data": {
      "text/html": [
       "<div>\n",
       "<style scoped>\n",
       "    .dataframe tbody tr th:only-of-type {\n",
       "        vertical-align: middle;\n",
       "    }\n",
       "\n",
       "    .dataframe tbody tr th {\n",
       "        vertical-align: top;\n",
       "    }\n",
       "\n",
       "    .dataframe thead th {\n",
       "        text-align: right;\n",
       "    }\n",
       "</style>\n",
       "<table border=\"1\" class=\"dataframe\">\n",
       "  <thead>\n",
       "    <tr style=\"text-align: right;\">\n",
       "      <th></th>\n",
       "      <th>Year</th>\n",
       "      <th>Kilometers_Driven</th>\n",
       "      <th>Seats</th>\n",
       "      <th>Power(bhp)</th>\n",
       "      <th>Engine(CC)</th>\n",
       "      <th>km_driven(kmpl)</th>\n",
       "      <th>Fuel_Type_Petrol</th>\n",
       "      <th>Transmission_Manual</th>\n",
       "      <th>Owner_Type_Fourth &amp; Above</th>\n",
       "      <th>Owner_Type_Second</th>\n",
       "      <th>Owner_Type_Third</th>\n",
       "    </tr>\n",
       "  </thead>\n",
       "  <tbody>\n",
       "    <tr>\n",
       "      <th>1</th>\n",
       "      <td>2015</td>\n",
       "      <td>41000</td>\n",
       "      <td>5.0</td>\n",
       "      <td>126.20</td>\n",
       "      <td>1582</td>\n",
       "      <td>19.67</td>\n",
       "      <td>0</td>\n",
       "      <td>1</td>\n",
       "      <td>0</td>\n",
       "      <td>0</td>\n",
       "      <td>0</td>\n",
       "    </tr>\n",
       "    <tr>\n",
       "      <th>2</th>\n",
       "      <td>2011</td>\n",
       "      <td>46000</td>\n",
       "      <td>5.0</td>\n",
       "      <td>88.70</td>\n",
       "      <td>1199</td>\n",
       "      <td>18.20</td>\n",
       "      <td>1</td>\n",
       "      <td>1</td>\n",
       "      <td>0</td>\n",
       "      <td>0</td>\n",
       "      <td>0</td>\n",
       "    </tr>\n",
       "    <tr>\n",
       "      <th>3</th>\n",
       "      <td>2012</td>\n",
       "      <td>87000</td>\n",
       "      <td>7.0</td>\n",
       "      <td>88.76</td>\n",
       "      <td>1248</td>\n",
       "      <td>20.77</td>\n",
       "      <td>0</td>\n",
       "      <td>1</td>\n",
       "      <td>0</td>\n",
       "      <td>0</td>\n",
       "      <td>0</td>\n",
       "    </tr>\n",
       "    <tr>\n",
       "      <th>4</th>\n",
       "      <td>2013</td>\n",
       "      <td>40670</td>\n",
       "      <td>5.0</td>\n",
       "      <td>140.80</td>\n",
       "      <td>1968</td>\n",
       "      <td>15.20</td>\n",
       "      <td>0</td>\n",
       "      <td>0</td>\n",
       "      <td>0</td>\n",
       "      <td>1</td>\n",
       "      <td>0</td>\n",
       "    </tr>\n",
       "    <tr>\n",
       "      <th>6</th>\n",
       "      <td>2013</td>\n",
       "      <td>86999</td>\n",
       "      <td>5.0</td>\n",
       "      <td>63.10</td>\n",
       "      <td>1461</td>\n",
       "      <td>23.08</td>\n",
       "      <td>0</td>\n",
       "      <td>1</td>\n",
       "      <td>0</td>\n",
       "      <td>0</td>\n",
       "      <td>0</td>\n",
       "    </tr>\n",
       "    <tr>\n",
       "      <th>...</th>\n",
       "      <td>...</td>\n",
       "      <td>...</td>\n",
       "      <td>...</td>\n",
       "      <td>...</td>\n",
       "      <td>...</td>\n",
       "      <td>...</td>\n",
       "      <td>...</td>\n",
       "      <td>...</td>\n",
       "      <td>...</td>\n",
       "      <td>...</td>\n",
       "      <td>...</td>\n",
       "    </tr>\n",
       "    <tr>\n",
       "      <th>6014</th>\n",
       "      <td>2014</td>\n",
       "      <td>27365</td>\n",
       "      <td>5.0</td>\n",
       "      <td>74.00</td>\n",
       "      <td>1248</td>\n",
       "      <td>28.40</td>\n",
       "      <td>0</td>\n",
       "      <td>1</td>\n",
       "      <td>0</td>\n",
       "      <td>0</td>\n",
       "      <td>0</td>\n",
       "    </tr>\n",
       "    <tr>\n",
       "      <th>6015</th>\n",
       "      <td>2015</td>\n",
       "      <td>100000</td>\n",
       "      <td>5.0</td>\n",
       "      <td>71.00</td>\n",
       "      <td>1120</td>\n",
       "      <td>24.40</td>\n",
       "      <td>0</td>\n",
       "      <td>1</td>\n",
       "      <td>0</td>\n",
       "      <td>0</td>\n",
       "      <td>0</td>\n",
       "    </tr>\n",
       "    <tr>\n",
       "      <th>6016</th>\n",
       "      <td>2012</td>\n",
       "      <td>55000</td>\n",
       "      <td>8.0</td>\n",
       "      <td>112.00</td>\n",
       "      <td>2498</td>\n",
       "      <td>14.00</td>\n",
       "      <td>0</td>\n",
       "      <td>1</td>\n",
       "      <td>0</td>\n",
       "      <td>1</td>\n",
       "      <td>0</td>\n",
       "    </tr>\n",
       "    <tr>\n",
       "      <th>6017</th>\n",
       "      <td>2013</td>\n",
       "      <td>46000</td>\n",
       "      <td>5.0</td>\n",
       "      <td>67.10</td>\n",
       "      <td>998</td>\n",
       "      <td>18.90</td>\n",
       "      <td>1</td>\n",
       "      <td>1</td>\n",
       "      <td>0</td>\n",
       "      <td>0</td>\n",
       "      <td>0</td>\n",
       "    </tr>\n",
       "    <tr>\n",
       "      <th>6018</th>\n",
       "      <td>2011</td>\n",
       "      <td>47000</td>\n",
       "      <td>5.0</td>\n",
       "      <td>57.60</td>\n",
       "      <td>936</td>\n",
       "      <td>25.44</td>\n",
       "      <td>0</td>\n",
       "      <td>1</td>\n",
       "      <td>0</td>\n",
       "      <td>0</td>\n",
       "      <td>0</td>\n",
       "    </tr>\n",
       "  </tbody>\n",
       "</table>\n",
       "<p>5807 rows × 11 columns</p>\n",
       "</div>"
      ],
      "text/plain": [
       "      Year  Kilometers_Driven  Seats  Power(bhp)  Engine(CC)  km_driven(kmpl)  \\\n",
       "1     2015              41000    5.0      126.20        1582            19.67   \n",
       "2     2011              46000    5.0       88.70        1199            18.20   \n",
       "3     2012              87000    7.0       88.76        1248            20.77   \n",
       "4     2013              40670    5.0      140.80        1968            15.20   \n",
       "6     2013              86999    5.0       63.10        1461            23.08   \n",
       "...    ...                ...    ...         ...         ...              ...   \n",
       "6014  2014              27365    5.0       74.00        1248            28.40   \n",
       "6015  2015             100000    5.0       71.00        1120            24.40   \n",
       "6016  2012              55000    8.0      112.00        2498            14.00   \n",
       "6017  2013              46000    5.0       67.10         998            18.90   \n",
       "6018  2011              47000    5.0       57.60         936            25.44   \n",
       "\n",
       "      Fuel_Type_Petrol  Transmission_Manual  Owner_Type_Fourth & Above  \\\n",
       "1                    0                    1                          0   \n",
       "2                    1                    1                          0   \n",
       "3                    0                    1                          0   \n",
       "4                    0                    0                          0   \n",
       "6                    0                    1                          0   \n",
       "...                ...                  ...                        ...   \n",
       "6014                 0                    1                          0   \n",
       "6015                 0                    1                          0   \n",
       "6016                 0                    1                          0   \n",
       "6017                 1                    1                          0   \n",
       "6018                 0                    1                          0   \n",
       "\n",
       "      Owner_Type_Second  Owner_Type_Third  \n",
       "1                     0                 0  \n",
       "2                     0                 0  \n",
       "3                     0                 0  \n",
       "4                     1                 0  \n",
       "6                     0                 0  \n",
       "...                 ...               ...  \n",
       "6014                  0                 0  \n",
       "6015                  0                 0  \n",
       "6016                  1                 0  \n",
       "6017                  0                 0  \n",
       "6018                  0                 0  \n",
       "\n",
       "[5807 rows x 11 columns]"
      ]
     },
     "execution_count": 62,
     "metadata": {},
     "output_type": "execute_result"
    }
   ],
   "source": [
    "X=pd.get_dummies(X, drop_first=True)\n",
    "X"
   ]
  },
  {
   "cell_type": "code",
   "execution_count": 65,
   "id": "c6293382",
   "metadata": {},
   "outputs": [
    {
     "name": "stdout",
     "output_type": "stream",
     "text": [
      "Nombre de données d'entrainement 4645\n",
      "Nombre de données de test 1162\n"
     ]
    }
   ],
   "source": [
    "X_train, X_test, y_train, y_test = train_test_split(X, y, test_size=0.20, random_state=42)\n",
    "print('Nombre de données d\\'entrainement',len(X_train))\n",
    "print('Nombre de données de test',len( X_test))"
   ]
  },
  {
   "cell_type": "code",
   "execution_count": 73,
   "id": "43d18b70",
   "metadata": {},
   "outputs": [
    {
     "name": "stdout",
     "output_type": "stream",
     "text": [
      "R2 :  0.3532608455991134\n",
      "mse :  9.805354830489616\n"
     ]
    }
   ],
   "source": [
    "lasso_mod=Lasso(alpha=0.1)\n",
    "lasso_mod.fit(X_train,y_train)\n",
    "prd=lasso_mod.predict(X_test)\n",
    "print('R2 : ',r2_score(y_test,prd))\n",
    "print('mse : ',mean_squared_error(y_test,prd))"
   ]
  },
  {
   "cell_type": "code",
   "execution_count": 79,
   "id": "9023b9ab",
   "metadata": {},
   "outputs": [
    {
     "name": "stdout",
     "output_type": "stream",
     "text": [
      "R2 :  0.6868149137326365\n",
      "mse :  4.748268104029902\n"
     ]
    }
   ],
   "source": [
    "rf_model = RandomForestRegressor(n_estimators=133,random_state=42)\n",
    "rf_model.fit(X_train, y_train)\n",
    "prd=rf_model.predict(X_test)\n",
    "print('R2 : ',r2_score(y_test,prd))\n",
    "print('mse : ',mean_squared_error(y_test,prd))"
   ]
  },
  {
   "cell_type": "code",
   "execution_count": 80,
   "id": "2d77ba7f",
   "metadata": {},
   "outputs": [
    {
     "name": "stdout",
     "output_type": "stream",
     "text": [
      "R2 :  0.38749138703112107\n",
      "mse :  9.286378049052072\n"
     ]
    }
   ],
   "source": [
    "ada_model = AdaBoostRegressor(n_estimators=95)\n",
    "ada_model.fit(X_train, y_train)\n",
    "prd=ada_model.predict(X_test)\n",
    "print('R2 : ',r2_score(y_test,prd))\n",
    "print('mse : ',mean_squared_error(y_test,prd))"
   ]
  },
  {
   "cell_type": "code",
   "execution_count": 81,
   "id": "6877d957",
   "metadata": {},
   "outputs": [
    {
     "name": "stdout",
     "output_type": "stream",
     "text": [
      "R2 :  0.3632951438617663\n",
      "mse :  9.65322262344639\n"
     ]
    }
   ],
   "source": [
    "linear_model = LinearRegression()\n",
    "linear_model.fit(X_train, y_train)\n",
    "prd=linear_model.predict(X_test)\n",
    "print('R2 : ',r2_score(y_test,prd))\n",
    "print('mse : ',mean_squared_error(y_test,prd))"
   ]
  },
  {
   "cell_type": "code",
   "execution_count": 85,
   "id": "d0d4c3eb",
   "metadata": {},
   "outputs": [
    {
     "name": "stdout",
     "output_type": "stream",
     "text": [
      "R2 :  0.19767138933477024\n",
      "mse :  12.164280861445782\n"
     ]
    }
   ],
   "source": [
    "neigh = KNeighborsRegressor(n_neighbors = 10)\n",
    "neigh.fit(X_train,y_train)\n",
    "prd=neigh.predict(X_test)\n",
    "print('R2 : ',r2_score(y_test,prd))\n",
    "print('mse : ',mean_squared_error(y_test,prd))"
   ]
  },
  {
   "cell_type": "code",
   "execution_count": null,
   "id": "959cea8e",
   "metadata": {},
   "outputs": [],
   "source": []
  }
 ],
 "metadata": {
  "kernelspec": {
   "display_name": "Python 3 (ipykernel)",
   "language": "python",
   "name": "python3"
  },
  "language_info": {
   "codemirror_mode": {
    "name": "ipython",
    "version": 3
   },
   "file_extension": ".py",
   "mimetype": "text/x-python",
   "name": "python",
   "nbconvert_exporter": "python",
   "pygments_lexer": "ipython3",
   "version": "3.9.12"
  }
 },
 "nbformat": 4,
 "nbformat_minor": 5
}
