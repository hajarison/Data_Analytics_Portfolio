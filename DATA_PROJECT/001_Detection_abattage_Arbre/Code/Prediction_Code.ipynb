{
 "cells": [
  {
   "cell_type": "markdown",
   "id": "1e518d37",
   "metadata": {},
   "source": [
    "# CODE POUR LA PREDICTION DES NOUVEAUX DONNEES"
   ]
  },
  {
   "cell_type": "markdown",
   "id": "c6842cf4",
   "metadata": {},
   "source": [
    "# Packages\n"
   ]
  },
  {
   "cell_type": "code",
   "execution_count": 3,
   "id": "e412a1ea",
   "metadata": {},
   "outputs": [
    {
     "name": "stderr",
     "output_type": "stream",
     "text": [
      "C:\\ProgramData\\Anaconda3\\lib\\site-packages\\paramiko\\transport.py:219: CryptographyDeprecationWarning: Blowfish has been deprecated\n",
      "  \"class\": algorithms.Blowfish,\n"
     ]
    }
   ],
   "source": [
    "import os\n",
    "import numpy as np\n",
    "import librosa \n",
    "from thinkdsp import read_wave\n",
    "import matplotlib.pyplot as plt\n",
    "from scipy.signal import butter, lfilter\n",
    "import time"
   ]
  },
  {
   "cell_type": "markdown",
   "id": "966457f2",
   "metadata": {},
   "source": [
    "# Model\n"
   ]
  },
  {
   "cell_type": "code",
   "execution_count": 4,
   "id": "020479ce",
   "metadata": {},
   "outputs": [],
   "source": [
    "from joblib import load"
   ]
  },
  {
   "cell_type": "code",
   "execution_count": 57,
   "id": "25fc1850",
   "metadata": {},
   "outputs": [],
   "source": [
    "try :\n",
    "    model=load(\"modelSVM\")\n",
    "except :\n",
    "    print ('ERREUR DU MODEL')"
   ]
  },
  {
   "cell_type": "markdown",
   "id": "32da12f1",
   "metadata": {},
   "source": [
    "\n",
    "## LES FONCTIONS à UTILISER\n"
   ]
  },
  {
   "cell_type": "code",
   "execution_count": 43,
   "id": "3b11732e",
   "metadata": {},
   "outputs": [],
   "source": [
    "def get_sound_data_with_sample_rate(sound):\n",
    "    signal , sr = librosa.load(sound) #Chargement de fichier audio avec librosa\n",
    "    return signal\n",
    "\n",
    "def get_spectrum(sound):\n",
    "    s = read_wave(str(sound)) \n",
    "    return s.make_spectrum() # Extraction des fréquence présent \n",
    "\n",
    "def filtrage(y): # application du filtre passe bas pour atténue les haute fréquence\n",
    "    order = 4\n",
    "    b, a = butter(order, cutoff / (22050 / 2), btype='low')\n",
    "    sound = lfilter(b, a, y)\n",
    "    return sound \n",
    "\n",
    "def normalisation(samples):  # Fonction de normalisation de l'amplitude\n",
    "    max_value = np.max(np.abs(samples)) # rechercher la valeur de l'amplitude maximal dans un données echantillonées\n",
    "    normalized_samples = samples / max_value # Diviser tous l'ampllitude par la valeur maximal pour que tous les amplitudes max de tous les données sont égale 1\n",
    "    return normalized_samples\n",
    "    \n",
    "def detecte_peaks_pred(y): \n",
    "    peaks = np.where(y > seuil)[0]\n",
    "    position = np.where(y)\n",
    "    return peaks, position\n",
    "\n",
    "def all_window_pred(peaks,all_sound_data,all_normalised):\n",
    "    window=4096\n",
    "    all_segment_sound_pred=[]\n",
    "    position=all_sound_data\n",
    "    try:\n",
    "        depart=peaks[0]\n",
    "        fin=depart+window\n",
    "        segment=position[0][depart:fin]\n",
    "        all_y_segment_pred.append(all_normalised[depart:fin])\n",
    "        all_segment_sound_pred.append(segment)\n",
    "    except :\n",
    "        all_segment_sound_pred.append(0)\n",
    "    for i in range(len(peaks)):\n",
    "        if peaks[i]>fin:\n",
    "            depart=peaks[i]\n",
    "            fin=depart+window\n",
    "            if fin<532493:\n",
    "                segment=position[0][depart:fin]\n",
    "                all_y_segment_pred.append(all_normalised[depart:fin])\n",
    "                all_segment_sound_pred.append(segment)   \n",
    "    return all_segment_sound_pred\n",
    "\n",
    "#Extraction des parametres\n",
    "def param_extract():\n",
    "    for i in range(len(all_y_segment_pred)):\n",
    "        to_append=[]\n",
    "        tab_mfcc=[]\n",
    "        param=[]\n",
    "        y=all_y_segment_pred[i]\n",
    "        sr=22050\n",
    "        chroma_stft = librosa.feature.chroma_stft(y=y, sr=sr)\n",
    "        spec_cent = librosa.feature.spectral_centroid(y=y, sr=sr)\n",
    "        spec_bw = librosa.feature.spectral_bandwidth(y=y, sr=sr)\n",
    "        rolloff = librosa.feature.spectral_rolloff(y=y, sr=sr)\n",
    "        zcr = librosa.feature.zero_crossing_rate(y)\n",
    "        mfcc = librosa.feature.mfcc(y=y, sr=sr)\n",
    "        rmse = librosa.feature.rms(y=y)\n",
    "        for e in mfcc:\n",
    "            tab_mfcc.append(f'{np.mean(e)}')\n",
    "        to_append=[np.mean(chroma_stft), np.mean(rmse) ,np.mean(spec_cent), np.mean(spec_bw) ,np.mean(rolloff), np.mean(zcr)]\n",
    "        param= to_append+tab_mfcc\n",
    "        for_pred.append(param)\n",
    "    resultat=[]\n",
    "    table_pred=[]\n",
    "    for i in range(len(for_pred)):\n",
    "        table_pred=np.array(for_pred[i]).reshape(1,26) # convertir le résultat d'extraction des caractéristique en tableau de 1 ligne 26 colonne\n",
    "        resultat.append(model.predict(table_pred)) # prediction\n",
    "    result = any(resultat) # s'il existe au moins 1 True, retourn True, s'il n' y a pas de true , retourne false\n",
    "    print(result)\n",
    "    "
   ]
  },
  {
   "cell_type": "code",
   "execution_count": null,
   "id": "b7e9d9a0",
   "metadata": {},
   "outputs": [],
   "source": []
  },
  {
   "cell_type": "markdown",
   "id": "da104499",
   "metadata": {},
   "source": [
    "# TEST ---- Prediction "
   ]
  },
  {
   "cell_type": "code",
   "execution_count": 1,
   "id": "09f22789",
   "metadata": {},
   "outputs": [
    {
     "ename": "SystemError",
     "evalue": "initialization of _internal failed without raising an exception",
     "output_type": "error",
     "traceback": [
      "\u001b[1;31m---------------------------------------------------------------------------\u001b[0m",
      "\u001b[1;31mSystemError\u001b[0m                               Traceback (most recent call last)",
      "Input \u001b[1;32mIn [1]\u001b[0m, in \u001b[0;36m<cell line: 3>\u001b[1;34m()\u001b[0m\n\u001b[0;32m      1\u001b[0m \u001b[38;5;28;01mimport\u001b[39;00m \u001b[38;5;21;01mos\u001b[39;00m\n\u001b[0;32m      2\u001b[0m \u001b[38;5;28;01mimport\u001b[39;00m \u001b[38;5;21;01mnumpy\u001b[39;00m \u001b[38;5;28;01mas\u001b[39;00m \u001b[38;5;21;01mnp\u001b[39;00m\n\u001b[1;32m----> 3\u001b[0m \u001b[38;5;28;01mimport\u001b[39;00m \u001b[38;5;21;01mlibrosa\u001b[39;00m \n\u001b[0;32m      4\u001b[0m \u001b[38;5;28;01mfrom\u001b[39;00m \u001b[38;5;21;01mthinkdsp\u001b[39;00m \u001b[38;5;28;01mimport\u001b[39;00m read_wave\n\u001b[0;32m      5\u001b[0m \u001b[38;5;28;01mimport\u001b[39;00m \u001b[38;5;21;01mmatplotlib\u001b[39;00m\u001b[38;5;21;01m.\u001b[39;00m\u001b[38;5;21;01mpyplot\u001b[39;00m \u001b[38;5;28;01mas\u001b[39;00m \u001b[38;5;21;01mplt\u001b[39;00m\n",
      "File \u001b[1;32m~\\anaconda3\\lib\\site-packages\\librosa\\__init__.py:209\u001b[0m, in \u001b[0;36m<module>\u001b[1;34m\u001b[0m\n\u001b[0;32m    207\u001b[0m \u001b[38;5;66;03m# And all the librosa sub-modules\u001b[39;00m\n\u001b[0;32m    208\u001b[0m \u001b[38;5;28;01mfrom\u001b[39;00m \u001b[38;5;21;01m.\u001b[39;00m\u001b[38;5;21;01m_cache\u001b[39;00m \u001b[38;5;28;01mimport\u001b[39;00m cache\n\u001b[1;32m--> 209\u001b[0m \u001b[38;5;28;01mfrom\u001b[39;00m \u001b[38;5;21;01m.\u001b[39;00m \u001b[38;5;28;01mimport\u001b[39;00m core\n\u001b[0;32m    210\u001b[0m \u001b[38;5;28;01mfrom\u001b[39;00m \u001b[38;5;21;01m.\u001b[39;00m \u001b[38;5;28;01mimport\u001b[39;00m beat\n\u001b[0;32m    211\u001b[0m \u001b[38;5;28;01mfrom\u001b[39;00m \u001b[38;5;21;01m.\u001b[39;00m \u001b[38;5;28;01mimport\u001b[39;00m decompose\n",
      "File \u001b[1;32m~\\anaconda3\\lib\\site-packages\\librosa\\core\\__init__.py:5\u001b[0m, in \u001b[0;36m<module>\u001b[1;34m\u001b[0m\n\u001b[0;32m      1\u001b[0m \u001b[38;5;66;03m#!/usr/bin/env python\u001b[39;00m\n\u001b[0;32m      2\u001b[0m \u001b[38;5;66;03m# -*- coding: utf-8 -*-\u001b[39;00m\n\u001b[0;32m      3\u001b[0m \u001b[38;5;124;03m\"\"\" Core IO and DSP functions\"\"\"\u001b[39;00m\n\u001b[1;32m----> 5\u001b[0m \u001b[38;5;28;01mfrom\u001b[39;00m \u001b[38;5;21;01m.\u001b[39;00m\u001b[38;5;21;01mconvert\u001b[39;00m \u001b[38;5;28;01mimport\u001b[39;00m \u001b[38;5;241m*\u001b[39m  \u001b[38;5;66;03m# pylint: disable=wildcard-import\u001b[39;00m\n\u001b[0;32m      6\u001b[0m \u001b[38;5;28;01mfrom\u001b[39;00m \u001b[38;5;21;01m.\u001b[39;00m\u001b[38;5;21;01maudio\u001b[39;00m \u001b[38;5;28;01mimport\u001b[39;00m \u001b[38;5;241m*\u001b[39m  \u001b[38;5;66;03m# pylint: disable=wildcard-import\u001b[39;00m\n\u001b[0;32m      7\u001b[0m \u001b[38;5;28;01mfrom\u001b[39;00m \u001b[38;5;21;01m.\u001b[39;00m\u001b[38;5;21;01mspectrum\u001b[39;00m \u001b[38;5;28;01mimport\u001b[39;00m \u001b[38;5;241m*\u001b[39m  \u001b[38;5;66;03m# pylint: disable=wildcard-import\u001b[39;00m\n",
      "File \u001b[1;32m~\\anaconda3\\lib\\site-packages\\librosa\\core\\convert.py:7\u001b[0m, in \u001b[0;36m<module>\u001b[1;34m\u001b[0m\n\u001b[0;32m      5\u001b[0m \u001b[38;5;28;01mimport\u001b[39;00m \u001b[38;5;21;01mre\u001b[39;00m\n\u001b[0;32m      6\u001b[0m \u001b[38;5;28;01mimport\u001b[39;00m \u001b[38;5;21;01mnumpy\u001b[39;00m \u001b[38;5;28;01mas\u001b[39;00m \u001b[38;5;21;01mnp\u001b[39;00m\n\u001b[1;32m----> 7\u001b[0m \u001b[38;5;28;01mfrom\u001b[39;00m \u001b[38;5;21;01m.\u001b[39;00m \u001b[38;5;28;01mimport\u001b[39;00m notation\n\u001b[0;32m      8\u001b[0m \u001b[38;5;28;01mfrom\u001b[39;00m \u001b[38;5;21;01m.\u001b[39;00m\u001b[38;5;21;01m.\u001b[39;00m\u001b[38;5;21;01mutil\u001b[39;00m\u001b[38;5;21;01m.\u001b[39;00m\u001b[38;5;21;01mexceptions\u001b[39;00m \u001b[38;5;28;01mimport\u001b[39;00m ParameterError\n\u001b[0;32m      9\u001b[0m \u001b[38;5;28;01mfrom\u001b[39;00m \u001b[38;5;21;01m.\u001b[39;00m\u001b[38;5;21;01m.\u001b[39;00m\u001b[38;5;21;01mutil\u001b[39;00m\u001b[38;5;21;01m.\u001b[39;00m\u001b[38;5;21;01mdecorators\u001b[39;00m \u001b[38;5;28;01mimport\u001b[39;00m deprecate_positional_args\n",
      "File \u001b[1;32m~\\anaconda3\\lib\\site-packages\\librosa\\core\\notation.py:8\u001b[0m, in \u001b[0;36m<module>\u001b[1;34m\u001b[0m\n\u001b[0;32m      6\u001b[0m \u001b[38;5;28;01mimport\u001b[39;00m \u001b[38;5;21;01mnumpy\u001b[39;00m \u001b[38;5;28;01mas\u001b[39;00m \u001b[38;5;21;01mnp\u001b[39;00m\n\u001b[0;32m      7\u001b[0m \u001b[38;5;28;01mfrom\u001b[39;00m \u001b[38;5;21;01m.\u001b[39;00m\u001b[38;5;21;01m.\u001b[39;00m\u001b[38;5;21;01m_cache\u001b[39;00m \u001b[38;5;28;01mimport\u001b[39;00m cache\n\u001b[1;32m----> 8\u001b[0m \u001b[38;5;28;01mfrom\u001b[39;00m \u001b[38;5;21;01m.\u001b[39;00m\u001b[38;5;21;01m.\u001b[39;00m\u001b[38;5;21;01mutil\u001b[39;00m\u001b[38;5;21;01m.\u001b[39;00m\u001b[38;5;21;01mexceptions\u001b[39;00m \u001b[38;5;28;01mimport\u001b[39;00m ParameterError\n\u001b[0;32m      9\u001b[0m \u001b[38;5;28;01mfrom\u001b[39;00m \u001b[38;5;21;01m.\u001b[39;00m\u001b[38;5;21;01m.\u001b[39;00m\u001b[38;5;21;01mutil\u001b[39;00m\u001b[38;5;21;01m.\u001b[39;00m\u001b[38;5;21;01mdecorators\u001b[39;00m \u001b[38;5;28;01mimport\u001b[39;00m deprecate_positional_args\n\u001b[0;32m     11\u001b[0m __all__ \u001b[38;5;241m=\u001b[39m [\n\u001b[0;32m     12\u001b[0m     \u001b[38;5;124m\"\u001b[39m\u001b[38;5;124mkey_to_degrees\u001b[39m\u001b[38;5;124m\"\u001b[39m,\n\u001b[0;32m     13\u001b[0m     \u001b[38;5;124m\"\u001b[39m\u001b[38;5;124mkey_to_notes\u001b[39m\u001b[38;5;124m\"\u001b[39m,\n\u001b[1;32m   (...)\u001b[0m\n\u001b[0;32m     18\u001b[0m     \u001b[38;5;124m\"\u001b[39m\u001b[38;5;124mlist_thaat\u001b[39m\u001b[38;5;124m\"\u001b[39m,\n\u001b[0;32m     19\u001b[0m ]\n",
      "File \u001b[1;32m~\\anaconda3\\lib\\site-packages\\librosa\\util\\__init__.py:77\u001b[0m, in \u001b[0;36m<module>\u001b[1;34m\u001b[0m\n\u001b[0;32m      1\u001b[0m \u001b[38;5;66;03m#!/usr/bin/env python\u001b[39;00m\n\u001b[0;32m      2\u001b[0m \u001b[38;5;66;03m# -*- coding: utf-8 -*-\u001b[39;00m\n\u001b[0;32m      3\u001b[0m \u001b[38;5;124;03m\"\"\"\u001b[39;00m\n\u001b[0;32m      4\u001b[0m \u001b[38;5;124;03mUtilities\u001b[39;00m\n\u001b[0;32m      5\u001b[0m \u001b[38;5;124;03m=========\u001b[39;00m\n\u001b[1;32m   (...)\u001b[0m\n\u001b[0;32m     74\u001b[0m \n\u001b[0;32m     75\u001b[0m \u001b[38;5;124;03m\"\"\"\u001b[39;00m\n\u001b[1;32m---> 77\u001b[0m \u001b[38;5;28;01mfrom\u001b[39;00m \u001b[38;5;21;01m.\u001b[39;00m\u001b[38;5;21;01mutils\u001b[39;00m \u001b[38;5;28;01mimport\u001b[39;00m \u001b[38;5;241m*\u001b[39m  \u001b[38;5;66;03m# pylint: disable=wildcard-import\u001b[39;00m\n\u001b[0;32m     78\u001b[0m \u001b[38;5;28;01mfrom\u001b[39;00m \u001b[38;5;21;01m.\u001b[39;00m\u001b[38;5;21;01mfiles\u001b[39;00m \u001b[38;5;28;01mimport\u001b[39;00m \u001b[38;5;241m*\u001b[39m  \u001b[38;5;66;03m# pylint: disable=wildcard-import\u001b[39;00m\n\u001b[0;32m     79\u001b[0m \u001b[38;5;28;01mfrom\u001b[39;00m \u001b[38;5;21;01m.\u001b[39;00m\u001b[38;5;21;01mmatching\u001b[39;00m \u001b[38;5;28;01mimport\u001b[39;00m \u001b[38;5;241m*\u001b[39m  \u001b[38;5;66;03m# pylint: disable=wildcard-import\u001b[39;00m\n",
      "File \u001b[1;32m~\\anaconda3\\lib\\site-packages\\librosa\\util\\utils.py:9\u001b[0m, in \u001b[0;36m<module>\u001b[1;34m\u001b[0m\n\u001b[0;32m      6\u001b[0m \u001b[38;5;28;01mimport\u001b[39;00m \u001b[38;5;21;01mscipy\u001b[39;00m\u001b[38;5;21;01m.\u001b[39;00m\u001b[38;5;21;01msparse\u001b[39;00m\n\u001b[0;32m      8\u001b[0m \u001b[38;5;28;01mimport\u001b[39;00m \u001b[38;5;21;01mnumpy\u001b[39;00m \u001b[38;5;28;01mas\u001b[39;00m \u001b[38;5;21;01mnp\u001b[39;00m\n\u001b[1;32m----> 9\u001b[0m \u001b[38;5;28;01mimport\u001b[39;00m \u001b[38;5;21;01mnumba\u001b[39;00m\n\u001b[0;32m     10\u001b[0m \u001b[38;5;28;01mfrom\u001b[39;00m \u001b[38;5;21;01mnumpy\u001b[39;00m\u001b[38;5;21;01m.\u001b[39;00m\u001b[38;5;21;01mlib\u001b[39;00m\u001b[38;5;21;01m.\u001b[39;00m\u001b[38;5;21;01mstride_tricks\u001b[39;00m \u001b[38;5;28;01mimport\u001b[39;00m as_strided\n\u001b[0;32m     12\u001b[0m \u001b[38;5;28;01mfrom\u001b[39;00m \u001b[38;5;21;01m.\u001b[39;00m\u001b[38;5;21;01m.\u001b[39;00m\u001b[38;5;21;01m_cache\u001b[39;00m \u001b[38;5;28;01mimport\u001b[39;00m cache\n",
      "File \u001b[1;32m~\\anaconda3\\lib\\site-packages\\numba\\__init__.py:42\u001b[0m, in \u001b[0;36m<module>\u001b[1;34m\u001b[0m\n\u001b[0;32m     38\u001b[0m \u001b[38;5;28;01mfrom\u001b[39;00m \u001b[38;5;21;01mnumba\u001b[39;00m\u001b[38;5;21;01m.\u001b[39;00m\u001b[38;5;21;01mcore\u001b[39;00m\u001b[38;5;21;01m.\u001b[39;00m\u001b[38;5;21;01mdecorators\u001b[39;00m \u001b[38;5;28;01mimport\u001b[39;00m (cfunc, generated_jit, jit, njit, stencil,\n\u001b[0;32m     39\u001b[0m                                    jit_module)\n\u001b[0;32m     41\u001b[0m \u001b[38;5;66;03m# Re-export vectorize decorators and the thread layer querying function\u001b[39;00m\n\u001b[1;32m---> 42\u001b[0m \u001b[38;5;28;01mfrom\u001b[39;00m \u001b[38;5;21;01mnumba\u001b[39;00m\u001b[38;5;21;01m.\u001b[39;00m\u001b[38;5;21;01mnp\u001b[39;00m\u001b[38;5;21;01m.\u001b[39;00m\u001b[38;5;21;01mufunc\u001b[39;00m \u001b[38;5;28;01mimport\u001b[39;00m (vectorize, guvectorize, threading_layer,\n\u001b[0;32m     43\u001b[0m                             get_num_threads, set_num_threads)\n\u001b[0;32m     45\u001b[0m \u001b[38;5;66;03m# Re-export Numpy helpers\u001b[39;00m\n\u001b[0;32m     46\u001b[0m \u001b[38;5;28;01mfrom\u001b[39;00m \u001b[38;5;21;01mnumba\u001b[39;00m\u001b[38;5;21;01m.\u001b[39;00m\u001b[38;5;21;01mnp\u001b[39;00m\u001b[38;5;21;01m.\u001b[39;00m\u001b[38;5;21;01mnumpy_support\u001b[39;00m \u001b[38;5;28;01mimport\u001b[39;00m carray, farray, from_dtype\n",
      "File \u001b[1;32m~\\anaconda3\\lib\\site-packages\\numba\\np\\ufunc\\__init__.py:3\u001b[0m, in \u001b[0;36m<module>\u001b[1;34m\u001b[0m\n\u001b[0;32m      1\u001b[0m \u001b[38;5;66;03m# -*- coding: utf-8 -*-\u001b[39;00m\n\u001b[1;32m----> 3\u001b[0m \u001b[38;5;28;01mfrom\u001b[39;00m \u001b[38;5;21;01mnumba\u001b[39;00m\u001b[38;5;21;01m.\u001b[39;00m\u001b[38;5;21;01mnp\u001b[39;00m\u001b[38;5;21;01m.\u001b[39;00m\u001b[38;5;21;01mufunc\u001b[39;00m\u001b[38;5;21;01m.\u001b[39;00m\u001b[38;5;21;01mdecorators\u001b[39;00m \u001b[38;5;28;01mimport\u001b[39;00m Vectorize, GUVectorize, vectorize, guvectorize\n\u001b[0;32m      4\u001b[0m \u001b[38;5;28;01mfrom\u001b[39;00m \u001b[38;5;21;01mnumba\u001b[39;00m\u001b[38;5;21;01m.\u001b[39;00m\u001b[38;5;21;01mnp\u001b[39;00m\u001b[38;5;21;01m.\u001b[39;00m\u001b[38;5;21;01mufunc\u001b[39;00m\u001b[38;5;21;01m.\u001b[39;00m\u001b[38;5;21;01m_internal\u001b[39;00m \u001b[38;5;28;01mimport\u001b[39;00m PyUFunc_None, PyUFunc_Zero, PyUFunc_One\n\u001b[0;32m      5\u001b[0m \u001b[38;5;28;01mfrom\u001b[39;00m \u001b[38;5;21;01mnumba\u001b[39;00m\u001b[38;5;21;01m.\u001b[39;00m\u001b[38;5;21;01mnp\u001b[39;00m\u001b[38;5;21;01m.\u001b[39;00m\u001b[38;5;21;01mufunc\u001b[39;00m \u001b[38;5;28;01mimport\u001b[39;00m _internal, array_exprs\n",
      "File \u001b[1;32m~\\anaconda3\\lib\\site-packages\\numba\\np\\ufunc\\decorators.py:3\u001b[0m, in \u001b[0;36m<module>\u001b[1;34m\u001b[0m\n\u001b[0;32m      1\u001b[0m \u001b[38;5;28;01mimport\u001b[39;00m \u001b[38;5;21;01minspect\u001b[39;00m\n\u001b[1;32m----> 3\u001b[0m \u001b[38;5;28;01mfrom\u001b[39;00m \u001b[38;5;21;01mnumba\u001b[39;00m\u001b[38;5;21;01m.\u001b[39;00m\u001b[38;5;21;01mnp\u001b[39;00m\u001b[38;5;21;01m.\u001b[39;00m\u001b[38;5;21;01mufunc\u001b[39;00m \u001b[38;5;28;01mimport\u001b[39;00m _internal\n\u001b[0;32m      4\u001b[0m \u001b[38;5;28;01mfrom\u001b[39;00m \u001b[38;5;21;01mnumba\u001b[39;00m\u001b[38;5;21;01m.\u001b[39;00m\u001b[38;5;21;01mnp\u001b[39;00m\u001b[38;5;21;01m.\u001b[39;00m\u001b[38;5;21;01mufunc\u001b[39;00m\u001b[38;5;21;01m.\u001b[39;00m\u001b[38;5;21;01mparallel\u001b[39;00m \u001b[38;5;28;01mimport\u001b[39;00m ParallelUFuncBuilder, ParallelGUFuncBuilder\n\u001b[0;32m      6\u001b[0m \u001b[38;5;28;01mfrom\u001b[39;00m \u001b[38;5;21;01mnumba\u001b[39;00m\u001b[38;5;21;01m.\u001b[39;00m\u001b[38;5;21;01mcore\u001b[39;00m\u001b[38;5;21;01m.\u001b[39;00m\u001b[38;5;21;01mregistry\u001b[39;00m \u001b[38;5;28;01mimport\u001b[39;00m DelayedRegistry\n",
      "\u001b[1;31mSystemError\u001b[0m: initialization of _internal failed without raising an exception"
     ]
    }
   ],
   "source": [
    "import os\n",
    "import numpy as np\n",
    "import librosa \n",
    "from thinkdsp import read_wave\n",
    "import matplotlib.pyplot as plt"
   ]
  },
  {
   "cell_type": "code",
   "execution_count": 8,
   "id": "dceca628",
   "metadata": {},
   "outputs": [],
   "source": [
    "import time"
   ]
  },
  {
   "cell_type": "code",
   "execution_count": 53,
   "id": "7e267e67",
   "metadata": {},
   "outputs": [],
   "source": [
    "seuil = 0.3\n",
    "cutoff=600"
   ]
  },
  {
   "cell_type": "code",
   "execution_count": 10,
   "id": "67f9541d",
   "metadata": {},
   "outputs": [],
   "source": [
    "autorisation=True"
   ]
  },
  {
   "cell_type": "code",
   "execution_count": 11,
   "id": "8c9e2bee",
   "metadata": {},
   "outputs": [],
   "source": [
    "confirmation=[]"
   ]
  },
  {
   "cell_type": "code",
   "execution_count": 110,
   "id": "28358d9c",
   "metadata": {
    "scrolled": true
   },
   "outputs": [
    {
     "name": "stdout",
     "output_type": "stream",
     "text": [
      "4\n",
      "24410\n",
      "24193\n",
      "24854\n",
      "0.9911871099967995\n"
     ]
    }
   ],
   "source": [
    "all_segment=[]\n",
    "all_y_segment=[]\n",
    "modulo=[]\n",
    "x=[]\n",
    "al_seg_snd=pic_silence_detect(all_peaks[5],all_position[5],all_normalised[5])\n",
    "#al_seg_snd=pic_silence_detect(all_peaks_other[0],all_position_other[0],all_normalised_other[0])\n",
    "print(len(al_seg_snd))\n",
    "if len(al_seg_snd)<=5:\n",
    "    for i in range(len(al_seg_snd)):\n",
    "        try :\n",
    "            x.append(al_seg_snd[i][-1]-al_seg_snd[1+i][0])\n",
    "            #if len(al_seg_snd):\n",
    "            print(abs(x[i]))\n",
    "        except:\n",
    "            pass\n",
    "    for i in range(len(x)):\n",
    "        try :\n",
    "            modulo.append(x[i]/x[i+1])\n",
    "        except:\n",
    "            pass\n",
    "    print(np.mean(modulo))\n",
    "    #print(pic_sil)"
   ]
  },
  {
   "cell_type": "markdown",
   "id": "9dffe99b",
   "metadata": {},
   "source": [
    "# MODULO"
   ]
  },
  {
   "cell_type": "code",
   "execution_count": 12,
   "id": "c8bf4cc4",
   "metadata": {},
   "outputs": [
    {
     "name": "stdout",
     "output_type": "stream",
     "text": [
      "1 SEGMENTS\n",
      "nan\n"
     ]
    },
    {
     "name": "stderr",
     "output_type": "stream",
     "text": [
      "C:\\ProgramData\\Anaconda3\\lib\\site-packages\\numpy\\core\\fromnumeric.py:3440: RuntimeWarning: Mean of empty slice.\n",
      "  return _methods._mean(a, axis=axis, dtype=dtype,\n",
      "C:\\ProgramData\\Anaconda3\\lib\\site-packages\\numpy\\core\\_methods.py:189: RuntimeWarning: invalid value encountered in double_scalars\n",
      "  ret = ret.dtype.type(ret / rcount)\n"
     ]
    }
   ],
   "source": [
    "#start_time = time.time()\n",
    "fichieraudio='Donne\\\\ambre_10.wav'\n",
    "sound=get_sound_data_with_sample_rate(fichieraudio)\n",
    "sound_filtred=filtrage(sound)\n",
    "sound_normalized=normalisation(sound_filtred)\n",
    "all_peaks_pred,all_position_pred= detecte_peaks_pred(sound_normalized)\n",
    "\n",
    "all_segment_pred=[]\n",
    "all_y_segment_pred=[]\n",
    "all_segment_pred=all_window_pred(all_peaks_pred,all_position_pred,sound_normalized)\n",
    "for_pred=[]\n",
    "modulo=[]\n",
    "ecart_temps=[]\n",
    "print(f'{len(all_segment_pred)} SEGMENTS')\n",
    "\n",
    "if len(all_segment_pred)<=5:\n",
    "    for i in range(len(all_segment_pred)):\n",
    "        try :\n",
    "            ecart_temps.append(all_segment_pred[i][-1]-all_segment_pred[1+i][0])\n",
    "            #if len(al_seg_snd):\n",
    "            print(abs(ecart_temps[i]))\n",
    "        except:\n",
    "            pass\n",
    "    for i in range(len(ecart_temps)):\n",
    "        try :\n",
    "            modulo.append(ecart_temps[i]/ecart_temps[i+1])\n",
    "        except:\n",
    "            pass\n",
    "    print(np.mean(modulo))\n",
    "    try:\n",
    "        if np.mean(modulo)<=1.2 and np.mean(modulo)>=0.95:\n",
    "            confirmation.append(True)\n",
    "            print(confirmation)\n",
    "            if len(confirmation)==5:\n",
    "                param_extract()\n",
    "                confirmation=[]\n",
    "    except: \n",
    "        print('erreur')\n"
   ]
  },
  {
   "cell_type": "markdown",
   "id": "bb7e3ce8",
   "metadata": {},
   "source": [
    "# CONFIRMATION 5 FOIS"
   ]
  },
  {
   "cell_type": "code",
   "execution_count": 61,
   "id": "988abffa",
   "metadata": {
    "scrolled": true
   },
   "outputs": [
    {
     "name": "stdout",
     "output_type": "stream",
     "text": [
      "26 COUPS\n"
     ]
    },
    {
     "data": {
      "image/png": "[encoded data removed]",
      "text/plain": [
       "<Figure size 2000x500 with 1 Axes>"
      ]
     },
     "metadata": {},
     "output_type": "display_data"
    },
    {
     "name": "stdout",
     "output_type": "stream",
     "text": [
      "0.4899863945578231\n",
      "473\n",
      "277\n",
      "234\n",
      "124\n",
      "89\n",
      "186\n",
      "201\n",
      "37\n",
      "90\n",
      "56\n",
      "39\n",
      "6\n",
      "36\n",
      "61\n",
      "2\n",
      "128\n",
      "61\n",
      "2\n",
      "203\n",
      "109\n",
      "2\n",
      "41\n",
      "113\n",
      "60\n",
      "121\n",
      "True\n"
     ]
    },
    {
     "name": "stderr",
     "output_type": "stream",
     "text": [
      "C:\\ProgramData\\Anaconda3\\lib\\site-packages\\sklearn\\base.py:451: UserWarning: X does not have valid feature names, but SelectKBest was fitted with feature names\n",
      "  warnings.warn(\n",
      "C:\\ProgramData\\Anaconda3\\lib\\site-packages\\sklearn\\base.py:451: UserWarning: X does not have valid feature names, but SelectKBest was fitted with feature names\n",
      "  warnings.warn(\n",
      "C:\\ProgramData\\Anaconda3\\lib\\site-packages\\sklearn\\base.py:451: UserWarning: X does not have valid feature names, but SelectKBest was fitted with feature names\n",
      "  warnings.warn(\n",
      "C:\\ProgramData\\Anaconda3\\lib\\site-packages\\sklearn\\base.py:451: UserWarning: X does not have valid feature names, but SelectKBest was fitted with feature names\n",
      "  warnings.warn(\n",
      "C:\\ProgramData\\Anaconda3\\lib\\site-packages\\sklearn\\base.py:451: UserWarning: X does not have valid feature names, but SelectKBest was fitted with feature names\n",
      "  warnings.warn(\n",
      "C:\\ProgramData\\Anaconda3\\lib\\site-packages\\sklearn\\base.py:451: UserWarning: X does not have valid feature names, but SelectKBest was fitted with feature names\n",
      "  warnings.warn(\n",
      "C:\\ProgramData\\Anaconda3\\lib\\site-packages\\sklearn\\base.py:451: UserWarning: X does not have valid feature names, but SelectKBest was fitted with feature names\n",
      "  warnings.warn(\n",
      "C:\\ProgramData\\Anaconda3\\lib\\site-packages\\sklearn\\base.py:451: UserWarning: X does not have valid feature names, but SelectKBest was fitted with feature names\n",
      "  warnings.warn(\n",
      "C:\\ProgramData\\Anaconda3\\lib\\site-packages\\sklearn\\base.py:451: UserWarning: X does not have valid feature names, but SelectKBest was fitted with feature names\n",
      "  warnings.warn(\n",
      "C:\\ProgramData\\Anaconda3\\lib\\site-packages\\sklearn\\base.py:451: UserWarning: X does not have valid feature names, but SelectKBest was fitted with feature names\n",
      "  warnings.warn(\n",
      "C:\\ProgramData\\Anaconda3\\lib\\site-packages\\sklearn\\base.py:451: UserWarning: X does not have valid feature names, but SelectKBest was fitted with feature names\n",
      "  warnings.warn(\n",
      "C:\\ProgramData\\Anaconda3\\lib\\site-packages\\sklearn\\base.py:451: UserWarning: X does not have valid feature names, but SelectKBest was fitted with feature names\n",
      "  warnings.warn(\n",
      "C:\\ProgramData\\Anaconda3\\lib\\site-packages\\sklearn\\base.py:451: UserWarning: X does not have valid feature names, but SelectKBest was fitted with feature names\n",
      "  warnings.warn(\n",
      "C:\\ProgramData\\Anaconda3\\lib\\site-packages\\sklearn\\base.py:451: UserWarning: X does not have valid feature names, but SelectKBest was fitted with feature names\n",
      "  warnings.warn(\n",
      "C:\\ProgramData\\Anaconda3\\lib\\site-packages\\sklearn\\base.py:451: UserWarning: X does not have valid feature names, but SelectKBest was fitted with feature names\n",
      "  warnings.warn(\n",
      "C:\\ProgramData\\Anaconda3\\lib\\site-packages\\sklearn\\base.py:451: UserWarning: X does not have valid feature names, but SelectKBest was fitted with feature names\n",
      "  warnings.warn(\n",
      "C:\\ProgramData\\Anaconda3\\lib\\site-packages\\sklearn\\base.py:451: UserWarning: X does not have valid feature names, but SelectKBest was fitted with feature names\n",
      "  warnings.warn(\n",
      "C:\\ProgramData\\Anaconda3\\lib\\site-packages\\sklearn\\base.py:451: UserWarning: X does not have valid feature names, but SelectKBest was fitted with feature names\n",
      "  warnings.warn(\n",
      "C:\\ProgramData\\Anaconda3\\lib\\site-packages\\sklearn\\base.py:451: UserWarning: X does not have valid feature names, but SelectKBest was fitted with feature names\n",
      "  warnings.warn(\n",
      "C:\\ProgramData\\Anaconda3\\lib\\site-packages\\sklearn\\base.py:451: UserWarning: X does not have valid feature names, but SelectKBest was fitted with feature names\n",
      "  warnings.warn(\n",
      "C:\\ProgramData\\Anaconda3\\lib\\site-packages\\sklearn\\base.py:451: UserWarning: X does not have valid feature names, but SelectKBest was fitted with feature names\n",
      "  warnings.warn(\n",
      "C:\\ProgramData\\Anaconda3\\lib\\site-packages\\sklearn\\base.py:451: UserWarning: X does not have valid feature names, but SelectKBest was fitted with feature names\n",
      "  warnings.warn(\n",
      "C:\\ProgramData\\Anaconda3\\lib\\site-packages\\sklearn\\base.py:451: UserWarning: X does not have valid feature names, but SelectKBest was fitted with feature names\n",
      "  warnings.warn(\n",
      "C:\\ProgramData\\Anaconda3\\lib\\site-packages\\sklearn\\base.py:451: UserWarning: X does not have valid feature names, but SelectKBest was fitted with feature names\n",
      "  warnings.warn(\n",
      "C:\\ProgramData\\Anaconda3\\lib\\site-packages\\sklearn\\base.py:451: UserWarning: X does not have valid feature names, but SelectKBest was fitted with feature names\n",
      "  warnings.warn(\n",
      "C:\\ProgramData\\Anaconda3\\lib\\site-packages\\sklearn\\base.py:451: UserWarning: X does not have valid feature names, but SelectKBest was fitted with feature names\n",
      "  warnings.warn(\n"
     ]
    }
   ],
   "source": [
    "#start_time = time.time()\n",
    "fichieraudio='Donne\\\\ambre_200.wav'\n",
    "sound=get_sound_data_with_sample_rate(fichieraudio)\n",
    "sound_filtred=filtrage(sound)\n",
    "sound_normalized=normalisation(sound_filtred)\n",
    "all_peaks_pred,all_position_pred= detecte_peaks_pred(sound_normalized)\n",
    "\n",
    "all_segment_pred=[]\n",
    "all_y_segment_pred=[]\n",
    "all_segment_pred=all_window_pred(all_peaks_pred,all_position_pred,sound_normalized)\n",
    "for_pred=[]\n",
    "modulo=[]\n",
    "ecart_temps=[]\n",
    "print(f'{len(all_segment_pred)} COUPS')\n",
    "visualiser(all_segment_pred,sound_normalized)\n",
    "print(np.mean(sound_normalized>0))\n",
    "for i in range(len(all_segment_pred)):\n",
    "    try :\n",
    "        ecart_temps.append(all_segment_pred[i][-1]-all_segment_pred[1+i][0])\n",
    "        #if len(al_seg_snd):\n",
    "        print(abs(ecart_temps[i]))\n",
    "    except:\n",
    "        pass\n",
    "#confirmation.append(True)\n",
    "#print(confirmation)\n",
    "#if len(confirmation)==5:\n",
    "#param_extract()\n",
    "#confirmation=[]\n",
    "for i in range(len(all_y_segment_pred)):\n",
    "    to_append=[]\n",
    "    tab_mfcc=[]\n",
    "    param=[]\n",
    "    y=all_y_segment_pred[i]\n",
    "    sr=22050\n",
    "    chroma_stft = librosa.feature.chroma_stft(y=y, sr=sr)\n",
    "    spec_cent = librosa.feature.spectral_centroid(y=y, sr=sr)\n",
    "    spec_bw = librosa.feature.spectral_bandwidth(y=y, sr=sr)\n",
    "    rolloff = librosa.feature.spectral_rolloff(y=y, sr=sr)\n",
    "    zcr = librosa.feature.zero_crossing_rate(y)\n",
    "    mfcc = librosa.feature.mfcc(y=y, sr=sr)\n",
    "    rmse = librosa.feature.rms(y=y)\n",
    "    for e in mfcc:\n",
    "        tab_mfcc.append(f'{np.mean(e)}')\n",
    "    to_append=[np.mean(chroma_stft), np.mean(rmse) ,np.mean(spec_cent), np.mean(spec_bw) ,np.mean(rolloff), np.mean(zcr)]\n",
    "    param= to_append+tab_mfcc\n",
    "    for_pred.append(param)\n",
    "resultat=[]\n",
    "table_pred=[]\n",
    "for i in range(len(for_pred)):\n",
    "    table_pred=np.array(for_pred[i]).reshape(1,26) # convertir le résultat d'extraction des caractéristique en tableau de 1 ligne 26 colonne\n",
    "    resultat.append(model.predict(table_pred)) # prediction\n",
    "result = any(resultat) # s'il existe au moins 1 True, retourn True, s'il n' y a pas de true , retourne false\n",
    "print(result)"
   ]
  },
  {
   "cell_type": "code",
   "execution_count": 55,
   "id": "5fee2ebc",
   "metadata": {},
   "outputs": [],
   "source": [
    "def visualiser(all_segment,all_normalised):\n",
    "    try :\n",
    "        seg=np.array(all_segment)\n",
    "        plt.figure(figsize=(20, 5))\n",
    "        plt.plot(all_normalised)\n",
    "        plt.plot(seg,all_normalised[seg],'ro')\n",
    "        plt.xlabel('temps')\n",
    "        plt.ylabel('Amplitude')\n",
    "        plt.show()\n",
    "    except :\n",
    "        print(f'ERREUR')"
   ]
  },
  {
   "cell_type": "code",
   "execution_count": 47,
   "id": "2e6b0828",
   "metadata": {},
   "outputs": [],
   "source": [
    "all_peaks_pred=[]\n",
    "all_position_pred=[]\n",
    "fichieraudio='Recordings\\\\62m.wav'\n",
    "sound=get_sound_data_with_sample_rate(fichieraudio)\n",
    "sound_filtred=filtrage(sound)\n",
    "sound_normalized=normalisation(sound_filtred)\n",
    "all_peaks_pred,all_position_pred= detecte_peaks_pred(sound_normalized)"
   ]
  },
  {
   "cell_type": "code",
   "execution_count": 39,
   "id": "cf5c46a7",
   "metadata": {},
   "outputs": [
    {
     "data": {
      "text/plain": [
       "0.23170432"
      ]
     },
     "execution_count": 39,
     "metadata": {},
     "output_type": "execute_result"
    }
   ],
   "source": [
    "np.max(np.abs(sound))"
   ]
  },
  {
   "cell_type": "code",
   "execution_count": 48,
   "id": "67b65905",
   "metadata": {},
   "outputs": [
    {
     "data": {
      "text/plain": [
       "532493"
      ]
     },
     "execution_count": 48,
     "metadata": {},
     "output_type": "execute_result"
    }
   ],
   "source": [
    "len(sound)"
   ]
  },
  {
   "cell_type": "code",
   "execution_count": null,
   "id": "97d82909",
   "metadata": {},
   "outputs": [],
   "source": []
  }
 ],
 "metadata": {
  "kernelspec": {
   "display_name": "Python 3 (ipykernel)",
   "language": "python",
   "name": "python3"
  },
  "language_info": {
   "codemirror_mode": {
    "name": "ipython",
    "version": 3
   },
   "file_extension": ".py",
   "mimetype": "text/x-python",
   "name": "python",
   "nbconvert_exporter": "python",
   "pygments_lexer": "ipython3",
   "version": "3.9.12"
  }
 },
 "nbformat": 4,
 "nbformat_minor": 5
}
