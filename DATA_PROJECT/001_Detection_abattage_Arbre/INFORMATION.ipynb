{
 "cells": [
  {
   "cell_type": "markdown",
   "id": "6311bc65",
   "metadata": {},
   "source": [
    "### Information sur le projet detection d'abattage d'arbre\n",
    "\n",
    "\n",
    "\n",
    "SUJET de L'ECOLE SUPERIEURE POLYTECHNIQUE ANTSIRANANA\n",
    "\n",
    "Devellopeur : RALAIVAHITRINIMANANA Hajarison\n",
    "\n",
    "Date du Projet : Août 2022 à Mars 2023\n",
    "\n",
    "Etapes dans ce projet :\n",
    "\n",
    "    - Collecte des données (son d'Abattage d'arbre, pièrre, Cigale...)\n",
    "    - Segmentation des données \n",
    "    - Prétraitement des données d'abattage (son d'abattage d'arbres) : Numérisation, Normalisation, Filtrage, Fenêtrage, Visualisation\n",
    "    - Prétraitement des autres : Numérisation, Normalisation, Filtrage, Fenêtrage, Visualisation\n",
    "    - Extraction des caractéristiques \n",
    "    - Enregistrement dans un fichiers csv\n",
    "    - Modélisation \n",
    "    - Optimisation \n",
    "    - test de prédiction avec de nouvelle son d'abattage et autre "
   ]
  },
  {
   "cell_type": "code",
   "execution_count": null,
   "id": "83d4cdae",
   "metadata": {},
   "outputs": [],
   "source": []
  }
 ],
 "metadata": {
  "kernelspec": {
   "display_name": "Python 3 (ipykernel)",
   "language": "python",
   "name": "python3"
  },
  "language_info": {
   "codemirror_mode": {
    "name": "ipython",
    "version": 3
   },
   "file_extension": ".py",
   "mimetype": "text/x-python",
   "name": "python",
   "nbconvert_exporter": "python",
   "pygments_lexer": "ipython3",
   "version": "3.9.12"
  }
 },
 "nbformat": 4,
 "nbformat_minor": 5
}
